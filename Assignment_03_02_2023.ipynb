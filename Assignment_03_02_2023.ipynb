{
  "nbformat": 4,
  "nbformat_minor": 0,
  "metadata": {
    "colab": {
      "provenance": []
    },
    "kernelspec": {
      "name": "python3",
      "display_name": "Python 3"
    },
    "language_info": {
      "name": "python"
    }
  },
  "cells": [
    {
      "cell_type": "markdown",
      "source": [
        "1)Which keyword is used to create a function? Create a function to return a list of odd numbers in the \n",
        "range of 1 to 25."
      ],
      "metadata": {
        "id": "Thfi6IkZtdXK"
      }
    },
    {
      "cell_type": "markdown",
      "source": [
        "def is used to create functions in python."
      ],
      "metadata": {
        "id": "VX-qyl9ntjGc"
      }
    },
    {
      "cell_type": "code",
      "execution_count": null,
      "metadata": {
        "colab": {
          "base_uri": "https://localhost:8080/"
        },
        "id": "zQTs_igFtaRJ",
        "outputId": "31e30b62-4496-4ab4-9081-e97df2710ee8"
      },
      "outputs": [
        {
          "output_type": "stream",
          "name": "stdout",
          "text": [
            "[1, 3, 5, 7, 9, 11, 13, 15, 17, 19, 21, 23, 25]\n"
          ]
        }
      ],
      "source": [
        "l =[]\n",
        "for i in range(1,26):\n",
        "  if i%2!=0:\n",
        "    l.append(i)\n",
        "print(l)"
      ]
    },
    {
      "cell_type": "markdown",
      "source": [
        "Q2. Why *args and **kwargs is used in some functions? Create a function each for *args and **kwargs to \n",
        "demonstrate their use."
      ],
      "metadata": {
        "id": "XmPsoMO-uNFB"
      }
    },
    {
      "cell_type": "markdown",
      "source": [
        "  args and *kwargs are used when we are not sure about number of arguments to be passed to function.\n",
        "\n",
        "args is used to pass variable number of non-keyword arguments to function\n",
        "\n"
      ],
      "metadata": {
        "id": "9gxNNM6yvpl3"
      }
    },
    {
      "cell_type": "code",
      "source": [
        "def sum(*args):\n",
        "  total=0\n",
        "  for i in args:\n",
        "    total=total+i \n",
        "  return total\n",
        "\n",
        "print(sum(2,3))\n",
        "print(sum(3,4,5,7))"
      ],
      "metadata": {
        "colab": {
          "base_uri": "https://localhost:8080/"
        },
        "id": "mqOXYaCIt0py",
        "outputId": "8821da15-1b55-4e51-efce-fee92be6f057"
      },
      "execution_count": null,
      "outputs": [
        {
          "output_type": "stream",
          "name": "stdout",
          "text": [
            "5\n",
            "19\n"
          ]
        }
      ]
    },
    {
      "cell_type": "markdown",
      "source": [
        "**kwargs is used to pass variable number of keyword arguments to function"
      ],
      "metadata": {
        "id": "iWrZHUjLxgsv"
      }
    },
    {
      "cell_type": "code",
      "source": [
        "def test(**kwargs):\n",
        "  return kwargs"
      ],
      "metadata": {
        "id": "MHbE_3AaxV6O"
      },
      "execution_count": null,
      "outputs": []
    },
    {
      "cell_type": "code",
      "source": [
        "test(a=12,b=34,c=[1,2,3,4],d=\"Sharath PD\")"
      ],
      "metadata": {
        "colab": {
          "base_uri": "https://localhost:8080/"
        },
        "id": "bS4qQ8zDyLYA",
        "outputId": "6de7e6c3-5986-41dc-bf4e-c41457a6e62b"
      },
      "execution_count": null,
      "outputs": [
        {
          "output_type": "execute_result",
          "data": {
            "text/plain": [
              "{'a': 12, 'b': 34, 'c': [1, 2, 3, 4], 'd': 'Sharath PD'}"
            ]
          },
          "metadata": {},
          "execution_count": 13
        }
      ]
    },
    {
      "cell_type": "code",
      "source": [
        "test(c=[1,2,3,4],d=\"Sharath PD\")"
      ],
      "metadata": {
        "colab": {
          "base_uri": "https://localhost:8080/"
        },
        "id": "18BeNvK0yOVg",
        "outputId": "927276c0-e3d8-4a0a-ed2c-bdbbf3993877"
      },
      "execution_count": null,
      "outputs": [
        {
          "output_type": "execute_result",
          "data": {
            "text/plain": [
              "{'c': [1, 2, 3, 4], 'd': 'Sharath PD'}"
            ]
          },
          "metadata": {},
          "execution_count": 14
        }
      ]
    },
    {
      "cell_type": "markdown",
      "source": [
        "Q3.  What is an iterator in python? Name the method used to initialise the iterator object and the method \n",
        "used for iteration. Use these methods to print the first five elements of the given list [2, 4, 6, 8, 10, 12, 14, 16, \n",
        "18, 20]."
      ],
      "metadata": {
        "id": "R9xHqo_jypoQ"
      }
    },
    {
      "cell_type": "markdown",
      "source": [
        "Iterator is an object that contains countable number of values.\n",
        "iter() is used to initialise the iterator\n",
        "next() method is used for iteration.\n"
      ],
      "metadata": {
        "id": "YmvBrwNszASi"
      }
    },
    {
      "cell_type": "code",
      "source": [
        "list1=[2, 4, 6, 8, 10, 12, 14, 16, 18, 20]\n",
        "myList = iter(list1)\n",
        "n=len(list1)\n",
        "for i in range(10):\n",
        "  print(next(myList),end=\" \")"
      ],
      "metadata": {
        "colab": {
          "base_uri": "https://localhost:8080/"
        },
        "id": "3nHV-6Q3ybjv",
        "outputId": "5b84dd53-d381-4c86-c9a1-9582f4fd67e0"
      },
      "execution_count": null,
      "outputs": [
        {
          "output_type": "stream",
          "name": "stdout",
          "text": [
            "2 4 6 8 10 12 14 16 18 20 "
          ]
        }
      ]
    },
    {
      "cell_type": "markdown",
      "source": [
        "4)  What is a generator function in python? Why yield keyword is used? Give an example of a generator \n",
        "function."
      ],
      "metadata": {
        "id": "IcZpLuGn1r1N"
      }
    },
    {
      "cell_type": "markdown",
      "source": [
        "Generator function is used to declare a function which acts as iterator.\n",
        "\n",
        "Yield function is used to get the data one by one when it called."
      ],
      "metadata": {
        "id": "rOhgvA0c2Rn2"
      }
    },
    {
      "cell_type": "code",
      "source": [
        "def test_feb(n):\n",
        "  a,b=0,1\n",
        "  for i in range(n):\n",
        "    yield a\n",
        "    a,b = b,a+b"
      ],
      "metadata": {
        "id": "aYfVX1FV0Jed"
      },
      "execution_count": null,
      "outputs": []
    },
    {
      "cell_type": "code",
      "source": [
        "test_feb(10)"
      ],
      "metadata": {
        "colab": {
          "base_uri": "https://localhost:8080/"
        },
        "id": "5Fu2R5Ia4LNU",
        "outputId": "3c125d2c-09c5-4bfd-cf75-8c00f3d1eb7a"
      },
      "execution_count": null,
      "outputs": [
        {
          "output_type": "execute_result",
          "data": {
            "text/plain": [
              "<generator object test_feb at 0x7f7b118aa7b0>"
            ]
          },
          "metadata": {},
          "execution_count": 30
        }
      ]
    },
    {
      "cell_type": "code",
      "source": [
        "for i in test_feb(10):\n",
        "  print(i,end=\" \")"
      ],
      "metadata": {
        "colab": {
          "base_uri": "https://localhost:8080/"
        },
        "id": "8-T5Q1r_4M_3",
        "outputId": "59780c58-5c86-41a2-b26c-d39563301833"
      },
      "execution_count": null,
      "outputs": [
        {
          "output_type": "stream",
          "name": "stdout",
          "text": [
            "0 1 1 2 3 5 8 13 21 34 "
          ]
        }
      ]
    },
    {
      "cell_type": "markdown",
      "source": [
        "Q5. Create a generator function for prime numbers less than 1000. Use the next() method to print the \n",
        "first 20 prime numbers."
      ],
      "metadata": {
        "id": "9S7h2aHd4YPs"
      }
    },
    {
      "cell_type": "code",
      "source": [
        "def prime(n):\n",
        "    for i in range(1,n):\n",
        "        count=0\n",
        "        for j in range(1,i+1):\n",
        "           if i%j==0:\n",
        "             count=count+1\n",
        "        if count==2:\n",
        "           yield i"
      ],
      "metadata": {
        "id": "z3d-SRdP4P-V"
      },
      "execution_count": 56,
      "outputs": []
    },
    {
      "cell_type": "code",
      "source": [
        "prime(1000)"
      ],
      "metadata": {
        "colab": {
          "base_uri": "https://localhost:8080/"
        },
        "id": "2457MueuAPB3",
        "outputId": "60212d23-9242-4972-d0ff-9194e907dee1"
      },
      "execution_count": 66,
      "outputs": [
        {
          "output_type": "execute_result",
          "data": {
            "text/plain": [
              "<generator object prime at 0x7f7b1186beb0>"
            ]
          },
          "metadata": {},
          "execution_count": 66
        }
      ]
    },
    {
      "cell_type": "code",
      "source": [
        "for i in prime(1000):\n",
        "  print(i,\",\",end=\" \")"
      ],
      "metadata": {
        "colab": {
          "base_uri": "https://localhost:8080/"
        },
        "id": "ixHdcVffBHQH",
        "outputId": "1a6d8685-a339-47c5-e88c-ec9b6efd4f79"
      },
      "execution_count": 70,
      "outputs": [
        {
          "output_type": "stream",
          "name": "stdout",
          "text": [
            "2 , 3 , 5 , 7 , 11 , 13 , 17 , 19 , 23 , 29 , 31 , 37 , 41 , 43 , 47 , 53 , 59 , 61 , 67 , 71 , 73 , 79 , 83 , 89 , 97 , 101 , 103 , 107 , 109 , 113 , 127 , 131 , 137 , 139 , 149 , 151 , 157 , 163 , 167 , 173 , 179 , 181 , 191 , 193 , 197 , 199 , 211 , 223 , 227 , 229 , 233 , 239 , 241 , 251 , 257 , 263 , 269 , 271 , 277 , 281 , 283 , 293 , 307 , 311 , 313 , 317 , 331 , 337 , 347 , 349 , 353 , 359 , 367 , 373 , 379 , 383 , 389 , 397 , 401 , 409 , 419 , 421 , 431 , 433 , 439 , 443 , 449 , 457 , 461 , 463 , 467 , 479 , 487 , 491 , 499 , 503 , 509 , 521 , 523 , 541 , 547 , 557 , 563 , 569 , 571 , 577 , 587 , 593 , 599 , 601 , 607 , 613 , 617 , 619 , 631 , 641 , 643 , 647 , 653 , 659 , 661 , 673 , 677 , 683 , 691 , 701 , 709 , 719 , 727 , 733 , 739 , 743 , 751 , 757 , 761 , 769 , 773 , 787 , 797 , 809 , 811 , 821 , 823 , 827 , 829 , 839 , 853 , 857 , 859 , 863 , 877 , 881 , 883 , 887 , 907 , 911 , 919 , 929 , 937 , 941 , 947 , 953 , 967 , 971 , 977 , 983 , 991 , 997 , "
          ]
        }
      ]
    },
    {
      "cell_type": "code",
      "source": [
        "count1=0\n",
        "list2=[]\n",
        "for j in prime(1000):\n",
        "  list2.append(j)\n",
        "  count1+=1\n",
        "  if count1==20:\n",
        "    break\n",
        "\n",
        "mylist2 =iter(list2)\n",
        "for i in range(20):\n",
        "  print(next(mylist2),\",\",end=\" \")"
      ],
      "metadata": {
        "colab": {
          "base_uri": "https://localhost:8080/"
        },
        "id": "L3uhpOEnBnC1",
        "outputId": "43d7f05b-3808-4ccb-a92f-94baeb401d2c"
      },
      "execution_count": 79,
      "outputs": [
        {
          "output_type": "stream",
          "name": "stdout",
          "text": [
            "2 , 3 , 5 , 7 , 11 , 13 , 17 , 19 , 23 , 29 , 31 , 37 , 41 , 43 , 47 , 53 , 59 , 61 , 67 , 71 , "
          ]
        }
      ]
    },
    {
      "cell_type": "code",
      "source": [],
      "metadata": {
        "id": "4U0yjD0xCj0o"
      },
      "execution_count": null,
      "outputs": []
    }
  ]
}