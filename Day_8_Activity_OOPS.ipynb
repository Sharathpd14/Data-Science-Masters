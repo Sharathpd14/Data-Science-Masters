{
  "nbformat": 4,
  "nbformat_minor": 0,
  "metadata": {
    "colab": {
      "provenance": []
    },
    "kernelspec": {
      "name": "python3",
      "display_name": "Python 3"
    },
    "language_info": {
      "name": "python"
    }
  },
  "cells": [
    {
      "cell_type": "markdown",
      "source": [
        "# **Object Oriented Programming System**"
      ],
      "metadata": {
        "id": "N8Js6Jd_No25"
      }
    },
    {
      "cell_type": "markdown",
      "source": [
        "**Classes and Objects**"
      ],
      "metadata": {
        "id": "4deDyHjvosxu"
      }
    },
    {
      "cell_type": "code",
      "execution_count": null,
      "metadata": {
        "id": "hupH1XJHLuLA"
      },
      "outputs": [],
      "source": [
        "class test:\n",
        "  pass"
      ]
    },
    {
      "cell_type": "code",
      "source": [
        "a = test()"
      ],
      "metadata": {
        "id": "ygxeqYlmPPrX"
      },
      "execution_count": null,
      "outputs": []
    },
    {
      "cell_type": "code",
      "source": [
        "print(type(a))"
      ],
      "metadata": {
        "colab": {
          "base_uri": "https://localhost:8080/"
        },
        "id": "JiCaPBiOPZ5U",
        "outputId": "e7058958-dbb1-4be8-fa3d-fa7608e89f05"
      },
      "execution_count": null,
      "outputs": [
        {
          "output_type": "stream",
          "name": "stdout",
          "text": [
            "<class '__main__.test'>\n"
          ]
        }
      ]
    },
    {
      "cell_type": "code",
      "source": [
        "class sharath:\n",
        "  def test1(self):\n",
        "    print(\"Hello World\")"
      ],
      "metadata": {
        "id": "O-cO5XROPbLS"
      },
      "execution_count": null,
      "outputs": []
    },
    {
      "cell_type": "code",
      "source": [
        "Sharath = sharath()"
      ],
      "metadata": {
        "id": "nnheBkApP5td"
      },
      "execution_count": null,
      "outputs": []
    },
    {
      "cell_type": "code",
      "source": [
        "Sharath.test1()"
      ],
      "metadata": {
        "colab": {
          "base_uri": "https://localhost:8080/"
        },
        "id": "SGGc90nyP7ae",
        "outputId": "d332c2ad-aed1-493b-f65c-26c4db0ff563"
      },
      "execution_count": null,
      "outputs": [
        {
          "output_type": "stream",
          "name": "stdout",
          "text": [
            "Hello World\n"
          ]
        }
      ]
    },
    {
      "cell_type": "code",
      "source": [
        "sharath().test1()"
      ],
      "metadata": {
        "colab": {
          "base_uri": "https://localhost:8080/"
        },
        "id": "onoX6JbQQQbB",
        "outputId": "b8e179e8-bfed-46de-9087-7e62aadc7e4f"
      },
      "execution_count": null,
      "outputs": [
        {
          "output_type": "stream",
          "name": "stdout",
          "text": [
            "Hello World\n"
          ]
        }
      ]
    },
    {
      "cell_type": "code",
      "source": [
        "a =1\n",
        "b=2"
      ],
      "metadata": {
        "id": "Akx0HujyQkp1"
      },
      "execution_count": null,
      "outputs": []
    },
    {
      "cell_type": "code",
      "source": [
        "a"
      ],
      "metadata": {
        "colab": {
          "base_uri": "https://localhost:8080/"
        },
        "id": "gYluvEjdQtd8",
        "outputId": "2376ac5a-0e2e-4017-d1b2-ec2af9702953"
      },
      "execution_count": null,
      "outputs": [
        {
          "output_type": "execute_result",
          "data": {
            "text/plain": [
              "1"
            ]
          },
          "metadata": {},
          "execution_count": 16
        }
      ]
    },
    {
      "cell_type": "code",
      "source": [
        "b"
      ],
      "metadata": {
        "colab": {
          "base_uri": "https://localhost:8080/"
        },
        "id": "7GEgHy3pQtxh",
        "outputId": "3d217ef7-e321-4493-d91e-69fc428e93d9"
      },
      "execution_count": null,
      "outputs": [
        {
          "output_type": "execute_result",
          "data": {
            "text/plain": [
              "2"
            ]
          },
          "metadata": {},
          "execution_count": 17
        }
      ]
    },
    {
      "cell_type": "code",
      "source": [
        "Karthik = Learn(783083,\"Hello\",232)"
      ],
      "metadata": {
        "id": "ZpwUx06QR1XI"
      },
      "execution_count": null,
      "outputs": []
    },
    {
      "cell_type": "code",
      "source": [
        "class Learn:\n",
        "  \n",
        "    def __init__(self ,phone_number , email_id, student_id ):\n",
        "        \n",
        "        self.phone_number = phone_number\n",
        "        self.email_id = email_id\n",
        "        self.student_id = student_id\n",
        "        \n",
        "    \n",
        "    def return_student_detials(self):\n",
        "        return self.phone_number, self.email_id , self.student_id "
      ],
      "metadata": {
        "id": "zcrU6OA6QuTy"
      },
      "execution_count": null,
      "outputs": []
    },
    {
      "cell_type": "code",
      "source": [
        "class pwskills1:\n",
        "    \n",
        "    def __init__(self ,phone_number , email_id, student_id ):\n",
        "        \n",
        "        self.phone_number = phone_number\n",
        "        self.email_id = email_id\n",
        "        self.student_id = student_id\n",
        "        \n",
        "    \n",
        "    def return_student_detials(self):\n",
        "        return self.phone_number, self.email_id , self.student_id"
      ],
      "metadata": {
        "id": "mRU4DzP7R6sa"
      },
      "execution_count": null,
      "outputs": []
    },
    {
      "cell_type": "code",
      "source": [
        "Karthik =pwskills1(98326765,\"karthik@gmail.com\",234)"
      ],
      "metadata": {
        "id": "k617Qu0cVtSO"
      },
      "execution_count": null,
      "outputs": []
    },
    {
      "cell_type": "code",
      "source": [
        "Karthik.return_student_detials()"
      ],
      "metadata": {
        "colab": {
          "base_uri": "https://localhost:8080/"
        },
        "id": "WUID7AYLV2li",
        "outputId": "4a2ef32b-fbb2-410e-ed24-7869466b9248"
      },
      "execution_count": null,
      "outputs": [
        {
          "output_type": "execute_result",
          "data": {
            "text/plain": [
              "(98326765, 'karthik@gmail.com', 234)"
            ]
          },
          "metadata": {},
          "execution_count": 36
        }
      ]
    },
    {
      "cell_type": "code",
      "source": [
        "class Car:\n",
        "\n",
        "  def __init__(Fav, Car_Color,Car_Weight,Car_top_speed):\n",
        "    Fav.Car_Color = Car_Color\n",
        "    Fav.Car_Weight = Car_Weight\n",
        "    Fav.Car_top_speed= Car_top_speed\n",
        "\n",
        "  def return_car_details(Fav):\n",
        "    return Fav.Car_Color, Fav.Car_Weight, Fav.Car_top_speed"
      ],
      "metadata": {
        "id": "6CzipOgGV67I"
      },
      "execution_count": null,
      "outputs": []
    },
    {
      "cell_type": "code",
      "source": [
        "Benz = Car(\"Red\",\"600 Kgs\",\"200 km/h\")"
      ],
      "metadata": {
        "id": "0dy7jT0kXdHs"
      },
      "execution_count": null,
      "outputs": []
    },
    {
      "cell_type": "code",
      "source": [
        "Benz.return_car_details()"
      ],
      "metadata": {
        "colab": {
          "base_uri": "https://localhost:8080/"
        },
        "id": "fnFumk0jXqC7",
        "outputId": "9e61d18f-e156-4d33-bc22-e2b4ade6a713"
      },
      "execution_count": null,
      "outputs": [
        {
          "output_type": "execute_result",
          "data": {
            "text/plain": [
              "('Red', '600 Kgs', '200 km/h')"
            ]
          },
          "metadata": {},
          "execution_count": 55
        }
      ]
    }
  ]
}