{
  "cells": [
    {
      "cell_type": "markdown",
      "id": "cba1e6e6-727a-46a0-b5d5-3efc46f10a3e",
      "metadata": {
        "id": "cba1e6e6-727a-46a0-b5d5-3efc46f10a3e"
      },
      "source": [
        "Q1. Create a function which will take a list as an argument and return the product of all the numbers \n",
        "after creating a flat list.\n",
        "\n",
        "Use the below-given list as an argument for your function.\n",
        "\n",
        "\n",
        "list1 = [1,2,3,4, [44,55,66, True], False, (34,56,78,89,34), {1,2,3,3,2,1}, {1:34, \"key2\": [55, 67, 78, 89], 4: (45, \n",
        "22, 61, 34)}, [56, 'data science'], 'Machine Learning']\n",
        "\n",
        "\n",
        "Note: you must extract numeric keys and values of the dictionary also"
      ]
    },
    {
      "cell_type": "code",
      "execution_count": 1,
      "id": "c44407ad-6d6d-48af-abef-649edfb95e24",
      "metadata": {
        "colab": {
          "base_uri": "https://localhost:8080/"
        },
        "id": "c44407ad-6d6d-48af-abef-649edfb95e24",
        "outputId": "ab39d314-2880-4192-f9f9-751c72d27c98"
      },
      "outputs": [
        {
          "output_type": "stream",
          "name": "stdout",
          "text": [
            "[1, 2, 3, 4, 44, 55, 66, 34, 56, 78, 89, 34, 1, 2, 3, 1, 4, 34, 55, 67, 78, 89, 45, 22, 61, 34, 56]\n",
            "Product of all the numbers is  4134711838987085478833841242112000\n"
          ]
        }
      ],
      "source": [
        "list2 =[]\n",
        "def take_list(list1):\n",
        "  for i in list1:\n",
        "    if type(i)==dict:\n",
        "      for k in list(i.keys()):\n",
        "        if type(k)==int:\n",
        "          list2.append(k)\n",
        "      for l in list(i.values()):\n",
        "        if type(l)==int:\n",
        "          list2.append(l)\n",
        "        elif type(l)==list:\n",
        "          for m in l:\n",
        "            list2.append(m)\n",
        "        elif type(l)==tuple:\n",
        "          for n in l:\n",
        "            list2.append(n)\n",
        "    elif type(i)==int:\n",
        "      list2.append(i)\n",
        "    elif type(i)==list:\n",
        "      for j in i:\n",
        "        if type(j)==int:\n",
        "          list2.append(j)\n",
        "    elif type(i)==tuple:\n",
        "      for o in i:\n",
        "        if type(o)==int:\n",
        "          list2.append(o)\n",
        "    elif type(i)==set:\n",
        "      a = list(i)\n",
        "      for p in a:\n",
        "        if type(p)==int:\n",
        "          list2.append(p)\n",
        "    else:\n",
        "      pass\n",
        "  print(list2)\n",
        "  r=1\n",
        "  for q in list2:\n",
        "     r=r*q\n",
        "  print(\"Product of all the numbers is \",r)\n",
        "\n",
        "list1 =[1,2,3,4, [44,55,66, True], False, (34,56,78,89,34), {1,2,3,3,2,1}, {1:34, \"key2\": [55, 67, 78, 89], 4: (45, 22, 61, 34)}, [56, 'data science'], 'Machine Learning']\n",
        "take_list(list1) "
      ]
    },
    {
      "cell_type": "markdown",
      "source": [
        "\n",
        "\n",
        "---\n",
        "\n",
        "\n",
        "\n",
        "---\n",
        "\n"
      ],
      "metadata": {
        "id": "ZoHUeI7Gzzv9"
      },
      "id": "ZoHUeI7Gzzv9"
    },
    {
      "cell_type": "markdown",
      "id": "51d14252-ccb9-46d1-b660-5ea2e7b065ba",
      "metadata": {
        "id": "51d14252-ccb9-46d1-b660-5ea2e7b065ba"
      },
      "source": [
        "Q2. Write a python program for encrypting a message sent to you by your friend. The logic of encryption \n",
        "should be such that, for a the output should be z. For b, the output should be y. For c, the output should \n",
        "be x respectively. Also, the whitespace should be replaced with a dollar sign. Keep the punctuation \n",
        "marks unchanged.\n",
        "\n",
        "\n",
        "Input Sentence: I want to become a Data Scientist.\n",
        "\n",
        "\n",
        "Encrypt the above input sentence using the program you just created."
      ]
    },
    {
      "cell_type": "code",
      "execution_count": 2,
      "id": "56c83ea2-7c7a-4ee1-935d-acfe78c7cb1e",
      "metadata": {
        "colab": {
          "base_uri": "https://localhost:8080/"
        },
        "id": "56c83ea2-7c7a-4ee1-935d-acfe78c7cb1e",
        "outputId": "97b768fa-4192-48b7-8db2-e07188009c8e"
      },
      "outputs": [
        {
          "output_type": "stream",
          "name": "stdout",
          "text": [
            "Enter a message I want to become a Data Scientist.\n",
            "Encrypted Message is :\n",
            "r wzmg gl yvxlmv z wzgz hxrvmgrhg.\n"
          ]
        }
      ],
      "source": [
        "dict1={\n",
        "    \"a\":\"z\",\"b\":\"y\",\"c\":\"x\",\"d\":\"w\",\"e\":\"v\",\"f\":\"u\",\"g\":\"t\",\"h\":\"s\",\"i\":\"r\",\"j\":\"q\",\"k\":\"p\",\"l\":\"o\",\"m\":\"n\",\" \":\" \"\n",
        "}\n",
        "dict2 ={\"n\":\"m\",\"o\":\"l\",\"p\":\"k\",\"q\":\"j\",\"r\":\"i\",\"s\":\"h\",\"t\":\"g\",\"u\":\"f\",\"v\":\"e\",\"w\":\"d\",\"x\":\"c\",\"y\":\"b\",\"z\":\"a\",\".\":\".\"}\n",
        "sen1 = input(\"Enter a message \")\n",
        "sen = sen1.lower()\n",
        "for j in sen:\n",
        "  if j in dict1:\n",
        "    sen = sen.replace(j, dict1[j])\n",
        "  elif j in dict2:\n",
        "    sen = sen.replace(j, dict2[j])\n",
        "  else:\n",
        "    pass\n",
        "print(\"Encrypted Message is :\")\n",
        "print(sen)"
      ]
    }
  ],
  "metadata": {
    "kernelspec": {
      "display_name": "Python 3 (ipykernel)",
      "language": "python",
      "name": "python3"
    },
    "language_info": {
      "codemirror_mode": {
        "name": "ipython",
        "version": 3
      },
      "file_extension": ".py",
      "mimetype": "text/x-python",
      "name": "python",
      "nbconvert_exporter": "python",
      "pygments_lexer": "ipython3",
      "version": "3.10.8"
    },
    "colab": {
      "provenance": []
    }
  },
  "nbformat": 4,
  "nbformat_minor": 5
}