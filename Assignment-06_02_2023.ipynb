{
 "cells": [
  {
   "cell_type": "markdown",
   "id": "cba1e6e6-727a-46a0-b5d5-3efc46f10a3e",
   "metadata": {},
   "source": []
  },
  {
   "cell_type": "code",
   "execution_count": 5,
   "id": "c44407ad-6d6d-48af-abef-649edfb95e24",
   "metadata": {},
   "outputs": [
    {
     "name": "stdout",
     "output_type": "stream",
     "text": [
      "[1, 2, 3, 4, 44, 55, 66, 34, 56, 78, 89, 34, 1, 2, 3, 1, 4, 34, 55, 67, 78, 89, 45, 22, 61, 34, 56]\n",
      "Product of all the numbers is  4134711838987085478833841242112000\n"
     ]
    }
   ],
   "source": [
    "list2 =[]\n",
    "def take_list(list1):\n",
    "  for i in list1:\n",
    "    if type(i)==dict:\n",
    "      for k in list(i.keys()):\n",
    "        if type(k)==int:\n",
    "          list2.append(k)\n",
    "      for l in list(i.values()):\n",
    "        if type(l)==int:\n",
    "          list2.append(l)\n",
    "        elif type(l)==list:\n",
    "          for m in l:\n",
    "            list2.append(m)\n",
    "        elif type(l)==tuple:\n",
    "          for n in l:\n",
    "            list2.append(n)\n",
    "    elif type(i)==int:\n",
    "      list2.append(i)\n",
    "    elif type(i)==list:\n",
    "      for j in i:\n",
    "        if type(j)==int:\n",
    "          list2.append(j)\n",
    "    elif type(i)==tuple:\n",
    "      for o in i:\n",
    "        if type(o)==int:\n",
    "          list2.append(o)\n",
    "    elif type(i)==set:\n",
    "      a = list(i)\n",
    "      for p in a:\n",
    "        if type(p)==int:\n",
    "          list2.append(p)\n",
    "    else:\n",
    "      pass\n",
    "  print(list2)\n",
    "  r=1\n",
    "  for q in list2:\n",
    "     r=r*q\n",
    "  print(\"Product of all the numbers is \",r)\n",
    "\n",
    "list1 =[1,2,3,4, [44,55,66, True], False, (34,56,78,89,34), {1,2,3,3,2,1}, {1:34, \"key2\": [55, 67, 78, 89], 4: (45, 22, 61, 34)}, [56, 'data science'], 'Machine Learning']\n",
    "take_list(list1) "
   ]
  },
  {
   "cell_type": "code",
   "execution_count": null,
   "id": "188d84d5-db4b-44d4-ac98-b78499825699",
   "metadata": {},
   "outputs": [],
   "source": []
  },
  {
   "cell_type": "code",
   "execution_count": null,
   "id": "56c83ea2-7c7a-4ee1-935d-acfe78c7cb1e",
   "metadata": {},
   "outputs": [],
   "source": []
  }
 ],
 "metadata": {
  "kernelspec": {
   "display_name": "Python 3 (ipykernel)",
   "language": "python",
   "name": "python3"
  },
  "language_info": {
   "codemirror_mode": {
    "name": "ipython",
    "version": 3
   },
   "file_extension": ".py",
   "mimetype": "text/x-python",
   "name": "python",
   "nbconvert_exporter": "python",
   "pygments_lexer": "ipython3",
   "version": "3.10.8"
  }
 },
 "nbformat": 4,
 "nbformat_minor": 5
}
