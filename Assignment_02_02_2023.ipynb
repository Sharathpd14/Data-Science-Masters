{
  "cells": [
    {
      "cell_type": "raw",
      "id": "27543be3",
      "metadata": {
        "id": "27543be3"
      },
      "source": [
        "1) What are the characteristics of tuples.? Is tuple is immutable.?"
      ]
    },
    {
      "cell_type": "raw",
      "id": "7ce45582",
      "metadata": {
        "id": "7ce45582"
      },
      "source": [
        "1. Tuple uses parentheses to store elements.\n",
        "2. Tuples are ordered.\n",
        "3. It can contain duplicate elements.\n",
        "4. It is faster than lists.\n",
        "\n",
        "Yes, tuples are immutable.\n"
      ]
    },
    {
      "cell_type": "raw",
      "id": "b1ded65a",
      "metadata": {
        "id": "b1ded65a"
      },
      "source": [
        "2) What are the two tuple methods in python.? Give an example for each method. Give a reason why tuples have only two built-in methods as compared to lists."
      ]
    },
    {
      "cell_type": "code",
      "execution_count": null,
      "id": "e9d67465",
      "metadata": {
        "id": "e9d67465",
        "outputId": "30aecac2-7c07-48f2-8916-2c223b365a22"
      },
      "outputs": [
        {
          "data": {
            "text/plain": [
              "3"
            ]
          },
          "execution_count": 2,
          "metadata": {},
          "output_type": "execute_result"
        }
      ],
      "source": [
        "# 1) count()\n",
        "#Example:- \n",
        "t1=(\"Hello\",1,2,3,4,5+4j,3,4,5,3,True)\n",
        "t1.count(3)\n",
        "\n"
      ]
    },
    {
      "cell_type": "code",
      "execution_count": null,
      "id": "d0cb9526",
      "metadata": {
        "id": "d0cb9526",
        "outputId": "9eecdfc4-d97d-4a89-85d3-21602e257c6d"
      },
      "outputs": [
        {
          "data": {
            "text/plain": [
              "2"
            ]
          },
          "execution_count": 3,
          "metadata": {},
          "output_type": "execute_result"
        }
      ],
      "source": [
        "# 2) index()\n",
        "# Example:- \n",
        "t1.index(2)\n"
      ]
    },
    {
      "cell_type": "raw",
      "id": "8c1e52d2",
      "metadata": {
        "id": "8c1e52d2"
      },
      "source": [
        "3) Which collection datatypes in python do not allow duplicate items? Write a code using a set to remove duplicates from the given list?\n",
        "   In sets duplicate elements are not allowed. "
      ]
    },
    {
      "cell_type": "code",
      "execution_count": null,
      "id": "99d71976",
      "metadata": {
        "id": "99d71976"
      },
      "outputs": [],
      "source": [
        "List = [1, 1, 1, 2, 1, 3, 1, 4, 2, 1, 2, 2, 2, 3, 2, 4, 3, 1, 3, 2, 3, 3, 3, 4, 4, 1, 4, 2, 4, 3, 4, 4]"
      ]
    },
    {
      "cell_type": "code",
      "execution_count": null,
      "id": "0d8575d1",
      "metadata": {
        "id": "0d8575d1",
        "outputId": "5b505878-a86d-4062-c1ef-a0c9533019ba"
      },
      "outputs": [
        {
          "data": {
            "text/plain": [
              "{1, 2, 3, 4}"
            ]
          },
          "execution_count": 5,
          "metadata": {},
          "output_type": "execute_result"
        }
      ],
      "source": [
        "set(List)"
      ]
    },
    {
      "cell_type": "code",
      "execution_count": null,
      "id": "1e440ee2",
      "metadata": {
        "id": "1e440ee2"
      },
      "outputs": [],
      "source": [
        "4) Explain the difference between the union() and update() methods for a set. Give an example of each method.\n",
        "       union() method create a new set and returns it."
      ]
    },
    {
      "cell_type": "code",
      "execution_count": null,
      "id": "eb0cc3b1",
      "metadata": {
        "id": "eb0cc3b1",
        "outputId": "54728a0a-5d7a-4ad7-be11-cd6835f38a75"
      },
      "outputs": [
        {
          "name": "stdout",
          "output_type": "stream",
          "text": [
            "{1, 2, 3, 4, 5, 6, 7, 8, 9}\n"
          ]
        }
      ],
      "source": [
        " # union example \n",
        "A = {1,2,3,4,5}\n",
        "B = {4,5,6,7,8,9}\n",
        "S = A.union(B)\n",
        "print(S)"
      ]
    },
    {
      "cell_type": "code",
      "execution_count": null,
      "id": "72acdd7f",
      "metadata": {
        "id": "72acdd7f",
        "outputId": "c49b096a-e99e-443e-b072-25b16e38979a"
      },
      "outputs": [
        {
          "name": "stdout",
          "output_type": "stream",
          "text": [
            "{1, 2, 3, 4, 5, 6, 7, 8, 9}\n"
          ]
        }
      ],
      "source": [
        "# update() method is used to update existing set.\n",
        "# example\n",
        "A = {1,2,3,4,5}\n",
        "B = {4,5,6,7,8,9}\n",
        "A.update(B)\n",
        "print(A)"
      ]
    },
    {
      "cell_type": "raw",
      "id": "713bd128",
      "metadata": {
        "id": "713bd128"
      },
      "source": [
        "5) What is a dictionary? Give an example. Also, state whether a dictionary is ordered or unordered.?"
      ]
    },
    {
      "cell_type": "raw",
      "id": "784c26e2",
      "metadata": {
        "id": "784c26e2"
      },
      "source": [
        " Dictionary is collection of elements containing keys and values, which is stored in curly brackets. \n",
        "    Ex:- names={ 1: ”Sharath”,2: ”Nithish” }\n",
        "   Dictionaries are unordered.\n"
      ]
    },
    {
      "cell_type": "code",
      "execution_count": null,
      "id": "fc724699",
      "metadata": {
        "id": "fc724699"
      },
      "outputs": [],
      "source": [
        "6) Can we create a nested dictionary? If so, please give an example by creating a simple one-level nested dictionary\n",
        "      Yes we can create nested dictionaries."
      ]
    },
    {
      "cell_type": "code",
      "execution_count": null,
      "id": "94bcef07",
      "metadata": {
        "id": "94bcef07",
        "outputId": "ad9e7035-8a3b-4f58-ff3a-30b322286152"
      },
      "outputs": [
        {
          "name": "stdout",
          "output_type": "stream",
          "text": [
            "{'names': {'Nithish', 'Anvith', 'Sharath'}}\n"
          ]
        }
      ],
      "source": [
        "dict1  = {\"names\":{\"Sharath\",\"Nithish\",\"Anvith\"}}\n",
        "print(dict1)"
      ]
    },
    {
      "cell_type": "raw",
      "id": "54c677f1",
      "metadata": {
        "id": "54c677f1"
      },
      "source": [
        "7)  Using setdefault() method, create key named topics in the given dictionary and also add the value of the key as this list ['Python', 'Machine Learning’, 'Deep Learning']"
      ]
    },
    {
      "cell_type": "code",
      "execution_count": null,
      "id": "af2b816b",
      "metadata": {
        "id": "af2b816b",
        "outputId": "9452b833-e77e-401a-c1fe-df6a87d760d7"
      },
      "outputs": [
        {
          "name": "stdout",
          "output_type": "stream",
          "text": [
            "{'language': 'Python', 'course': 'Data Science Masters', 'topics': ['Python', 'Machine Learning', 'Deep Learning']}\n"
          ]
        }
      ],
      "source": [
        "dict1 = {'language' : 'Python', 'course': 'Data Science Masters'}\n",
        "dict1.setdefault(\"topics\", ['Python', 'Machine Learning', 'Deep Learning'])\n",
        "print(dict1)\n"
      ]
    },
    {
      "cell_type": "raw",
      "id": "317b4e01",
      "metadata": {
        "id": "317b4e01"
      },
      "source": [
        "8)  What are the three view objects in dictionaries? Use the three in-built methods in python to display these three view objects for the given dictionary. dict1 = {'Sport': 'Cricket' , 'Teams': ['India', 'Australia', 'England', 'South Africa', 'Sri Lanka', 'New Zealand']}"
      ]
    },
    {
      "cell_type": "raw",
      "id": "f8d95e5c",
      "metadata": {
        "id": "f8d95e5c"
      },
      "source": [
        "Three view objects of dictionaries are keys, values, and items.  "
      ]
    },
    {
      "cell_type": "code",
      "execution_count": null,
      "id": "0ee98603",
      "metadata": {
        "id": "0ee98603"
      },
      "outputs": [],
      "source": [
        "dict1 = {'Sport': 'Cricket' , 'Teams': ['India', 'Australia', 'England', 'South Africa', 'Sri Lanka', 'New Zealand']}"
      ]
    },
    {
      "cell_type": "code",
      "execution_count": null,
      "id": "1e3c3c48",
      "metadata": {
        "id": "1e3c3c48",
        "outputId": "ceb1f3d9-c043-40b0-8248-fa3ca4bebefc"
      },
      "outputs": [
        {
          "data": {
            "text/plain": [
              "dict_keys(['Sport', 'Teams'])"
            ]
          },
          "execution_count": 12,
          "metadata": {},
          "output_type": "execute_result"
        }
      ],
      "source": [
        "dict1.keys()"
      ]
    },
    {
      "cell_type": "code",
      "execution_count": null,
      "id": "dbb021c2",
      "metadata": {
        "id": "dbb021c2",
        "outputId": "a9a278df-1769-43f1-a98d-fc9f703e1eec"
      },
      "outputs": [
        {
          "data": {
            "text/plain": [
              "dict_values(['Cricket', ['India', 'Australia', 'England', 'South Africa', 'Sri Lanka', 'New Zealand']])"
            ]
          },
          "execution_count": 13,
          "metadata": {},
          "output_type": "execute_result"
        }
      ],
      "source": [
        "dict1.values()"
      ]
    },
    {
      "cell_type": "code",
      "execution_count": null,
      "id": "133b5c14",
      "metadata": {
        "id": "133b5c14",
        "outputId": "12fd20e4-96a4-4d60-8bb5-8c7650e90d13"
      },
      "outputs": [
        {
          "data": {
            "text/plain": [
              "dict_items([('Sport', 'Cricket'), ('Teams', ['India', 'Australia', 'England', 'South Africa', 'Sri Lanka', 'New Zealand'])])"
            ]
          },
          "execution_count": 14,
          "metadata": {},
          "output_type": "execute_result"
        }
      ],
      "source": [
        "dict1.items()"
      ]
    },
    {
      "cell_type": "code",
      "execution_count": null,
      "id": "04f4573a",
      "metadata": {
        "id": "04f4573a"
      },
      "outputs": [],
      "source": []
    }
  ],
  "metadata": {
    "kernelspec": {
      "display_name": "Python 3 (ipykernel)",
      "language": "python",
      "name": "python3"
    },
    "language_info": {
      "codemirror_mode": {
        "name": "ipython",
        "version": 3
      },
      "file_extension": ".py",
      "mimetype": "text/x-python",
      "name": "python",
      "nbconvert_exporter": "python",
      "pygments_lexer": "ipython3",
      "version": "3.9.13"
    },
    "colab": {
      "provenance": []
    }
  },
  "nbformat": 4,
  "nbformat_minor": 5
}