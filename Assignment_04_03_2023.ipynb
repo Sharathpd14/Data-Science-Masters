{
  "nbformat": 4,
  "nbformat_minor": 0,
  "metadata": {
    "colab": {
      "provenance": []
    },
    "kernelspec": {
      "name": "python3",
      "display_name": "Python 3"
    },
    "language_info": {
      "name": "python"
    }
  },
  "cells": [
    {
      "cell_type": "markdown",
      "source": [
        "Q1. Create a python program to sort the given list of tuples based on integer value using a \n",
        "lambda function. \n",
        "\n",
        "\n",
        "[('Sachin Tendulkar', 34357), ('Ricky Ponting', 27483), ('Jack Kallis', 25534), ('Virat Kohli', 24936)]"
      ],
      "metadata": {
        "id": "stHw2I47FtbP"
      }
    },
    {
      "cell_type": "code",
      "source": [
        "list1 =[('Sachin Tendulkar', 34357), ('Ricky Ponting', 27483), ('Jack Kallis', 25534), ('Virat Kohli', 24936)]\n",
        "list1.sort(key=lambda x: x[1])\n",
        "print(list1)"
      ],
      "metadata": {
        "colab": {
          "base_uri": "https://localhost:8080/"
        },
        "id": "KvjkimpZVRld",
        "outputId": "e9b59227-b04f-4487-cc28-d1157ba7427a"
      },
      "execution_count": null,
      "outputs": [
        {
          "output_type": "stream",
          "name": "stdout",
          "text": [
            "[('Virat Kohli', 24936), ('Jack Kallis', 25534), ('Ricky Ponting', 27483), ('Sachin Tendulkar', 34357)]\n"
          ]
        }
      ]
    },
    {
      "cell_type": "markdown",
      "source": [
        "Q2 Write a Python Program to find the squares of all the numbers in the given list of integers using \n",
        "lambda and map functions.\n",
        "\n",
        "\n",
        "[1, 2, 3, 4, 5, 6, 7, 8, 9, 10]"
      ],
      "metadata": {
        "id": "iDkBe1HwWj-r"
      }
    },
    {
      "cell_type": "code",
      "source": [
        "def square(x):\n",
        "  return x**2"
      ],
      "metadata": {
        "id": "oc_zQTCCWTpx"
      },
      "execution_count": null,
      "outputs": []
    },
    {
      "cell_type": "code",
      "source": [
        "list2=[1, 2, 3, 4, 5, 6, 7, 8, 9, 10]\n",
        "list(map(square, list2))"
      ],
      "metadata": {
        "colab": {
          "base_uri": "https://localhost:8080/"
        },
        "id": "unU_QE91X2Op",
        "outputId": "95368f90-ab8a-4380-8f39-8f50a37fafc5"
      },
      "execution_count": null,
      "outputs": [
        {
          "output_type": "execute_result",
          "data": {
            "text/plain": [
              "[1, 4, 9, 16, 25, 36, 49, 64, 81, 100]"
            ]
          },
          "metadata": {},
          "execution_count": 18
        }
      ]
    },
    {
      "cell_type": "markdown",
      "source": [
        "Q3. Write a python program to convert the given list of integers into a tuple of strings. Use map and \n",
        "lambda functions\n",
        "\n",
        "\n",
        "Given String: [1, 2, 3, 4, 5, 6, 7, 8, 9, 10]\n",
        "\n",
        "Expected output: ('1', '2', '3', '4', '5', '6', '7', '8', '9', '10')"
      ],
      "metadata": {
        "id": "YA85j309YLnF"
      }
    },
    {
      "cell_type": "code",
      "source": [
        "list3=[1, 2, 3, 4, 5, 6, 7, 8, 9, 10]\n",
        "tuple(map(lambda y: str(y),list3))"
      ],
      "metadata": {
        "colab": {
          "base_uri": "https://localhost:8080/"
        },
        "id": "KrU4Sh72X-VB",
        "outputId": "e0326869-9dc5-485e-f7ea-5728fb922b55"
      },
      "execution_count": null,
      "outputs": [
        {
          "output_type": "execute_result",
          "data": {
            "text/plain": [
              "('1', '2', '3', '4', '5', '6', '7', '8', '9', '10')"
            ]
          },
          "metadata": {},
          "execution_count": 20
        }
      ]
    },
    {
      "cell_type": "markdown",
      "source": [
        "Q4.  Write a python program using reduce function to compute the product of a list containing numbers \n",
        "from 1 to 25."
      ],
      "metadata": {
        "id": "UZzx6YNdZLnD"
      }
    },
    {
      "cell_type": "code",
      "source": [
        "from functools import reduce\n",
        "list4=[]\n",
        "for i in range(1,26):\n",
        "  list4.append(i)\n",
        "reduce(lambda x,y:x+y , list4)"
      ],
      "metadata": {
        "colab": {
          "base_uri": "https://localhost:8080/"
        },
        "id": "MEv06GixhxsR",
        "outputId": "6581ab95-3e55-432c-820a-346408eeb63d"
      },
      "execution_count": 22,
      "outputs": [
        {
          "output_type": "execute_result",
          "data": {
            "text/plain": [
              "325"
            ]
          },
          "metadata": {},
          "execution_count": 22
        }
      ]
    },
    {
      "cell_type": "markdown",
      "source": [
        "Q5) Write a python program to filter the numbers in a given list that are divisible by 2 and 3 using the \n",
        "filter function.\n",
        "\n",
        "\n",
        "[2, 3, 6, 9, 27, 60, 90, 120, 55, 46]"
      ],
      "metadata": {
        "id": "yib3acQMiNP1"
      }
    },
    {
      "cell_type": "code",
      "source": [
        "list5 =[2, 3, 6, 9, 27, 60, 90, 120, 55, 46]\n",
        "list(filter(lambda x: x%2==0 and x%3==0, list5))"
      ],
      "metadata": {
        "colab": {
          "base_uri": "https://localhost:8080/"
        },
        "id": "Ny60jjSkiG_w",
        "outputId": "770cb021-7d21-417c-d613-eeaac1fee920"
      },
      "execution_count": 27,
      "outputs": [
        {
          "output_type": "execute_result",
          "data": {
            "text/plain": [
              "[6, 60, 90, 120]"
            ]
          },
          "metadata": {},
          "execution_count": 27
        }
      ]
    },
    {
      "cell_type": "markdown",
      "source": [
        "Q6. Write a python program to find palindromes in the given list of strings using lambda and filter \n",
        "function.\n",
        "\n",
        "\n",
        "['python', 'php', 'aba', 'radar', 'level']"
      ],
      "metadata": {
        "id": "_w5Zqvwjjwbq"
      }
    },
    {
      "cell_type": "code",
      "source": [
        "list6=['python', 'php', 'aba', 'radar', 'level']\n",
        "list(filter(lambda x: x==x[::-1] , list6))"
      ],
      "metadata": {
        "colab": {
          "base_uri": "https://localhost:8080/"
        },
        "id": "Nfdpn633jUJJ",
        "outputId": "3fb68cb5-c36e-4109-c817-49af324461fd"
      },
      "execution_count": 28,
      "outputs": [
        {
          "output_type": "execute_result",
          "data": {
            "text/plain": [
              "['php', 'aba', 'radar', 'level']"
            ]
          },
          "metadata": {},
          "execution_count": 28
        }
      ]
    }
  ]
}