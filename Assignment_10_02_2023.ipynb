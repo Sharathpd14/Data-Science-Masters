{
 "cells": [
  {
   "cell_type": "markdown",
   "id": "3814adac-3585-40a4-a32a-b3f7fbb68405",
   "metadata": {},
   "source": [
    "**Q1. Which function is used to open a file? What are the different modes of opening a file? Explain each mode \n",
    "of file opening.**"
   ]
  },
  {
   "cell_type": "markdown",
   "id": "718473e5-3fe4-4a21-afe2-9d2da4f733cc",
   "metadata": {},
   "source": [
    "open() is used to open a file.\n",
    "\n",
    "r = Open a file to read only\n",
    "\n",
    "w = Open's file to write\n",
    "\n",
    "a = Used to append inputs to the existing file . If no existing file, creats new file\n",
    "\n",
    "x = Open a file for exclusive creation . It fails when file already exist.\n",
    "\n",
    "t = Open in text mode\n",
    "\n",
    "b = Open in binary mode\n",
    "\n",
    "\"+\" = open for both read and write"
   ]
  },
  {
   "cell_type": "markdown",
   "id": "ef4bb785-d089-48bb-894a-90b38daf8c16",
   "metadata": {},
   "source": [
    "**Q2. Why close() function is used? Why is it important to close a file?**"
   ]
  },
  {
   "cell_type": "markdown",
   "id": "d3c057ce-ae42-41ee-97a1-3327120919d3",
   "metadata": {},
   "source": [
    "When we do writing part in a file, to save the inputs in file we use close() function.\n",
    "\n",
    "If we do not use close() function after writing operation, it will not be saved in the file"
   ]
  },
  {
   "cell_type": "markdown",
   "id": "1bec4fd4-6ee6-4a39-b46d-60dcbd21661a",
   "metadata": {},
   "source": [
    "**Q3. Write a python program to create a text file. Write ‘I want to become a Data Scientist’ in that file. Then \n",
    "close the file. Open this file and read the content of the file.** "
   ]
  },
  {
   "cell_type": "code",
   "execution_count": 1,
   "id": "ede2eb6a-72d6-492d-9def-6695c2aaa1b0",
   "metadata": {},
   "outputs": [],
   "source": [
    "file = open(\"new_text_assignment.txt\",\"a\")"
   ]
  },
  {
   "cell_type": "code",
   "execution_count": 2,
   "id": "a9256e8f-515f-44cb-a699-bf937f0ca01f",
   "metadata": {},
   "outputs": [
    {
     "data": {
      "text/plain": [
       "33"
      ]
     },
     "execution_count": 2,
     "metadata": {},
     "output_type": "execute_result"
    }
   ],
   "source": [
    "file.write(\"I want to become a Data Scientist\")"
   ]
  },
  {
   "cell_type": "code",
   "execution_count": 3,
   "id": "4a2ac157-26e1-48b7-9721-e000ca733a4b",
   "metadata": {},
   "outputs": [],
   "source": [
    "file.close()"
   ]
  },
  {
   "cell_type": "code",
   "execution_count": 6,
   "id": "3d8bcc96-55ac-4994-9c4f-4bb3f4d11372",
   "metadata": {},
   "outputs": [],
   "source": [
    "file = open(\"new_text_assignment.txt\",\"r\")"
   ]
  },
  {
   "cell_type": "code",
   "execution_count": 7,
   "id": "e91150fc-039c-4010-b13a-cf30f3d73965",
   "metadata": {},
   "outputs": [
    {
     "data": {
      "text/plain": [
       "'I want to become a Data Scientist'"
      ]
     },
     "execution_count": 7,
     "metadata": {},
     "output_type": "execute_result"
    }
   ],
   "source": [
    "file.read()"
   ]
  },
  {
   "cell_type": "markdown",
   "id": "4cb2afd9-55db-48ec-8221-5d30d13b3a8e",
   "metadata": {},
   "source": [
    "**Q4. Explain the following with python code: read(), readline() and readlines().**"
   ]
  },
  {
   "cell_type": "markdown",
   "id": "8415eed9-085b-4906-abda-3aa0d1aa2527",
   "metadata": {},
   "source": [
    "read() = read() function returns a specified number of bytes.\n",
    "\n",
    "readline() = readline() function returns a line from a file. We can specify the number of bytes to return.\n",
    "\n",
    "readlines() = readlines() function returns list containg each line of a file."
   ]
  },
  {
   "cell_type": "markdown",
   "id": "276b884f-8510-4b15-b7e3-15f65d1cea34",
   "metadata": {},
   "source": [
    "**Q5. Explain why with statement is used with open(). What is the advantage of using with statement and \n",
    "open() together?**"
   ]
  },
  {
   "cell_type": "markdown",
   "id": "41e85697-52d8-40fb-a690-21f18449f7f8",
   "metadata": {},
   "source": [
    "with open() is an another way to read a file. \n",
    "\n",
    "without close() function we can close the file and file can be opened.\n",
    "\n",
    "with function contains 2 built in methods i.e enter() and exit()\n",
    "\n",
    "#### Advantage\n",
    "\n",
    "file can be closed without calling close() function"
   ]
  },
  {
   "cell_type": "markdown",
   "id": "844ed5f7-9207-467f-b767-5ac70e94b0f4",
   "metadata": {},
   "source": [
    "**Q6. Explain the write() and writelines() functions. Give a suitable example.**"
   ]
  },
  {
   "cell_type": "markdown",
   "id": "61edc887-cf56-4877-a815-897a6f1a10b0",
   "metadata": {},
   "source": [
    "write() method is used to write strings input into the file.\n",
    "\n",
    "writelines() method is used to write list of items into the file"
   ]
  }
 ],
 "metadata": {
  "kernelspec": {
   "display_name": "Python 3 (ipykernel)",
   "language": "python",
   "name": "python3"
  },
  "language_info": {
   "codemirror_mode": {
    "name": "ipython",
    "version": 3
   },
   "file_extension": ".py",
   "mimetype": "text/x-python",
   "name": "python",
   "nbconvert_exporter": "python",
   "pygments_lexer": "ipython3",
   "version": "3.10.8"
  }
 },
 "nbformat": 4,
 "nbformat_minor": 5
}
