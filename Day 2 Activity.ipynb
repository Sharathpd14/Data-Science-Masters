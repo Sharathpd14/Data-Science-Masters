{
 "cells": [
  {
   "cell_type": "code",
   "execution_count": 8,
   "id": "fdc45bbd-1ccb-49f9-a846-d6e6ff55f635",
   "metadata": {},
   "outputs": [],
   "source": [
    "name=\"Sharath PD\"\n",
    "age = 21\n",
    "Degree = \"Btech\""
   ]
  },
  {
   "cell_type": "code",
   "execution_count": 7,
   "id": "eded50d6-ad8a-4f82-abfe-0d5d7e3f1d1e",
   "metadata": {},
   "outputs": [
    {
     "name": "stdout",
     "output_type": "stream",
     "text": [
      " My name is Sharath PD\n",
      " Age is 21 \n",
      " Degree is Btech\n"
     ]
    }
   ],
   "source": [
    "print(\" My name is {}\\n Age is {} \\n Degree is {}\".format(name,age,Degree))"
   ]
  },
  {
   "cell_type": "code",
   "execution_count": 16,
   "id": "6b58279e-e721-4aed-bc08-5d8b8f85487b",
   "metadata": {},
   "outputs": [
    {
     "name": "stdout",
     "output_type": "stream",
     "text": [
      "Your age is 19 So... You are eligible to vote\n"
     ]
    }
   ],
   "source": [
    "age = 19\n",
    "if age >=18 :\n",
    "    print(\"Your age is {} So... You are eligible to vote\".format(age))"
   ]
  },
  {
   "cell_type": "code",
   "execution_count": 17,
   "id": "fe0095dc-d20d-4b55-9568-4a6367671a6a",
   "metadata": {},
   "outputs": [
    {
     "name": "stdin",
     "output_type": "stream",
     "text": [
      "Enter age 19\n"
     ]
    },
    {
     "name": "stdout",
     "output_type": "stream",
     "text": [
      "You are Young Blood\n"
     ]
    }
   ],
   "source": [
    "age =int(input(\"Enter age\"))\n",
    "if age >=18 and age<=45:\n",
    "    print(\"You are Young Blood\")"
   ]
  },
  {
   "cell_type": "code",
   "execution_count": 2,
   "id": "5701ee44-490d-404d-a015-a913f87aa5dd",
   "metadata": {},
   "outputs": [
    {
     "name": "stdin",
     "output_type": "stream",
     "text": [
      "Enter age 10\n"
     ]
    },
    {
     "name": "stdout",
     "output_type": "stream",
     "text": [
      "No u r not yound blood\n"
     ]
    }
   ],
   "source": [
    "age =int(input(\"Enter age\"))\n",
    "if age >=18 and age<=45:\n",
    "    print(\"You are Young Blood\")\n",
    "else:\n",
    "        print(\"No u r not yound blood\")"
   ]
  },
  {
   "cell_type": "code",
   "execution_count": 3,
   "id": "1d07cdb9-c8ca-4b91-b8ca-74b0cd5ba858",
   "metadata": {},
   "outputs": [
    {
     "name": "stdin",
     "output_type": "stream",
     "text": [
      "Enter your product price 900\n"
     ]
    },
    {
     "name": "stdout",
     "output_type": "stream",
     "text": [
      "630.0\n"
     ]
    }
   ],
   "source": [
    "Money = int(input(\"Enter your product price\"))\n",
    "if Money>=1000:\n",
    "    dis = Money-Money*0.2\n",
    "    print(dis)\n",
    "else:\n",
    "    dis1 = Money-Money*0.3\n",
    "    print(dis1)"
   ]
  },
  {
   "cell_type": "code",
   "execution_count": 4,
   "id": "f57c6126-8893-4729-975c-5521245c1e9b",
   "metadata": {},
   "outputs": [
    {
     "name": "stdin",
     "output_type": "stream",
     "text": [
      "Enter your product price 2000\n"
     ]
    },
    {
     "name": "stdout",
     "output_type": "stream",
     "text": [
      "Your bill is 1600.0\n"
     ]
    }
   ],
   "source": [
    "Price= int(input(\"Enter your product price\"))\n",
    "if Price>=1000:\n",
    "    print(f\"Your bill is {Price-Price*0.2}\")\n",
    "else:\n",
    "    print(\"Your bill is {}\".format(Price-Price*0.3))"
   ]
  },
  {
   "cell_type": "code",
   "execution_count": 5,
   "id": "989a24d1-dd64-4d04-b242-7b5331e451b1",
   "metadata": {},
   "outputs": [
    {
     "name": "stdin",
     "output_type": "stream",
     "text": [
      "Enter Product price 2999\n"
     ]
    },
    {
     "name": "stdout",
     "output_type": "stream",
     "text": [
      "Congratulations.. You got a special gift\n",
      "Your bill is 2099.3\n"
     ]
    }
   ],
   "source": [
    "product_price = int(input(\"Enter Product price\"))\n",
    "if product_price>3000:\n",
    "      print(f\"Your bill is {product_price-product_price*0.3}\")\n",
    "elif product_price>2000 and product_price<=3000:\n",
    "    if product_price==2999:\n",
    "        print(\"Congratulations.. You got a special gift\")\n",
    "    print(f\"Your bill is {product_price-product_price*0.3}\")\n",
    "elif product_price>100 and product_price<=2000:\n",
    "    print(f\"Your bill is {product_price-product_price*0.4}\")\n",
    "else:\n",
    "    print(\"No discount\")"
   ]
  },
  {
   "cell_type": "markdown",
   "id": "2fb00876-f339-4729-8f04-d6d06242ae99",
   "metadata": {},
   "source": [
    "### Loop Statements"
   ]
  },
  {
   "cell_type": "code",
   "execution_count": 29,
   "id": "2dd7ea34-534e-4a7f-a33e-58bfc69524e3",
   "metadata": {},
   "outputs": [
    {
     "name": "stdout",
     "output_type": "stream",
     "text": [
      "22\n",
      "Now your age is 22 You can marry now\n"
     ]
    }
   ],
   "source": [
    "#while loop\n",
    "Age = 11\n",
    "i=1\n",
    "while Age<=21:\n",
    "     Age=Age+1\n",
    "print(Age)\n",
    "    \n",
    "print(f\"Now your age is {Age} You can marry now\")"
   ]
  },
  {
   "cell_type": "code",
   "execution_count": 44,
   "id": "4143b26e-967e-48c0-a9d1-657a89848a76",
   "metadata": {},
   "outputs": [],
   "source": [
    "Anything_list = [\"Sharath\",\"PD\",\"Nair\",\"Suha\",\"Apple\",190,21.162]\n",
    "## list = its a kind of basket contains anything."
   ]
  },
  {
   "cell_type": "code",
   "execution_count": 46,
   "id": "ab8f2e1c-486c-4f23-b046-1db296c67a58",
   "metadata": {},
   "outputs": [
    {
     "data": {
      "text/plain": [
       "['Sharath', 'PD', 'Nair', 'Suha', 'Apple', 190, 21.162]"
      ]
     },
     "execution_count": 46,
     "metadata": {},
     "output_type": "execute_result"
    }
   ],
   "source": [
    "Anything_list"
   ]
  },
  {
   "cell_type": "code",
   "execution_count": 49,
   "id": "3084d693-bdd2-4c66-b646-bf7e37da5bf8",
   "metadata": {},
   "outputs": [
    {
     "name": "stdout",
     "output_type": "stream",
     "text": [
      "Sharath\n",
      "PD\n",
      "Your 2nd Name is : PD\n",
      "Nair\n",
      "Suha\n",
      "Apple\n",
      "190\n",
      "21.162\n"
     ]
    }
   ],
   "source": [
    "# for loop\n",
    "for x in Anything_list:\n",
    "    print(x)\n",
    "    if x==\"PD\":\n",
    "        print(\"Your 2nd Name is :\",x)"
   ]
  },
  {
   "cell_type": "code",
   "execution_count": 53,
   "id": "71870c62-4f6a-489b-931f-ed1424a566f3",
   "metadata": {},
   "outputs": [
    {
     "name": "stdout",
     "output_type": "stream",
     "text": [
      "Sharath PD"
     ]
    }
   ],
   "source": [
    "Name = \"Sharath PD\"\n",
    "for x in Name:\n",
    "    print(x,end=\"\")"
   ]
  },
  {
   "cell_type": "markdown",
   "id": "620ece43-cbd3-452f-aa1c-20deb2b44b98",
   "metadata": {},
   "source": [
    "##### Nested loops"
   ]
  },
  {
   "cell_type": "code",
   "execution_count": 57,
   "id": "f6bd1408-a61c-4580-8a40-dfab0af695fd",
   "metadata": {},
   "outputs": [
    {
     "name": "stdout",
     "output_type": "stream",
     "text": [
      "1\n",
      "2\n",
      "3\n",
      "4\n",
      "5\n",
      "6\n",
      "7\n",
      "8\n"
     ]
    }
   ],
   "source": [
    "for i in range(1,9):\n",
    "    print(i)"
   ]
  },
  {
   "cell_type": "code",
   "execution_count": 61,
   "id": "ab668408-3684-46ee-8e05-02945e69ca84",
   "metadata": {},
   "outputs": [
    {
     "name": "stdout",
     "output_type": "stream",
     "text": [
      "1\n",
      "4\n",
      "7\n"
     ]
    }
   ],
   "source": [
    "for i in range(1,9,3):\n",
    "    print(i)"
   ]
  },
  {
   "cell_type": "code",
   "execution_count": 69,
   "id": "8dacaea1-5363-46fb-93a0-68dbb9558106",
   "metadata": {},
   "outputs": [
    {
     "name": "stdout",
     "output_type": "stream",
     "text": [
      "*\n",
      "**\n",
      "***\n",
      "****\n",
      "*****\n",
      "******\n",
      "*******\n"
     ]
    }
   ],
   "source": [
    "n=7\n",
    "for i in range(0,n):\n",
    "    for j in range(0,i+1):\n",
    "        print(\"*\",end=\"\")\n",
    "    print(\"\\r\")    "
   ]
  },
  {
   "cell_type": "code",
   "execution_count": null,
   "id": "c88fe10c-574b-43dd-9d7f-ca04ec3e8afb",
   "metadata": {},
   "outputs": [],
   "source": []
  }
 ],
 "metadata": {
  "kernelspec": {
   "display_name": "Python 3 (ipykernel)",
   "language": "python",
   "name": "python3"
  },
  "language_info": {
   "codemirror_mode": {
    "name": "ipython",
    "version": 3
   },
   "file_extension": ".py",
   "mimetype": "text/x-python",
   "name": "python",
   "nbconvert_exporter": "python",
   "pygments_lexer": "ipython3",
   "version": "3.10.8"
  }
 },
 "nbformat": 4,
 "nbformat_minor": 5
}
