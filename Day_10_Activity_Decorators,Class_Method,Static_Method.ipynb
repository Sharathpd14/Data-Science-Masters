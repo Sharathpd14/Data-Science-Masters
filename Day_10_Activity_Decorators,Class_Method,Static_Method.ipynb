{
  "nbformat": 4,
  "nbformat_minor": 0,
  "metadata": {
    "colab": {
      "provenance": []
    },
    "kernelspec": {
      "name": "python3",
      "display_name": "Python 3"
    },
    "language_info": {
      "name": "python"
    }
  },
  "cells": [
    {
      "cell_type": "markdown",
      "source": [
        "**Decorators**"
      ],
      "metadata": {
        "id": "DJkwT-Vd5but"
      }
    },
    {
      "cell_type": "code",
      "execution_count": null,
      "metadata": {
        "id": "zF6CN3bi5XRM"
      },
      "outputs": [],
      "source": [
        "def test():\n",
        "  print(\"This is start\")\n",
        "  print(4+4)\n",
        "  print(\"This is end\")"
      ]
    },
    {
      "cell_type": "code",
      "source": [
        "test()"
      ],
      "metadata": {
        "colab": {
          "base_uri": "https://localhost:8080/"
        },
        "id": "9rJ6o5lS513C",
        "outputId": "f8e1dbfd-74ea-4dfb-df75-56c671d28ddd"
      },
      "execution_count": null,
      "outputs": [
        {
          "output_type": "stream",
          "name": "stdout",
          "text": [
            "This is start\n",
            "8\n",
            "This is end\n"
          ]
        }
      ]
    },
    {
      "cell_type": "code",
      "source": [
        "def deco(fun):\n",
        "  def inner_deco():\n",
        "    print(\"This is Start\")\n",
        "    fun()\n",
        "    print(\"This is End\")\n",
        "  return inner_deco"
      ],
      "metadata": {
        "id": "2RV1TfJh52eH"
      },
      "execution_count": null,
      "outputs": []
    },
    {
      "cell_type": "code",
      "source": [
        "@deco\n",
        "def test1():\n",
        "  print(\"hello\")"
      ],
      "metadata": {
        "id": "f3Rx0g4w6czJ"
      },
      "execution_count": null,
      "outputs": []
    },
    {
      "cell_type": "code",
      "source": [
        "test1()"
      ],
      "metadata": {
        "colab": {
          "base_uri": "https://localhost:8080/"
        },
        "id": "VuBEz6vv6hsG",
        "outputId": "80dcb954-ffdd-4aca-fd51-6242b8a18d43"
      },
      "execution_count": null,
      "outputs": [
        {
          "output_type": "stream",
          "name": "stdout",
          "text": [
            "This is Start\n",
            "hello\n",
            "This is End\n"
          ]
        }
      ]
    },
    {
      "cell_type": "code",
      "source": [
        "import time\n",
        "def timer_test(func):\n",
        "  def timer_inner():\n",
        "    start = time.time()\n",
        "    func()\n",
        "    end = time.time()\n",
        "    print(end-start)\n",
        "  return timer_inner"
      ],
      "metadata": {
        "id": "7vdbA24R6jZR"
      },
      "execution_count": null,
      "outputs": []
    },
    {
      "cell_type": "code",
      "source": [
        "@timer_test\n",
        "def test2():\n",
        "  print(20+3)"
      ],
      "metadata": {
        "id": "-docnrYQ7NKK"
      },
      "execution_count": null,
      "outputs": []
    },
    {
      "cell_type": "code",
      "source": [
        "test2()"
      ],
      "metadata": {
        "colab": {
          "base_uri": "https://localhost:8080/"
        },
        "id": "H2KIqglQ7WGO",
        "outputId": "f849c12a-6408-41eb-ef21-22fe1815a31f"
      },
      "execution_count": null,
      "outputs": [
        {
          "output_type": "stream",
          "name": "stdout",
          "text": [
            "23\n",
            "5.030632019042969e-05\n"
          ]
        }
      ]
    },
    {
      "cell_type": "code",
      "source": [
        "@timer_test\n",
        "def test3():\n",
        "  for i in range(10000000):\n",
        "    pass"
      ],
      "metadata": {
        "id": "9ViL43nz7YNt"
      },
      "execution_count": null,
      "outputs": []
    },
    {
      "cell_type": "code",
      "source": [
        "test3()"
      ],
      "metadata": {
        "colab": {
          "base_uri": "https://localhost:8080/"
        },
        "id": "9zO0wwCK7rHG",
        "outputId": "1f894f82-7f0c-4c98-a6a6-14fdf0e71aaa"
      },
      "execution_count": null,
      "outputs": [
        {
          "output_type": "stream",
          "name": "stdout",
          "text": [
            "0.17394042015075684\n"
          ]
        }
      ]
    },
    {
      "cell_type": "markdown",
      "source": [
        "**Class Methods**"
      ],
      "metadata": {
        "id": "3YD-3trN8gSJ"
      }
    },
    {
      "cell_type": "code",
      "source": [
        "class Sharath():\n",
        "  def __init__(self,Name,Email):\n",
        "    self.Name=Name\n",
        "    self.Email=Email\n",
        "  def student_details(self):\n",
        "    print(self.Name,self.Email)"
      ],
      "metadata": {
        "id": "7K92MRtd70ic"
      },
      "execution_count": null,
      "outputs": []
    },
    {
      "cell_type": "code",
      "source": [
        "Object = Sharath(\"Karthik\",\"Karthik@gmail.com\")"
      ],
      "metadata": {
        "id": "v7ErSH2T89Ui"
      },
      "execution_count": null,
      "outputs": []
    },
    {
      "cell_type": "code",
      "source": [
        "Object.Email"
      ],
      "metadata": {
        "colab": {
          "base_uri": "https://localhost:8080/",
          "height": 35
        },
        "id": "RCb2Xiiq9Ez6",
        "outputId": "d03ac752-9431-4e25-af00-bc0b7914bf35"
      },
      "execution_count": null,
      "outputs": [
        {
          "output_type": "execute_result",
          "data": {
            "text/plain": [
              "'Karthik@gmail.com'"
            ],
            "application/vnd.google.colaboratory.intrinsic+json": {
              "type": "string"
            }
          },
          "metadata": {},
          "execution_count": 10
        }
      ]
    },
    {
      "cell_type": "code",
      "source": [
        "Object.Name"
      ],
      "metadata": {
        "colab": {
          "base_uri": "https://localhost:8080/",
          "height": 35
        },
        "id": "FzkOXAzR9G2f",
        "outputId": "02671b05-ab33-4153-8a53-4c74887fa20f"
      },
      "execution_count": null,
      "outputs": [
        {
          "output_type": "execute_result",
          "data": {
            "text/plain": [
              "'Karthik'"
            ],
            "application/vnd.google.colaboratory.intrinsic+json": {
              "type": "string"
            }
          },
          "metadata": {},
          "execution_count": 11
        }
      ]
    },
    {
      "cell_type": "code",
      "source": [
        "class Sharath():\n",
        "\n",
        "  Mobile_number=9924068934\n",
        "  def __init__(self,Name,Email):\n",
        "    self.Name=Name\n",
        "    self.Email=Email\n",
        "  @classmethod\n",
        "  def change_number(cls,mobile):\n",
        "    Sharath.Mobile_number = mobile\n",
        "  @classmethod\n",
        "  def details(cls,Name,Email):\n",
        "    return cls(Name,Email)\n",
        "  def student_details(self):\n",
        "    print(self.Name,self.Email,Sharath.Mobile_number)"
      ],
      "metadata": {
        "id": "0OrtSR5E9K98"
      },
      "execution_count": null,
      "outputs": []
    },
    {
      "cell_type": "code",
      "source": [
        "Detail=Sharath.details(\"Nithish\",\"Nithish@gmail.com\")"
      ],
      "metadata": {
        "id": "kYGEXc8T9pwJ"
      },
      "execution_count": null,
      "outputs": []
    },
    {
      "cell_type": "code",
      "source": [
        "Detail.Name"
      ],
      "metadata": {
        "colab": {
          "base_uri": "https://localhost:8080/",
          "height": 35
        },
        "id": "7cA3jwdN9jle",
        "outputId": "3ae295e7-ebd7-466f-c250-c9276fe4daec"
      },
      "execution_count": null,
      "outputs": [
        {
          "output_type": "execute_result",
          "data": {
            "text/plain": [
              "'Nithish'"
            ],
            "application/vnd.google.colaboratory.intrinsic+json": {
              "type": "string"
            }
          },
          "metadata": {},
          "execution_count": 27
        }
      ]
    },
    {
      "cell_type": "code",
      "source": [
        "Detail.student_details()"
      ],
      "metadata": {
        "colab": {
          "base_uri": "https://localhost:8080/"
        },
        "id": "UFN5UR1O93FR",
        "outputId": "d9bc3144-a801-438f-abcd-e7c8cdb2e0ba"
      },
      "execution_count": null,
      "outputs": [
        {
          "output_type": "stream",
          "name": "stdout",
          "text": [
            "Nithish Nithish@gmail.com 9924068934\n"
          ]
        }
      ]
    },
    {
      "cell_type": "code",
      "source": [
        "Detail.Mobile_number"
      ],
      "metadata": {
        "colab": {
          "base_uri": "https://localhost:8080/"
        },
        "id": "U1Xz62Zq-LtO",
        "outputId": "68bcb6ab-ecd2-47ed-b74b-2559739cf44f"
      },
      "execution_count": null,
      "outputs": [
        {
          "output_type": "execute_result",
          "data": {
            "text/plain": [
              "9924068934"
            ]
          },
          "metadata": {},
          "execution_count": 48
        }
      ]
    },
    {
      "cell_type": "code",
      "source": [
        "Sharath.change_number(9740445288)"
      ],
      "metadata": {
        "id": "L-YDnhNWAB9B"
      },
      "execution_count": null,
      "outputs": []
    },
    {
      "cell_type": "code",
      "source": [
        "Sharath.Mobile_number"
      ],
      "metadata": {
        "colab": {
          "base_uri": "https://localhost:8080/"
        },
        "id": "25R_MAXwANZR",
        "outputId": "7e117ac4-f759-46b5-be31-f79f7372f3d2"
      },
      "execution_count": null,
      "outputs": [
        {
          "output_type": "execute_result",
          "data": {
            "text/plain": [
              "9740445288"
            ]
          },
          "metadata": {},
          "execution_count": 53
        }
      ]
    },
    {
      "cell_type": "code",
      "source": [
        "Ob2=Sharath(\"JK\",\"jk@gmail.com\")"
      ],
      "metadata": {
        "id": "KA11pXL9ASlH"
      },
      "execution_count": null,
      "outputs": []
    },
    {
      "cell_type": "code",
      "source": [
        "Ob2.change_number(9523213141)"
      ],
      "metadata": {
        "id": "RgE_o8LGAZsm"
      },
      "execution_count": null,
      "outputs": []
    },
    {
      "cell_type": "code",
      "source": [
        "Ob2.Name"
      ],
      "metadata": {
        "colab": {
          "base_uri": "https://localhost:8080/",
          "height": 35
        },
        "id": "BOrZc0FRAl4e",
        "outputId": "06a745b8-e837-4efd-96a8-e0b4c4754f24"
      },
      "execution_count": null,
      "outputs": [
        {
          "output_type": "execute_result",
          "data": {
            "text/plain": [
              "'JK'"
            ],
            "application/vnd.google.colaboratory.intrinsic+json": {
              "type": "string"
            }
          },
          "metadata": {},
          "execution_count": 56
        }
      ]
    },
    {
      "cell_type": "code",
      "source": [
        "Ob2.Mobile_number"
      ],
      "metadata": {
        "colab": {
          "base_uri": "https://localhost:8080/"
        },
        "id": "9r1xjKQMAq4x",
        "outputId": "d98010c8-08b9-4995-ccf8-e05e826ed64e"
      },
      "execution_count": null,
      "outputs": [
        {
          "output_type": "execute_result",
          "data": {
            "text/plain": [
              "9523213141"
            ]
          },
          "metadata": {},
          "execution_count": 57
        }
      ]
    },
    {
      "cell_type": "code",
      "source": [
        "Ob2.student_details()"
      ],
      "metadata": {
        "colab": {
          "base_uri": "https://localhost:8080/"
        },
        "id": "-ER73FzOAq1F",
        "outputId": "d6587a68-b599-4712-a96e-04e864f2ece7"
      },
      "execution_count": null,
      "outputs": [
        {
          "output_type": "stream",
          "name": "stdout",
          "text": [
            "JK jk@gmail.com 9523213141\n"
          ]
        }
      ]
    },
    {
      "cell_type": "code",
      "source": [
        "Ob1=Sharath('Anvith','Anvith@gmail.com')"
      ],
      "metadata": {
        "id": "E-3m1SSJ-m32"
      },
      "execution_count": null,
      "outputs": []
    },
    {
      "cell_type": "code",
      "source": [
        "Ob1.student_details()"
      ],
      "metadata": {
        "colab": {
          "base_uri": "https://localhost:8080/"
        },
        "id": "fGvrhc2K_Mga",
        "outputId": "f9187baf-1664-4738-c484-575eb735d298"
      },
      "execution_count": null,
      "outputs": [
        {
          "output_type": "stream",
          "name": "stdout",
          "text": [
            "Anvith Anvith@gmail.com 9924068934\n"
          ]
        }
      ]
    },
    {
      "cell_type": "code",
      "source": [
        "class Sharath1():\n",
        "\n",
        "  Mobile_number=9924068934\n",
        "  def __init__(self,Name,Email):\n",
        "    self.Name=Name\n",
        "    self.Email=Email\n",
        "  @classmethod\n",
        "  def change_number(cls,mobile):\n",
        "    Sharath.Mobile_number = mobile\n",
        "  @classmethod\n",
        "  def details(cls,Name,Email):\n",
        "    return cls(Name,Email)\n",
        "  def student_details(self):\n",
        "    print(self.Name,self.Email,Sharath.Mobile_number)"
      ],
      "metadata": {
        "id": "1eOx8k6O_lpW"
      },
      "execution_count": null,
      "outputs": []
    },
    {
      "cell_type": "code",
      "source": [
        "def course_details(cls, course_name):\n",
        "  print(\"Course Detail:\",course_name)"
      ],
      "metadata": {
        "id": "AxEcQIuQBCrN"
      },
      "execution_count": null,
      "outputs": []
    },
    {
      "cell_type": "code",
      "source": [
        "Sharath1.course_details = classmethod(course_details)"
      ],
      "metadata": {
        "id": "KRXex1rSBShw"
      },
      "execution_count": null,
      "outputs": []
    },
    {
      "cell_type": "code",
      "source": [
        "Sharath1.course_details(\"Data Science\")"
      ],
      "metadata": {
        "colab": {
          "base_uri": "https://localhost:8080/"
        },
        "id": "5ReO8cUjBb5X",
        "outputId": "02c0d923-713a-4f72-f3e8-ed6271cbfcd1"
      },
      "execution_count": null,
      "outputs": [
        {
          "output_type": "stream",
          "name": "stdout",
          "text": [
            "Course Detail: Data Science\n"
          ]
        }
      ]
    },
    {
      "cell_type": "code",
      "source": [
        "class Sharath2():\n",
        "\n",
        "  Mobile_number=9924068934\n",
        "  def __init__(self,Name,Email):\n",
        "    self.Name=Name\n",
        "    self.Email=Email\n",
        "  @classmethod\n",
        "  def change_number(cls,mobile):\n",
        "    Sharath.Mobile_number = mobile\n",
        "  @classmethod\n",
        "  def details(cls,Name,Email):\n",
        "    return cls(Name,Email)\n",
        "  def student_details(self):\n",
        "    print(self.Name,self.Email,Sharath.Mobile_number)"
      ],
      "metadata": {
        "id": "4HCeqKnABhaw"
      },
      "execution_count": null,
      "outputs": []
    },
    {
      "cell_type": "code",
      "source": [
        "del Sharath2.change_number"
      ],
      "metadata": {
        "id": "dSHP6ITgBxQO"
      },
      "execution_count": null,
      "outputs": []
    },
    {
      "cell_type": "code",
      "source": [
        "Sharath2.change_number()"
      ],
      "metadata": {
        "colab": {
          "base_uri": "https://localhost:8080/",
          "height": 165
        },
        "id": "i8Uy9BHQB5aW",
        "outputId": "6940942d-ae59-4f27-ace7-559a00bc758f"
      },
      "execution_count": null,
      "outputs": [
        {
          "output_type": "error",
          "ename": "AttributeError",
          "evalue": "ignored",
          "traceback": [
            "\u001b[0;31m---------------------------------------------------------------------------\u001b[0m",
            "\u001b[0;31mAttributeError\u001b[0m                            Traceback (most recent call last)",
            "\u001b[0;32m<ipython-input-22-7fad9eff24f5>\u001b[0m in \u001b[0;36m<module>\u001b[0;34m\u001b[0m\n\u001b[0;32m----> 1\u001b[0;31m \u001b[0mSharath2\u001b[0m\u001b[0;34m.\u001b[0m\u001b[0mchange_number\u001b[0m\u001b[0;34m(\u001b[0m\u001b[0;34m)\u001b[0m\u001b[0;34m\u001b[0m\u001b[0;34m\u001b[0m\u001b[0m\n\u001b[0m",
            "\u001b[0;31mAttributeError\u001b[0m: type object 'Sharath2' has no attribute 'change_number'"
          ]
        }
      ]
    },
    {
      "cell_type": "code",
      "source": [
        "delattr(Sharath2,\"details\")"
      ],
      "metadata": {
        "id": "8NrqUYiOB_Lp"
      },
      "execution_count": null,
      "outputs": []
    },
    {
      "cell_type": "code",
      "source": [
        "Sharath2.details"
      ],
      "metadata": {
        "colab": {
          "base_uri": "https://localhost:8080/",
          "height": 165
        },
        "id": "A2PBBlyoCLSe",
        "outputId": "e230687a-583d-4518-83fa-0e3a4ec4c16b"
      },
      "execution_count": null,
      "outputs": [
        {
          "output_type": "error",
          "ename": "AttributeError",
          "evalue": "ignored",
          "traceback": [
            "\u001b[0;31m---------------------------------------------------------------------------\u001b[0m",
            "\u001b[0;31mAttributeError\u001b[0m                            Traceback (most recent call last)",
            "\u001b[0;32m<ipython-input-24-a4f8ea9e39ad>\u001b[0m in \u001b[0;36m<module>\u001b[0;34m\u001b[0m\n\u001b[0;32m----> 1\u001b[0;31m \u001b[0mSharath2\u001b[0m\u001b[0;34m.\u001b[0m\u001b[0mdetails\u001b[0m\u001b[0;34m\u001b[0m\u001b[0;34m\u001b[0m\u001b[0m\n\u001b[0m",
            "\u001b[0;31mAttributeError\u001b[0m: type object 'Sharath2' has no attribute 'details'"
          ]
        }
      ]
    },
    {
      "cell_type": "markdown",
      "source": [
        "**Static Method**"
      ],
      "metadata": {
        "id": "_3oiw43bC5yd"
      }
    },
    {
      "cell_type": "code",
      "source": [
        "class data_science:\n",
        "  def student_details(self,Name,Email,Number):\n",
        "    print(Name,Email,Number)"
      ],
      "metadata": {
        "id": "flQGmXglCNgG"
      },
      "execution_count": null,
      "outputs": []
    },
    {
      "cell_type": "code",
      "source": [
        "data  = data_science()"
      ],
      "metadata": {
        "id": "x0BGsOYoDSQi"
      },
      "execution_count": null,
      "outputs": []
    },
    {
      "cell_type": "code",
      "source": [
        "data.student_details(\"Harsh\",\"harsh@gmail.com\",9813964332)"
      ],
      "metadata": {
        "colab": {
          "base_uri": "https://localhost:8080/"
        },
        "id": "3p8vme0PDeTB",
        "outputId": "08897146-c3c5-4872-f006-5694aa7e1ed9"
      },
      "execution_count": null,
      "outputs": [
        {
          "output_type": "stream",
          "name": "stdout",
          "text": [
            "Harsh harsh@gmail.com 9813964332\n"
          ]
        }
      ]
    },
    {
      "cell_type": "code",
      "source": [
        "class data_science1:\n",
        "  def student_details(self,Name,Email,Number):\n",
        "    print(Name,Email,Number)\n",
        "    \n",
        "  @staticmethod\n",
        "  def mentor_mail_id(mail_id):\n",
        "    print(mail_id)\n",
        "\n",
        "  @staticmethod\n",
        "  def mentor_class(list_mentor):\n",
        "    print(list_mentor)\n",
        "    data_science1.mentor_mail_id([\"sharath@gmail.com\",\"aslam@gmail.com\"])\n",
        "\n",
        "  @classmethod\n",
        "  def class_name(cls,class_name):\n",
        "    cls.mentor_class([\"data\",\"science\"])\n",
        "  \n",
        "  def mentor(self,mentor_list):\n",
        "    print(mentor_list)\n",
        "    self.mentor_class([\"Sharath\",\"Aslam\"])"
      ],
      "metadata": {
        "id": "IZ6_FN62Dp0E"
      },
      "execution_count": null,
      "outputs": []
    },
    {
      "cell_type": "code",
      "source": [
        "data2=data_science1()"
      ],
      "metadata": {
        "id": "91fcmkHnD2LY"
      },
      "execution_count": null,
      "outputs": []
    },
    {
      "cell_type": "code",
      "source": [
        "data2.mentor_mail_id([\"sharath@gmail.com\",\"aslam@gmail.com\"])"
      ],
      "metadata": {
        "colab": {
          "base_uri": "https://localhost:8080/"
        },
        "id": "7JG1Z50bZXzo",
        "outputId": "69126bbb-56d7-4e25-8400-a281810c23e7"
      },
      "execution_count": null,
      "outputs": [
        {
          "output_type": "stream",
          "name": "stdout",
          "text": [
            "['sharath@gmail.com', 'aslam@gmail.com']\n"
          ]
        }
      ]
    },
    {
      "cell_type": "code",
      "source": [
        "data2.student_details(\"Sharath\",\"sharath@gmail.com\",8932687541)"
      ],
      "metadata": {
        "colab": {
          "base_uri": "https://localhost:8080/"
        },
        "id": "pL9os1dcZXwO",
        "outputId": "ed1149cc-ea02-4d54-f388-f313fc3958eb"
      },
      "execution_count": null,
      "outputs": [
        {
          "output_type": "stream",
          "name": "stdout",
          "text": [
            "Sharath sharath@gmail.com 8932687541\n"
          ]
        }
      ]
    },
    {
      "cell_type": "code",
      "source": [
        "data2.class_name(\"data science\")"
      ],
      "metadata": {
        "colab": {
          "base_uri": "https://localhost:8080/"
        },
        "id": "v44C1X6NZXt-",
        "outputId": "58ea4e6f-b180-4816-8fb5-d1d5acd33048"
      },
      "execution_count": null,
      "outputs": [
        {
          "output_type": "stream",
          "name": "stdout",
          "text": [
            "['data', 'science']\n",
            "['sharath@gmail.com', 'aslam@gmail.com']\n"
          ]
        }
      ]
    },
    {
      "cell_type": "code",
      "source": [],
      "metadata": {
        "id": "ui-zpd4CZXr4"
      },
      "execution_count": null,
      "outputs": []
    },
    {
      "cell_type": "code",
      "source": [
        "data2.mentor([\"Hello\",\"Krish\"])"
      ],
      "metadata": {
        "colab": {
          "base_uri": "https://localhost:8080/"
        },
        "id": "Oeq4y6CtXfLV",
        "outputId": "cd187206-1005-4ba9-dfed-2b49cc22eed0"
      },
      "execution_count": null,
      "outputs": [
        {
          "output_type": "stream",
          "name": "stdout",
          "text": [
            "['Hello', 'Krish']\n"
          ]
        }
      ]
    },
    {
      "cell_type": "code",
      "source": [
        "data2.mentor_class([\"Peter\",\"Krish\"])"
      ],
      "metadata": {
        "colab": {
          "base_uri": "https://localhost:8080/"
        },
        "id": "dVzMUbrvExtq",
        "outputId": "07341cff-92d6-4697-d063-1d97e5d385af"
      },
      "execution_count": null,
      "outputs": [
        {
          "output_type": "stream",
          "name": "stdout",
          "text": [
            "['Peter', 'Krish']\n"
          ]
        }
      ]
    },
    {
      "cell_type": "code",
      "source": [
        "data_science1.mentor_class([\"Sudh\",\"Krish\",\"Sharath\"])"
      ],
      "metadata": {
        "colab": {
          "base_uri": "https://localhost:8080/"
        },
        "id": "aP90SDrYE_mU",
        "outputId": "6e5412e3-752a-4c2d-cb88-2bf69f1331d8"
      },
      "execution_count": null,
      "outputs": [
        {
          "output_type": "stream",
          "name": "stdout",
          "text": [
            "['Sudh', 'Krish', 'Sharath']\n"
          ]
        }
      ]
    },
    {
      "cell_type": "markdown",
      "source": [
        "**Property Decorators**"
      ],
      "metadata": {
        "id": "Cpz_nxTcjzp7"
      }
    },
    {
      "cell_type": "code",
      "source": [
        "class presidency:\n",
        "  def __init__(self,course_price,course_name):\n",
        "    self.__course_price  = course_price\n",
        "    self.course_name = course_name\n",
        " \n",
        "  @property\n",
        "  def course_price_access(self):\n",
        "        return self.__course_price\n",
        "  @course_price_access.setter\n",
        "  def course_price_set(self,price):\n",
        "    if price<=3500:\n",
        "      pass\n",
        "    else:\n",
        "      self.course_price = price\n",
        "\n",
        "  @course_price_access.deleter\n",
        "  def course_price_delete(self):\n",
        "    del self.__course_price"
      ],
      "metadata": {
        "id": "XjD0fPwRFlkg"
      },
      "execution_count": null,
      "outputs": []
    },
    {
      "cell_type": "code",
      "source": [
        "Ob1=presidency(3000,\"Data Science\")"
      ],
      "metadata": {
        "id": "dya4rCcskc7W"
      },
      "execution_count": null,
      "outputs": []
    },
    {
      "cell_type": "code",
      "source": [
        "Ob1.course_name"
      ],
      "metadata": {
        "colab": {
          "base_uri": "https://localhost:8080/",
          "height": 35
        },
        "id": "cgizmTiTkhTS",
        "outputId": "3785efd8-92fa-4ade-b846-8d6855816861"
      },
      "execution_count": null,
      "outputs": [
        {
          "output_type": "execute_result",
          "data": {
            "text/plain": [
              "'Data Science'"
            ],
            "application/vnd.google.colaboratory.intrinsic+json": {
              "type": "string"
            }
          },
          "metadata": {},
          "execution_count": 32
        }
      ]
    },
    {
      "cell_type": "code",
      "source": [
        "Ob1.course_price_access"
      ],
      "metadata": {
        "colab": {
          "base_uri": "https://localhost:8080/"
        },
        "id": "yy_8wSnSkmnT",
        "outputId": "5fe6b408-8970-4dd6-983b-451e2af5fe2b"
      },
      "execution_count": null,
      "outputs": [
        {
          "output_type": "execute_result",
          "data": {
            "text/plain": [
              "3000"
            ]
          },
          "metadata": {},
          "execution_count": 38
        }
      ]
    },
    {
      "cell_type": "code",
      "source": [
        "Ob1.course_price_set=4000"
      ],
      "metadata": {
        "id": "93OHkzjGlXJs"
      },
      "execution_count": null,
      "outputs": []
    },
    {
      "cell_type": "code",
      "source": [
        "Ob1.course_price_set = 2000"
      ],
      "metadata": {
        "id": "a4Gy-yHNpG7l"
      },
      "execution_count": null,
      "outputs": []
    },
    {
      "cell_type": "code",
      "source": [
        "Ob1.course_price"
      ],
      "metadata": {
        "colab": {
          "base_uri": "https://localhost:8080/"
        },
        "id": "i7-wl2wlpKh-",
        "outputId": "ac980fae-2708-4377-ffde-32fc10d30bc5"
      },
      "execution_count": null,
      "outputs": [
        {
          "output_type": "execute_result",
          "data": {
            "text/plain": [
              "4000"
            ]
          },
          "metadata": {},
          "execution_count": 48
        }
      ]
    },
    {
      "cell_type": "code",
      "source": [
        "Ob1.course_price_delete"
      ],
      "metadata": {
        "colab": {
          "base_uri": "https://localhost:8080/"
        },
        "id": "w7D8bLcppP1J",
        "outputId": "a9d05c39-8c94-4db4-ed49-5cf1732b2632"
      },
      "execution_count": null,
      "outputs": [
        {
          "output_type": "execute_result",
          "data": {
            "text/plain": [
              "3000"
            ]
          },
          "metadata": {},
          "execution_count": 51
        }
      ]
    },
    {
      "cell_type": "code",
      "source": [],
      "metadata": {
        "id": "5_7Squ9upyxR"
      },
      "execution_count": null,
      "outputs": []
    }
  ]
}