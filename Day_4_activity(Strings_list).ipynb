{
  "cells": [
    {
      "cell_type": "code",
      "execution_count": null,
      "id": "4a0114ba-2b42-44e5-a2cf-b4dc6a96e398",
      "metadata": {
        "id": "4a0114ba-2b42-44e5-a2cf-b4dc6a96e398"
      },
      "outputs": [],
      "source": [
        "name =\"Sharath You are genius\""
      ]
    },
    {
      "cell_type": "code",
      "execution_count": null,
      "id": "84410091-65f2-4efd-af4a-20915b29d7b1",
      "metadata": {
        "colab": {
          "base_uri": "https://localhost:8080/",
          "height": 35
        },
        "id": "84410091-65f2-4efd-af4a-20915b29d7b1",
        "outputId": "eefe05ce-875a-4918-f213-5f50ac27fd65"
      },
      "outputs": [
        {
          "output_type": "execute_result",
          "data": {
            "text/plain": [
              "'Sharath You are genius'"
            ],
            "application/vnd.google.colaboratory.intrinsic+json": {
              "type": "string"
            }
          },
          "metadata": {},
          "execution_count": 3
        }
      ],
      "source": [
        "name"
      ]
    },
    {
      "cell_type": "code",
      "execution_count": null,
      "id": "4481ff7f-3ae6-4151-a52c-e17d618b9fdf",
      "metadata": {
        "colab": {
          "base_uri": "https://localhost:8080/",
          "height": 35
        },
        "id": "4481ff7f-3ae6-4151-a52c-e17d618b9fdf",
        "outputId": "331bd107-5d22-4931-b12b-c4b30b9c4395"
      },
      "outputs": [
        {
          "output_type": "execute_result",
          "data": {
            "text/plain": [
              "'sHARATH yOU ARE GENIUS'"
            ],
            "application/vnd.google.colaboratory.intrinsic+json": {
              "type": "string"
            }
          },
          "metadata": {},
          "execution_count": 4
        }
      ],
      "source": [
        "name.swapcase()"
      ]
    },
    {
      "cell_type": "code",
      "execution_count": null,
      "id": "48be1964-102c-4cd0-9c5b-4cd5c92cd74d",
      "metadata": {
        "id": "48be1964-102c-4cd0-9c5b-4cd5c92cd74d"
      },
      "outputs": [],
      "source": [
        "Name1=name.title()"
      ]
    },
    {
      "cell_type": "code",
      "execution_count": null,
      "id": "eee338a2-0b6a-4242-9241-2a446a7f17c1",
      "metadata": {
        "colab": {
          "base_uri": "https://localhost:8080/",
          "height": 35
        },
        "id": "eee338a2-0b6a-4242-9241-2a446a7f17c1",
        "outputId": "0c653025-5e21-47e4-b3f7-636e7c6b93e5"
      },
      "outputs": [
        {
          "output_type": "execute_result",
          "data": {
            "text/plain": [
              "'Sharath You Are Genius'"
            ],
            "application/vnd.google.colaboratory.intrinsic+json": {
              "type": "string"
            }
          },
          "metadata": {},
          "execution_count": 6
        }
      ],
      "source": [
        "Name1"
      ]
    },
    {
      "cell_type": "code",
      "execution_count": null,
      "id": "d287a6b5-532f-42f4-8c57-8bb5f7b74dda",
      "metadata": {
        "colab": {
          "base_uri": "https://localhost:8080/",
          "height": 35
        },
        "id": "d287a6b5-532f-42f4-8c57-8bb5f7b74dda",
        "outputId": "3f117e51-14fa-4908-8702-b079db663ceb"
      },
      "outputs": [
        {
          "output_type": "execute_result",
          "data": {
            "text/plain": [
              "'Sharath you are genius'"
            ],
            "application/vnd.google.colaboratory.intrinsic+json": {
              "type": "string"
            }
          },
          "metadata": {},
          "execution_count": 7
        }
      ],
      "source": [
        "name.capitalize()"
      ]
    },
    {
      "cell_type": "markdown",
      "id": "8a6c8455-e671-4bbf-a0e6-dfda7448e1c3",
      "metadata": {
        "id": "8a6c8455-e671-4bbf-a0e6-dfda7448e1c3"
      },
      "source": [
        "### Reversing a String"
      ]
    },
    {
      "cell_type": "code",
      "execution_count": null,
      "id": "b4502766-a0ee-4487-b453-24774583ded3",
      "metadata": {
        "colab": {
          "base_uri": "https://localhost:8080/",
          "height": 35
        },
        "id": "b4502766-a0ee-4487-b453-24774583ded3",
        "outputId": "ce057aa2-a330-487f-da16-2d140d7a6603"
      },
      "outputs": [
        {
          "output_type": "execute_result",
          "data": {
            "text/plain": [
              "'suineg era uoY htarahS'"
            ],
            "application/vnd.google.colaboratory.intrinsic+json": {
              "type": "string"
            }
          },
          "metadata": {},
          "execution_count": 8
        }
      ],
      "source": [
        "name[::-1]"
      ]
    },
    {
      "cell_type": "code",
      "execution_count": null,
      "id": "ba4ba654-82c8-45ec-b51f-cc9b503f086b",
      "metadata": {
        "colab": {
          "base_uri": "https://localhost:8080/",
          "height": 35
        },
        "id": "ba4ba654-82c8-45ec-b51f-cc9b503f086b",
        "outputId": "d2e77bfa-8c99-414a-c385-79f7e73aa4b5"
      },
      "outputs": [
        {
          "output_type": "execute_result",
          "data": {
            "text/plain": [
              "'K Hello a Hello l Hello l Hello a'"
            ],
            "application/vnd.google.colaboratory.intrinsic+json": {
              "type": "string"
            }
          },
          "metadata": {},
          "execution_count": 9
        }
      ],
      "source": [
        "\" Hello \".join(\"Kalla\")"
      ]
    },
    {
      "cell_type": "code",
      "execution_count": null,
      "id": "9028ff54-2503-4c7e-be30-878ce2b7622b",
      "metadata": {
        "id": "9028ff54-2503-4c7e-be30-878ce2b7622b",
        "outputId": "7f2fc920-aefe-4a74-c960-4eadaf260bd6"
      },
      "outputs": [
        {
          "data": {
            "text/plain": [
              "'h pls t pls a pls r pls a pls h pls S'"
            ]
          },
          "execution_count": 24,
          "metadata": {},
          "output_type": "execute_result"
        }
      ],
      "source": [
        "\" pls \".join(reversed(\"Sharath\"))"
      ]
    },
    {
      "cell_type": "code",
      "execution_count": null,
      "id": "edf019d0-159d-47f8-a86a-d00714c575e7",
      "metadata": {
        "id": "edf019d0-159d-47f8-a86a-d00714c575e7",
        "outputId": "e99ddd94-cdb3-4ba6-db41-cab991817c1e"
      },
      "outputs": [
        {
          "data": {
            "text/plain": [
              "'s pls u pls i pls n pls e pls g pls   pls e pls r pls a pls   pls u pls o pls Y pls   pls h pls t pls a pls r pls a pls h pls S'"
            ]
          },
          "execution_count": 25,
          "metadata": {},
          "output_type": "execute_result"
        }
      ],
      "source": [
        "\" pls \".join(reversed(name))"
      ]
    },
    {
      "cell_type": "code",
      "execution_count": null,
      "id": "8a54b288-890f-4056-86ba-7a5d17b4226c",
      "metadata": {
        "id": "8a54b288-890f-4056-86ba-7a5d17b4226c",
        "outputId": "755c76b7-0e48-44d5-ce21-fc4fff107519"
      },
      "outputs": [
        {
          "data": {
            "text/plain": [
              "<reversed at 0x7fe560134df0>"
            ]
          },
          "execution_count": 26,
          "metadata": {},
          "output_type": "execute_result"
        }
      ],
      "source": [
        "reversed(\"Krish\")"
      ]
    },
    {
      "cell_type": "code",
      "execution_count": null,
      "id": "4ee4d7e3-1d15-47e7-b695-dda8861725ca",
      "metadata": {
        "id": "4ee4d7e3-1d15-47e7-b695-dda8861725ca",
        "outputId": "bdba062e-78a7-496d-dc1e-18963613b742"
      },
      "outputs": [
        {
          "data": {
            "text/plain": [
              "'<reversed object at 0x7fe560121d20>'"
            ]
          },
          "execution_count": 28,
          "metadata": {},
          "output_type": "execute_result"
        }
      ],
      "source": [
        "str(reversed(\"hello\"))"
      ]
    },
    {
      "cell_type": "code",
      "execution_count": null,
      "id": "c6878021-2d70-4b89-b706-32f90ee8f150",
      "metadata": {
        "id": "c6878021-2d70-4b89-b706-32f90ee8f150",
        "outputId": "34da206f-0c1c-4ffe-ffeb-0daa080e7650"
      },
      "outputs": [
        {
          "data": {
            "text/plain": [
              "['o', 'l', 'l', 'e', 'h']"
            ]
          },
          "execution_count": 29,
          "metadata": {},
          "output_type": "execute_result"
        }
      ],
      "source": [
        "list(reversed(\"hello\"))"
      ]
    },
    {
      "cell_type": "code",
      "execution_count": null,
      "id": "db322442-d199-40ad-958c-d4c750f26f67",
      "metadata": {
        "id": "db322442-d199-40ad-958c-d4c750f26f67",
        "outputId": "422cea0c-d075-4ebc-9ba1-b46bbaebfae8"
      },
      "outputs": [
        {
          "data": {
            "text/plain": [
              "int"
            ]
          },
          "execution_count": 30,
          "metadata": {},
          "output_type": "execute_result"
        }
      ],
      "source": [
        "type(35)"
      ]
    },
    {
      "cell_type": "code",
      "execution_count": null,
      "id": "25d435ae-2618-4b21-8054-24e7f1a04635",
      "metadata": {
        "id": "25d435ae-2618-4b21-8054-24e7f1a04635",
        "outputId": "cb55ad8c-39ee-4823-cda8-15f15b1a0694"
      },
      "outputs": [
        {
          "data": {
            "text/plain": [
              "str"
            ]
          },
          "execution_count": 31,
          "metadata": {},
          "output_type": "execute_result"
        }
      ],
      "source": [
        "type(\"Hello\")"
      ]
    },
    {
      "cell_type": "code",
      "execution_count": null,
      "id": "331fcdf5-e4e9-4711-b3b5-1015ad640b28",
      "metadata": {
        "id": "331fcdf5-e4e9-4711-b3b5-1015ad640b28",
        "outputId": "a8b14ad0-f93d-4b38-f0ec-8fc4057ea402"
      },
      "outputs": [
        {
          "data": {
            "text/plain": [
              "float"
            ]
          },
          "execution_count": 32,
          "metadata": {},
          "output_type": "execute_result"
        }
      ],
      "source": [
        "type(35.00)"
      ]
    },
    {
      "cell_type": "code",
      "execution_count": null,
      "id": "bac9b3c4-d5a2-4318-bb19-5923e7fa9b1a",
      "metadata": {
        "id": "bac9b3c4-d5a2-4318-bb19-5923e7fa9b1a",
        "outputId": "6351da28-43a6-4114-b813-5efe66856d81"
      },
      "outputs": [
        {
          "name": "stdout",
          "output_type": "stream",
          "text": [
            "s  u  i  n  e  g     e  r  a     u  o  Y     h  t  a  r  a  h  S  "
          ]
        }
      ],
      "source": [
        "for i in reversed(name):\n",
        "    print(i,end=\"  \")"
      ]
    },
    {
      "cell_type": "code",
      "execution_count": null,
      "id": "3ba67bfc-0976-45bf-8747-1ac16407dcf0",
      "metadata": {
        "id": "3ba67bfc-0976-45bf-8747-1ac16407dcf0"
      },
      "outputs": [],
      "source": [
        "## Removing space character in a string\n",
        "Name2 = \" Sharath PD \""
      ]
    },
    {
      "cell_type": "code",
      "execution_count": null,
      "id": "00345f9e-d9ea-40c7-8074-af68db6881f1",
      "metadata": {
        "id": "00345f9e-d9ea-40c7-8074-af68db6881f1",
        "outputId": "199cc172-5b56-4a93-e7f7-fbac9364de8c"
      },
      "outputs": [
        {
          "data": {
            "text/plain": [
              "'Sharath PD'"
            ]
          },
          "execution_count": 61,
          "metadata": {},
          "output_type": "execute_result"
        }
      ],
      "source": [
        "Name2.strip()"
      ]
    },
    {
      "cell_type": "code",
      "execution_count": null,
      "id": "ea1ac9f3-e443-4117-a8b4-9b377744305c",
      "metadata": {
        "id": "ea1ac9f3-e443-4117-a8b4-9b377744305c",
        "outputId": "6fc5f075-f3e6-4027-a6da-71fe88c4d977"
      },
      "outputs": [
        {
          "data": {
            "text/plain": [
              "'Sharath PD '"
            ]
          },
          "execution_count": 64,
          "metadata": {},
          "output_type": "execute_result"
        }
      ],
      "source": [
        "Name2.lstrip()"
      ]
    },
    {
      "cell_type": "code",
      "execution_count": null,
      "id": "de9870d3-019d-4bb4-9d00-9d2b28c4838f",
      "metadata": {
        "id": "de9870d3-019d-4bb4-9d00-9d2b28c4838f",
        "outputId": "d2c76580-18cc-4ae1-e227-191611230b23"
      },
      "outputs": [
        {
          "data": {
            "text/plain": [
              "' Sharath PD'"
            ]
          },
          "execution_count": 65,
          "metadata": {},
          "output_type": "execute_result"
        }
      ],
      "source": [
        "Name2.rstrip()"
      ]
    },
    {
      "cell_type": "markdown",
      "id": "a74ea4d4-5fb4-4d95-9824-d243896d79b9",
      "metadata": {
        "id": "a74ea4d4-5fb4-4d95-9824-d243896d79b9"
      },
      "source": [
        "#### Replacing Stings"
      ]
    },
    {
      "cell_type": "code",
      "execution_count": null,
      "id": "b23276d3-2b2a-4b45-bbaa-0c8a7417d3ff",
      "metadata": {
        "id": "b23276d3-2b2a-4b45-bbaa-0c8a7417d3ff",
        "outputId": "b0188fbc-fec0-4fc2-9445-5a8fdaa966b8"
      },
      "outputs": [
        {
          "data": {
            "text/plain": [
              "'Greetings from an Event'"
            ]
          },
          "execution_count": 47,
          "metadata": {},
          "output_type": "execute_result"
        }
      ],
      "source": [
        "Name4 = \"Greetings to an Event\"\n",
        "Name4.replace(\"to\",\"from\")"
      ]
    },
    {
      "cell_type": "code",
      "execution_count": null,
      "id": "f5c1a22c-04b2-44ba-94ca-dfa7c7ec4916",
      "metadata": {
        "id": "f5c1a22c-04b2-44ba-94ca-dfa7c7ec4916",
        "outputId": "756d328d-ef41-4640-f962-82602c609edd"
      },
      "outputs": [
        {
          "data": {
            "text/plain": [
              "'Welcome to an Event'"
            ]
          },
          "execution_count": 57,
          "metadata": {},
          "output_type": "execute_result"
        }
      ],
      "source": [
        "Var1 = Name4.replace(\"Greetings\",\"Welcome\")\n",
        "Var1"
      ]
    },
    {
      "cell_type": "code",
      "execution_count": null,
      "id": "d46d5ba3-0697-4e6f-a44f-8291494d7532",
      "metadata": {
        "id": "d46d5ba3-0697-4e6f-a44f-8291494d7532",
        "outputId": "f625db10-49e7-4eef-9923-bc7e0bd0f03e"
      },
      "outputs": [
        {
          "data": {
            "text/plain": [
              "'GreetingstoanEvent'"
            ]
          },
          "execution_count": 53,
          "metadata": {},
          "output_type": "execute_result"
        }
      ],
      "source": [
        "Name4.replace(\" \",\"\")"
      ]
    },
    {
      "cell_type": "code",
      "execution_count": null,
      "id": "75258e81-349a-482f-9e1e-b3b12564c5dd",
      "metadata": {
        "id": "75258e81-349a-482f-9e1e-b3b12564c5dd",
        "outputId": "c11ed51c-9794-4162-90c2-33c9243df26e"
      },
      "outputs": [
        {
          "data": {
            "text/plain": [
              "'Treetings to an Event'"
            ]
          },
          "execution_count": 54,
          "metadata": {},
          "output_type": "execute_result"
        }
      ],
      "source": [
        "Name4.replace(\"G\",\"T\")"
      ]
    },
    {
      "cell_type": "code",
      "execution_count": null,
      "id": "195a530b-ec28-4897-a73c-b7c61c277138",
      "metadata": {
        "id": "195a530b-ec28-4897-a73c-b7c61c277138",
        "outputId": "f4a859b1-069b-47c9-8bfa-ab50928f8e29"
      },
      "outputs": [
        {
          "name": "stdout",
          "output_type": "stream",
          "text": [
            "140623135156752\n",
            "140623135464848\n"
          ]
        }
      ],
      "source": [
        "print(id(Var1))\n",
        "print(id(Name4))"
      ]
    },
    {
      "cell_type": "code",
      "execution_count": null,
      "id": "fe1fef90-4ad9-49d7-ba1c-93b90ceda80e",
      "metadata": {
        "id": "fe1fef90-4ad9-49d7-ba1c-93b90ceda80e",
        "outputId": "9ead6ec4-2aa5-4f17-ff03-198a2adf40ea"
      },
      "outputs": [
        {
          "data": {
            "text/plain": [
              "'Hello \\nWorld'"
            ]
          },
          "execution_count": 66,
          "metadata": {},
          "output_type": "execute_result"
        }
      ],
      "source": [
        "\"Hello \\nWorld\""
      ]
    },
    {
      "cell_type": "code",
      "execution_count": null,
      "id": "13f090cc-1ca8-4265-b61f-f46a70a8a4dc",
      "metadata": {
        "id": "13f090cc-1ca8-4265-b61f-f46a70a8a4dc",
        "outputId": "7e0586b5-1c72-4003-ad0a-836388839097"
      },
      "outputs": [
        {
          "data": {
            "text/plain": [
              "'Sharath PD'"
            ]
          },
          "execution_count": 67,
          "metadata": {},
          "output_type": "execute_result"
        }
      ],
      "source": [
        "\"Sharath\\tPD\".expandtabs()"
      ]
    },
    {
      "cell_type": "code",
      "execution_count": null,
      "id": "8c7e0457-0c4e-4250-b6a1-1adc30330f39",
      "metadata": {
        "id": "8c7e0457-0c4e-4250-b6a1-1adc30330f39"
      },
      "outputs": [],
      "source": [
        "Str1 =\"Welcome to the Collage.Wlcome to data cience\""
      ]
    },
    {
      "cell_type": "code",
      "execution_count": null,
      "id": "57747ddb-06b6-446a-a4d2-06077e13c209",
      "metadata": {
        "id": "57747ddb-06b6-446a-a4d2-06077e13c209",
        "outputId": "e7c8b9e5-f74d-4f97-9ff8-b06c88e24e09"
      },
      "outputs": [
        {
          "data": {
            "text/plain": [
              "'Welcome to the Collage. Welcome to data science'"
            ]
          },
          "execution_count": 76,
          "metadata": {},
          "output_type": "execute_result"
        }
      ],
      "source": [
        "Str1.replace(\".Wlcome\",\". Welcome\").replace(\"cience\",\"science\")"
      ]
    },
    {
      "cell_type": "code",
      "execution_count": null,
      "id": "85a02cf2-0bf2-4dc9-97db-da0d5dff3020",
      "metadata": {
        "id": "85a02cf2-0bf2-4dc9-97db-da0d5dff3020",
        "outputId": "27c91b82-5fdf-4578-d17d-fce284a7d085"
      },
      "outputs": [
        {
          "data": {
            "text/plain": [
              "False"
            ]
          },
          "execution_count": 77,
          "metadata": {},
          "output_type": "execute_result"
        }
      ],
      "source": [
        "Str1.isupper()"
      ]
    },
    {
      "cell_type": "code",
      "execution_count": null,
      "id": "a8a6fccb-9a05-4ec8-a298-16af30ec8a13",
      "metadata": {
        "id": "a8a6fccb-9a05-4ec8-a298-16af30ec8a13"
      },
      "outputs": [],
      "source": [
        "Str = \"SHARATHPD\""
      ]
    },
    {
      "cell_type": "code",
      "execution_count": null,
      "id": "1039dc57-e8ee-46b7-94c8-ddb9449b402c",
      "metadata": {
        "id": "1039dc57-e8ee-46b7-94c8-ddb9449b402c",
        "outputId": "5ed1fda8-04b0-49ed-de7e-3e2dee259301"
      },
      "outputs": [
        {
          "data": {
            "text/plain": [
              "True"
            ]
          },
          "execution_count": 80,
          "metadata": {},
          "output_type": "execute_result"
        }
      ],
      "source": [
        "Str.isupper()"
      ]
    },
    {
      "cell_type": "code",
      "execution_count": null,
      "id": "5f5c5c26-c263-45bf-a45b-65718c9f92cf",
      "metadata": {
        "id": "5f5c5c26-c263-45bf-a45b-65718c9f92cf",
        "outputId": "2963456b-f723-473e-b3fd-e86255a9de40"
      },
      "outputs": [
        {
          "data": {
            "text/plain": [
              "True"
            ]
          },
          "execution_count": 5,
          "metadata": {},
          "output_type": "execute_result"
        }
      ],
      "source": [
        "\" \".isspace()"
      ]
    },
    {
      "cell_type": "code",
      "execution_count": null,
      "id": "d90dde80-ca6a-4484-b408-3e7dd11a8fd9",
      "metadata": {
        "id": "d90dde80-ca6a-4484-b408-3e7dd11a8fd9",
        "outputId": "3296561a-342f-470b-ddf1-c704bbc9434e"
      },
      "outputs": [
        {
          "data": {
            "text/plain": [
              "False"
            ]
          },
          "execution_count": 6,
          "metadata": {},
          "output_type": "execute_result"
        }
      ],
      "source": [
        "Str.isspace()"
      ]
    },
    {
      "cell_type": "code",
      "execution_count": null,
      "id": "4fd40b7c-cb9b-4470-a2b1-fb26668323e5",
      "metadata": {
        "id": "4fd40b7c-cb9b-4470-a2b1-fb26668323e5",
        "outputId": "54d9b0a8-2844-4fbc-87ae-bf49823f15ef"
      },
      "outputs": [
        {
          "data": {
            "text/plain": [
              "False"
            ]
          },
          "execution_count": 7,
          "metadata": {},
          "output_type": "execute_result"
        }
      ],
      "source": [
        "str1=\"Krish\"\n",
        "str1.endswith(\"f\")"
      ]
    },
    {
      "cell_type": "code",
      "execution_count": null,
      "id": "6fb8e185-7b3c-462d-880e-5c1a26e66c14",
      "metadata": {
        "id": "6fb8e185-7b3c-462d-880e-5c1a26e66c14",
        "outputId": "8b8a2eae-8c44-4e36-dd9c-09df9c4a3bf8"
      },
      "outputs": [
        {
          "data": {
            "text/plain": [
              "True"
            ]
          },
          "execution_count": 8,
          "metadata": {},
          "output_type": "execute_result"
        }
      ],
      "source": [
        "str1=\"Krish\"\n",
        "str1.endswith(\"h\")"
      ]
    },
    {
      "cell_type": "code",
      "execution_count": null,
      "id": "8724481e-a399-4adb-a513-7982b7ea12ad",
      "metadata": {
        "id": "8724481e-a399-4adb-a513-7982b7ea12ad",
        "outputId": "d1958b45-f8a6-44bf-980e-0cabd83a093a"
      },
      "outputs": [
        {
          "data": {
            "text/plain": [
              "True"
            ]
          },
          "execution_count": 12,
          "metadata": {},
          "output_type": "execute_result"
        }
      ],
      "source": [
        "a = \"abcd1234\"\n",
        "a.isalnum()"
      ]
    },
    {
      "cell_type": "code",
      "execution_count": null,
      "id": "ad069a11-00c3-47db-9faf-18e52e65a6b1",
      "metadata": {
        "colab": {
          "base_uri": "https://localhost:8080/"
        },
        "id": "ad069a11-00c3-47db-9faf-18e52e65a6b1",
        "outputId": "58c06ecc-2096-4be1-8f3e-bd00e6d02a52"
      },
      "outputs": [
        {
          "output_type": "stream",
          "name": "stdout",
          "text": [
            "10\n"
          ]
        }
      ],
      "source": [
        "#length of a string\n",
        "Str3 = \"Sharath PD\"\n",
        "count = 0\n",
        "for i in Str3:\n",
        "    count=count+1;\n",
        "    \n",
        "print(count)\n",
        "        "
      ]
    },
    {
      "cell_type": "code",
      "execution_count": null,
      "id": "9585d878-7bd9-496f-8615-19025f89f6be",
      "metadata": {
        "colab": {
          "base_uri": "https://localhost:8080/"
        },
        "id": "9585d878-7bd9-496f-8615-19025f89f6be",
        "outputId": "055b6292-2099-4038-91a7-e785fd2ae43f"
      },
      "outputs": [
        {
          "output_type": "execute_result",
          "data": {
            "text/plain": [
              "10"
            ]
          },
          "metadata": {},
          "execution_count": 11
        }
      ],
      "source": [
        "len(Str3)"
      ]
    },
    {
      "cell_type": "code",
      "execution_count": null,
      "id": "65055c69-a8a6-499a-ac6b-c0334b996a84",
      "metadata": {
        "colab": {
          "base_uri": "https://localhost:8080/"
        },
        "id": "65055c69-a8a6-499a-ac6b-c0334b996a84",
        "outputId": "f5acda32-2adf-44ef-c18e-d478cd94169c"
      },
      "outputs": [
        {
          "output_type": "stream",
          "name": "stdout",
          "text": [
            "0 = S\n",
            "1 = h\n",
            "2 = a\n",
            "3 = r\n",
            "4 = a\n",
            "5 = t\n",
            "6 = h\n",
            "7 =  \n",
            "8 = P\n",
            "9 = D\n"
          ]
        }
      ],
      "source": [
        "for i in range(len(Str3)):\n",
        "    print(i,\"=\",Str3[i])"
      ]
    },
    {
      "cell_type": "code",
      "execution_count": null,
      "id": "6c219799-ef36-44ba-a7c8-adbbae99ff2e",
      "metadata": {
        "colab": {
          "base_uri": "https://localhost:8080/"
        },
        "id": "6c219799-ef36-44ba-a7c8-adbbae99ff2e",
        "outputId": "58c14d45-7355-421c-8a6b-adcab49af2d5"
      },
      "outputs": [
        {
          "output_type": "stream",
          "name": "stdout",
          "text": [
            "Hello World\n"
          ]
        }
      ],
      "source": [
        "print(\"Hello World\")"
      ]
    },
    {
      "cell_type": "code",
      "execution_count": null,
      "id": "1388b47e-f5e2-4eb6-a11b-e20c105db67f",
      "metadata": {
        "id": "1388b47e-f5e2-4eb6-a11b-e20c105db67f"
      },
      "outputs": [],
      "source": [
        "# We can use index to iterate string reverse direction"
      ]
    },
    {
      "cell_type": "code",
      "execution_count": null,
      "id": "75cd0ac9-2c09-4e1e-bdd7-87ba338c15e4",
      "metadata": {
        "colab": {
          "base_uri": "https://localhost:8080/"
        },
        "id": "75cd0ac9-2c09-4e1e-bdd7-87ba338c15e4",
        "outputId": "884a8087-7899-40f2-de8f-6a6b9e38e80c"
      },
      "outputs": [
        {
          "output_type": "stream",
          "name": "stdout",
          "text": [
            "9 = D\n",
            "8 = P\n",
            "7 =  \n",
            "6 = h\n",
            "5 = t\n",
            "4 = a\n",
            "3 = r\n",
            "2 = a\n",
            "1 = h\n",
            "0 = S\n"
          ]
        }
      ],
      "source": [
        "for i in range(len(Str3)-1,-1,-1):\n",
        "    print(i,\"=\",Str3[i])"
      ]
    },
    {
      "cell_type": "code",
      "source": [
        "Vowels = \"AEIOUaeiou\"\n",
        "for i in Str3:\n",
        "  if i in Vowels:\n",
        "    print(i,\"is a Vowel\");\n",
        "  else:\n",
        "    print(i,\"is not a Vowel\");\n"
      ],
      "metadata": {
        "colab": {
          "base_uri": "https://localhost:8080/"
        },
        "id": "kK-0vLGQNmFC",
        "outputId": "d409c4f7-3b65-4807-98fc-729e32d1bd0a"
      },
      "id": "kK-0vLGQNmFC",
      "execution_count": null,
      "outputs": [
        {
          "output_type": "stream",
          "name": "stdout",
          "text": [
            "S is not a Vowel\n",
            "h is not a Vowel\n",
            "a is a Vowel\n",
            "r is not a Vowel\n",
            "a is a Vowel\n",
            "t is not a Vowel\n",
            "h is not a Vowel\n",
            "  is not a Vowel\n",
            "P is not a Vowel\n",
            "D is not a Vowel\n"
          ]
        }
      ]
    },
    {
      "cell_type": "markdown",
      "source": [
        "## **List**"
      ],
      "metadata": {
        "id": "6cD0JybLPG3h"
      },
      "id": "6cD0JybLPG3h"
    },
    {
      "cell_type": "code",
      "source": [
        "type([])"
      ],
      "metadata": {
        "colab": {
          "base_uri": "https://localhost:8080/"
        },
        "id": "Nz4gS9m2Oj-z",
        "outputId": "701f640d-4a26-498b-dc2a-4f1efc3c4067"
      },
      "id": "Nz4gS9m2Oj-z",
      "execution_count": null,
      "outputs": [
        {
          "output_type": "execute_result",
          "data": {
            "text/plain": [
              "list"
            ]
          },
          "metadata": {},
          "execution_count": 16
        }
      ]
    },
    {
      "cell_type": "code",
      "source": [
        "[\"Sharath\",\"Krish\",21,42]"
      ],
      "metadata": {
        "colab": {
          "base_uri": "https://localhost:8080/"
        },
        "id": "FZgLNaTxPONX",
        "outputId": "57090a0b-39e7-482c-de41-408fa6f7901e"
      },
      "id": "FZgLNaTxPONX",
      "execution_count": null,
      "outputs": [
        {
          "output_type": "execute_result",
          "data": {
            "text/plain": [
              "['Sharath', 'Krish', 21, 42]"
            ]
          },
          "metadata": {},
          "execution_count": 17
        }
      ]
    },
    {
      "cell_type": "code",
      "source": [
        "list(Str3)"
      ],
      "metadata": {
        "colab": {
          "base_uri": "https://localhost:8080/"
        },
        "id": "1TZMGZSYPbHQ",
        "outputId": "7aa48acc-bc5f-44e7-a7e6-3ca8a5ae10a5"
      },
      "id": "1TZMGZSYPbHQ",
      "execution_count": null,
      "outputs": [
        {
          "output_type": "execute_result",
          "data": {
            "text/plain": [
              "['S', 'h', 'a', 'r', 'a', 't', 'h', ' ', 'P', 'D']"
            ]
          },
          "metadata": {},
          "execution_count": 19
        }
      ]
    },
    {
      "cell_type": "code",
      "source": [
        "Str1=\"Hello you are very good\""
      ],
      "metadata": {
        "id": "WZnGO1QOPrll"
      },
      "id": "WZnGO1QOPrll",
      "execution_count": null,
      "outputs": []
    },
    {
      "cell_type": "code",
      "source": [
        "list1=list(Str1.split(\"e\"))"
      ],
      "metadata": {
        "id": "XOa9WOFXP9IQ"
      },
      "id": "XOa9WOFXP9IQ",
      "execution_count": null,
      "outputs": []
    },
    {
      "cell_type": "code",
      "source": [
        "list1"
      ],
      "metadata": {
        "colab": {
          "base_uri": "https://localhost:8080/"
        },
        "id": "UPo-EQPUQGbs",
        "outputId": "c9d181bf-13de-4b63-ef72-f95e4706cdc8"
      },
      "id": "UPo-EQPUQGbs",
      "execution_count": null,
      "outputs": [
        {
          "output_type": "execute_result",
          "data": {
            "text/plain": [
              "['H', 'llo you ar', ' v', 'ry good']"
            ]
          },
          "metadata": {},
          "execution_count": 26
        }
      ]
    },
    {
      "cell_type": "code",
      "source": [
        "list1[1]"
      ],
      "metadata": {
        "colab": {
          "base_uri": "https://localhost:8080/",
          "height": 35
        },
        "id": "XOADkAPIQoN6",
        "outputId": "8ce5a888-6d07-4248-e31d-eb346f6a2f33"
      },
      "id": "XOADkAPIQoN6",
      "execution_count": null,
      "outputs": [
        {
          "output_type": "execute_result",
          "data": {
            "text/plain": [
              "'llo you ar'"
            ],
            "application/vnd.google.colaboratory.intrinsic+json": {
              "type": "string"
            }
          },
          "metadata": {},
          "execution_count": 27
        }
      ]
    },
    {
      "cell_type": "code",
      "source": [
        "list1[1:]"
      ],
      "metadata": {
        "colab": {
          "base_uri": "https://localhost:8080/"
        },
        "id": "aqSaOafXQxWJ",
        "outputId": "bf27b44d-facf-4ae5-ee03-5a4d8ed4e5b8"
      },
      "id": "aqSaOafXQxWJ",
      "execution_count": null,
      "outputs": [
        {
          "output_type": "execute_result",
          "data": {
            "text/plain": [
              "['llo you ar', ' v', 'ry good']"
            ]
          },
          "metadata": {},
          "execution_count": 28
        }
      ]
    },
    {
      "cell_type": "code",
      "source": [
        "list2=list(Str1.split(\" \"))"
      ],
      "metadata": {
        "id": "iqtAh-KtQz9N"
      },
      "id": "iqtAh-KtQz9N",
      "execution_count": null,
      "outputs": []
    },
    {
      "cell_type": "code",
      "source": [],
      "metadata": {
        "id": "MgtOMm9lROjT"
      },
      "id": "MgtOMm9lROjT",
      "execution_count": null,
      "outputs": []
    }
  ],
  "metadata": {
    "kernelspec": {
      "display_name": "Python 3 (ipykernel)",
      "language": "python",
      "name": "python3"
    },
    "language_info": {
      "codemirror_mode": {
        "name": "ipython",
        "version": 3
      },
      "file_extension": ".py",
      "mimetype": "text/x-python",
      "name": "python",
      "nbconvert_exporter": "python",
      "pygments_lexer": "ipython3",
      "version": "3.10.8"
    },
    "colab": {
      "provenance": []
    }
  },
  "nbformat": 4,
  "nbformat_minor": 5
}