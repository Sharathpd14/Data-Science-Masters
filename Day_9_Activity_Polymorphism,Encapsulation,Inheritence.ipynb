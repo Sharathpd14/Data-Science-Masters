{
  "nbformat": 4,
  "nbformat_minor": 0,
  "metadata": {
    "colab": {
      "provenance": []
    },
    "kernelspec": {
      "name": "python3",
      "display_name": "Python 3"
    },
    "language_info": {
      "name": "python"
    }
  },
  "cells": [
    {
      "cell_type": "markdown",
      "source": [
        "**Polymorphism**"
      ],
      "metadata": {
        "id": "-OU9t2ZEpHmu"
      }
    },
    {
      "cell_type": "code",
      "execution_count": null,
      "metadata": {
        "id": "pHKgHkg3o5nt"
      },
      "outputs": [],
      "source": [
        "class Data_Science:\n",
        "  def Syllabus(self):\n",
        "    print(\"Hello this is my data science syllabus\")"
      ]
    },
    {
      "cell_type": "code",
      "source": [
        "class Web_dev:\n",
        "  def Syllabus(self):\n",
        "    print(\"This is my Web development syllabus\")"
      ],
      "metadata": {
        "id": "V8Mbu-L8qRuk"
      },
      "execution_count": null,
      "outputs": []
    },
    {
      "cell_type": "code",
      "source": [
        "def class_Object(Cl_Ob):\n",
        "  for i in Cl_Ob:\n",
        "    i.Syllabus()"
      ],
      "metadata": {
        "id": "_VfFxjVLqbLG"
      },
      "execution_count": null,
      "outputs": []
    },
    {
      "cell_type": "code",
      "source": [
        "object_Data_Science= Data_Science()\n",
        "object_Web_Dev = Web_dev()"
      ],
      "metadata": {
        "id": "d6X8kfOXqo5R"
      },
      "execution_count": null,
      "outputs": []
    },
    {
      "cell_type": "code",
      "source": [
        "Cl_Ob =[object_Data_Science,object_Web_Dev]"
      ],
      "metadata": {
        "id": "DIfucSp6rOlC"
      },
      "execution_count": null,
      "outputs": []
    },
    {
      "cell_type": "code",
      "source": [
        "class_Object(Cl_Ob)"
      ],
      "metadata": {
        "colab": {
          "base_uri": "https://localhost:8080/"
        },
        "id": "mT8EMfherj31",
        "outputId": "edeb632b-d2bc-4f70-ac39-3666ff8b8177"
      },
      "execution_count": null,
      "outputs": [
        {
          "output_type": "stream",
          "name": "stdout",
          "text": [
            "Hello this is my data science syllabus\n",
            "This is my Web development syllabus\n"
          ]
        }
      ]
    },
    {
      "cell_type": "markdown",
      "source": [
        "**Encapsulation**"
      ],
      "metadata": {
        "id": "hfclfTijsVTP"
      }
    },
    {
      "cell_type": "code",
      "source": [
        "class test:\n",
        "  def __init__(self,a,b):\n",
        "    self.a = a\n",
        "    self.b = b"
      ],
      "metadata": {
        "id": "ZP9CkeMmrowF"
      },
      "execution_count": null,
      "outputs": []
    },
    {
      "cell_type": "code",
      "source": [
        "t=test(13,23)"
      ],
      "metadata": {
        "id": "S2lKcXIns7oc"
      },
      "execution_count": null,
      "outputs": []
    },
    {
      "cell_type": "code",
      "source": [
        "t.a"
      ],
      "metadata": {
        "colab": {
          "base_uri": "https://localhost:8080/"
        },
        "id": "ItN4AY_vs-I3",
        "outputId": "d623b68e-061c-4e37-c216-0c119be89a6d"
      },
      "execution_count": null,
      "outputs": [
        {
          "output_type": "execute_result",
          "data": {
            "text/plain": [
              "13"
            ]
          },
          "metadata": {},
          "execution_count": 37
        }
      ]
    },
    {
      "cell_type": "code",
      "source": [
        "class Car:\n",
        "  def __init__(self, year, make, model,speed):\n",
        "    self.__year = year\n",
        "    self.__make = make\n",
        "    self.__model = model\n",
        "    self.__speed= speed\n",
        "\n",
        "  def set_speed(self,speed):\n",
        "   self.__speed =0 if speed <0 else speed\n",
        "\n",
        "  def get_speed(Self):\n",
        "    return Self.__speed"
      ],
      "metadata": {
        "id": "JfIsm6VKtE-S"
      },
      "execution_count": null,
      "outputs": []
    },
    {
      "cell_type": "code",
      "source": [
        "Car1 = Car(2001,\"Toyata\",\"Innova\",130)"
      ],
      "metadata": {
        "id": "x_zvOo49tknj"
      },
      "execution_count": null,
      "outputs": []
    },
    {
      "cell_type": "code",
      "source": [
        "Car1._Car__year"
      ],
      "metadata": {
        "colab": {
          "base_uri": "https://localhost:8080/"
        },
        "id": "ett16yYeuAsH",
        "outputId": "74bd24e5-b9a0-4eaf-d65c-431954af4dc7"
      },
      "execution_count": null,
      "outputs": [
        {
          "output_type": "execute_result",
          "data": {
            "text/plain": [
              "2001"
            ]
          },
          "metadata": {},
          "execution_count": 53
        }
      ]
    },
    {
      "cell_type": "code",
      "source": [
        "Car1._Car__year = 2010"
      ],
      "metadata": {
        "id": "-j7th8fluRTT"
      },
      "execution_count": null,
      "outputs": []
    },
    {
      "cell_type": "code",
      "source": [
        "Car1._Car__year"
      ],
      "metadata": {
        "colab": {
          "base_uri": "https://localhost:8080/"
        },
        "id": "VohhllwjvObc",
        "outputId": "28de8565-5e2a-4680-dfec-026c6dd3328f"
      },
      "execution_count": null,
      "outputs": [
        {
          "output_type": "execute_result",
          "data": {
            "text/plain": [
              "2010"
            ]
          },
          "metadata": {},
          "execution_count": 55
        }
      ]
    },
    {
      "cell_type": "code",
      "source": [
        "Car1.set_speed(-123)"
      ],
      "metadata": {
        "id": "PjzTX2dvvRWM"
      },
      "execution_count": null,
      "outputs": []
    },
    {
      "cell_type": "code",
      "source": [
        "Car1._Car__speed"
      ],
      "metadata": {
        "colab": {
          "base_uri": "https://localhost:8080/"
        },
        "id": "-9Pkl8cav7-l",
        "outputId": "5f49d57f-43af-458a-b3a9-d3f180799bf0"
      },
      "execution_count": null,
      "outputs": [
        {
          "output_type": "execute_result",
          "data": {
            "text/plain": [
              "0"
            ]
          },
          "metadata": {},
          "execution_count": 82
        }
      ]
    },
    {
      "cell_type": "code",
      "source": [
        "Car1.get_speed()"
      ],
      "metadata": {
        "colab": {
          "base_uri": "https://localhost:8080/"
        },
        "id": "JrpbEDdEwxNr",
        "outputId": "b1c6955e-854b-471c-9532-38626a303fe1"
      },
      "execution_count": null,
      "outputs": [
        {
          "output_type": "execute_result",
          "data": {
            "text/plain": [
              "130"
            ]
          },
          "metadata": {},
          "execution_count": 87
        }
      ]
    },
    {
      "cell_type": "code",
      "source": [
        "Car1.set_speed(30)"
      ],
      "metadata": {
        "id": "m2ie6XZCxVKf"
      },
      "execution_count": null,
      "outputs": []
    },
    {
      "cell_type": "code",
      "source": [
        "Car1.get_speed()"
      ],
      "metadata": {
        "colab": {
          "base_uri": "https://localhost:8080/"
        },
        "id": "9jaMXam3xdpw",
        "outputId": "477d15b0-bed6-4b02-b635-416aadc3d733"
      },
      "execution_count": null,
      "outputs": [
        {
          "output_type": "execute_result",
          "data": {
            "text/plain": [
              "30"
            ]
          },
          "metadata": {},
          "execution_count": 90
        }
      ]
    },
    {
      "cell_type": "code",
      "source": [
        "class bank_account:\n",
        "  def __init__(self,balance):\n",
        "    self.__balance = balance\n",
        "  \n",
        "  def deposit(self,amount):\n",
        "    self.__balance = self.__balance+amount\n",
        "\n",
        "  def withdraw(self,amount):\n",
        "    if self.__balance >= amount:\n",
        "      self.__balance=self.__balance-amount\n",
        "      return True\n",
        "    else:\n",
        "      return False\n",
        "  \n",
        "  def get_balance(self):\n",
        "    return self.__balance\n"
      ],
      "metadata": {
        "id": "Bxq2yUArxghH"
      },
      "execution_count": null,
      "outputs": []
    },
    {
      "cell_type": "code",
      "source": [
        "Bank_Amount = bank_account(2000)"
      ],
      "metadata": {
        "id": "cWLxz7Il0AR9"
      },
      "execution_count": null,
      "outputs": []
    },
    {
      "cell_type": "code",
      "source": [
        "Bank_Amount.deposit(10000)"
      ],
      "metadata": {
        "id": "U1iPfF3F0KDo"
      },
      "execution_count": null,
      "outputs": []
    },
    {
      "cell_type": "code",
      "source": [
        "Bank_Amount.get_balance()"
      ],
      "metadata": {
        "colab": {
          "base_uri": "https://localhost:8080/"
        },
        "id": "jwMkuCa-0NsY",
        "outputId": "4413619d-dd74-43dd-bb6f-41a8d60cb183"
      },
      "execution_count": null,
      "outputs": [
        {
          "output_type": "execute_result",
          "data": {
            "text/plain": [
              "12000"
            ]
          },
          "metadata": {},
          "execution_count": 108
        }
      ]
    },
    {
      "cell_type": "code",
      "source": [
        "Bank_Amount.withdraw(13000)"
      ],
      "metadata": {
        "colab": {
          "base_uri": "https://localhost:8080/"
        },
        "id": "m3Ny8V2v0Q72",
        "outputId": "4142a6fc-af60-4676-e962-429197d2b1ed"
      },
      "execution_count": null,
      "outputs": [
        {
          "output_type": "execute_result",
          "data": {
            "text/plain": [
              "False"
            ]
          },
          "metadata": {},
          "execution_count": 109
        }
      ]
    },
    {
      "cell_type": "code",
      "source": [
        "Bank_Amount.get_balance()"
      ],
      "metadata": {
        "colab": {
          "base_uri": "https://localhost:8080/"
        },
        "id": "ndt4rp-s0hnV",
        "outputId": "0416ad33-996d-4421-e6cd-ef33515c6c16"
      },
      "execution_count": null,
      "outputs": [
        {
          "output_type": "execute_result",
          "data": {
            "text/plain": [
              "12000"
            ]
          },
          "metadata": {},
          "execution_count": 110
        }
      ]
    },
    {
      "cell_type": "code",
      "source": [
        "Bank_Amount.withdraw(7000)"
      ],
      "metadata": {
        "colab": {
          "base_uri": "https://localhost:8080/"
        },
        "id": "LeRTtLlE02f3",
        "outputId": "7eca3b48-00c3-45bc-bbea-7dc17f1d23f1"
      },
      "execution_count": null,
      "outputs": [
        {
          "output_type": "execute_result",
          "data": {
            "text/plain": [
              "True"
            ]
          },
          "metadata": {},
          "execution_count": 111
        }
      ]
    },
    {
      "cell_type": "code",
      "source": [
        "Bank_Amount.get_balance()"
      ],
      "metadata": {
        "colab": {
          "base_uri": "https://localhost:8080/"
        },
        "id": "fqk8ZOaY07Fq",
        "outputId": "72227d8e-c230-4452-eb7e-54e8f35270c3"
      },
      "execution_count": null,
      "outputs": [
        {
          "output_type": "execute_result",
          "data": {
            "text/plain": [
              "5000"
            ]
          },
          "metadata": {},
          "execution_count": 112
        }
      ]
    },
    {
      "cell_type": "markdown",
      "source": [
        "**Inheritence**"
      ],
      "metadata": {
        "id": "X_C0bh291J2t"
      }
    },
    {
      "cell_type": "code",
      "source": [
        "class parent:\n",
        "  def test_parent(self):\n",
        "    print(\"This is my parent class\")"
      ],
      "metadata": {
        "id": "BQzh5ov009yT"
      },
      "execution_count": null,
      "outputs": []
    },
    {
      "cell_type": "code",
      "source": [
        "class child(parent):\n",
        "  pass"
      ],
      "metadata": {
        "id": "msp-ao2o1dqJ"
      },
      "execution_count": null,
      "outputs": []
    },
    {
      "cell_type": "code",
      "source": [
        "Test = child()"
      ],
      "metadata": {
        "id": "XQoxc3111i8B"
      },
      "execution_count": null,
      "outputs": []
    },
    {
      "cell_type": "code",
      "source": [
        "Test.test_parent()"
      ],
      "metadata": {
        "colab": {
          "base_uri": "https://localhost:8080/"
        },
        "id": "athr2VcC1n4x",
        "outputId": "3996b957-2ca5-4b1e-9ebc-2bed78990b89"
      },
      "execution_count": null,
      "outputs": [
        {
          "output_type": "stream",
          "name": "stdout",
          "text": [
            "This is my parent class\n"
          ]
        }
      ]
    },
    {
      "cell_type": "markdown",
      "source": [
        "**Multilevel Inheritence**"
      ],
      "metadata": {
        "id": "50ONa_tk287b"
      }
    },
    {
      "cell_type": "code",
      "source": [
        "class class1:\n",
        "  def test_class1(self):\n",
        "    print(\"This is my class 1\")"
      ],
      "metadata": {
        "id": "Ed-zzfy61u-Y"
      },
      "execution_count": null,
      "outputs": []
    },
    {
      "cell_type": "code",
      "source": [
        "class class2(class1):\n",
        "  def test_class2(Self):\n",
        "    print(\"This is my 2nd class\")"
      ],
      "metadata": {
        "id": "sRxh4uAk2E8R"
      },
      "execution_count": null,
      "outputs": []
    },
    {
      "cell_type": "code",
      "source": [
        "class class3(class2):\n",
        "  def test_class3(self):\n",
        "    print(\"This is my 3rd class \")"
      ],
      "metadata": {
        "id": "UTYVlsB72QJO"
      },
      "execution_count": null,
      "outputs": []
    },
    {
      "cell_type": "code",
      "source": [
        "Object = class3()"
      ],
      "metadata": {
        "id": "Ry5bXSFk2aGf"
      },
      "execution_count": null,
      "outputs": []
    },
    {
      "cell_type": "code",
      "source": [
        "Object.test_class3()"
      ],
      "metadata": {
        "colab": {
          "base_uri": "https://localhost:8080/"
        },
        "id": "xm7Yvpdl2d0g",
        "outputId": "18b1f3b4-35d1-492c-f1b2-e3607eab2a72"
      },
      "execution_count": null,
      "outputs": [
        {
          "output_type": "stream",
          "name": "stdout",
          "text": [
            "This is my 3rd class\n"
          ]
        }
      ]
    },
    {
      "cell_type": "code",
      "source": [
        "Object.test_class1()"
      ],
      "metadata": {
        "colab": {
          "base_uri": "https://localhost:8080/"
        },
        "id": "nJUM4sU_2lG-",
        "outputId": "2d63aeff-3dad-4e45-8767-4f5d2355e6a7"
      },
      "execution_count": null,
      "outputs": [
        {
          "output_type": "stream",
          "name": "stdout",
          "text": [
            "This is my class 1\n"
          ]
        }
      ]
    },
    {
      "cell_type": "code",
      "source": [
        "Object.test_class2()"
      ],
      "metadata": {
        "colab": {
          "base_uri": "https://localhost:8080/"
        },
        "id": "QnFz-DMh2pcc",
        "outputId": "e3e62540-f254-48dc-9858-1711a8cea57f"
      },
      "execution_count": null,
      "outputs": [
        {
          "output_type": "stream",
          "name": "stdout",
          "text": [
            "This is my 2nd class\n"
          ]
        }
      ]
    },
    {
      "cell_type": "markdown",
      "source": [
        "**Multiple Inheritence**"
      ],
      "metadata": {
        "id": "NuFL10wR3B9S"
      }
    },
    {
      "cell_type": "code",
      "source": [
        "class class1:\n",
        "  def test_class1(self):\n",
        "    print(\"This is my 1st class\")"
      ],
      "metadata": {
        "id": "HuaKj6hM2tDV"
      },
      "execution_count": null,
      "outputs": []
    },
    {
      "cell_type": "code",
      "source": [
        "class class2:\n",
        "  def test_class2(self):\n",
        "    print(\"This is my 2nd class\")"
      ],
      "metadata": {
        "id": "m_KhGBXe3TdO"
      },
      "execution_count": null,
      "outputs": []
    },
    {
      "cell_type": "code",
      "source": [
        "class class3(class1,class2):\n",
        "  pass"
      ],
      "metadata": {
        "id": "ZUCkUOhg3Yz6"
      },
      "execution_count": null,
      "outputs": []
    },
    {
      "cell_type": "code",
      "source": [
        "Object1 = class3()"
      ],
      "metadata": {
        "id": "Lu21Pd8W3eFO"
      },
      "execution_count": null,
      "outputs": []
    },
    {
      "cell_type": "code",
      "source": [
        "Object1.test_class1()"
      ],
      "metadata": {
        "colab": {
          "base_uri": "https://localhost:8080/"
        },
        "id": "OYxBiPl33g4y",
        "outputId": "8f74dd08-42dc-485a-b967-942a0326a5fa"
      },
      "execution_count": null,
      "outputs": [
        {
          "output_type": "stream",
          "name": "stdout",
          "text": [
            "This is my 1st class\n"
          ]
        }
      ]
    },
    {
      "cell_type": "code",
      "source": [
        "Object1.test_class2()"
      ],
      "metadata": {
        "colab": {
          "base_uri": "https://localhost:8080/"
        },
        "id": "LPviShny3kBr",
        "outputId": "02002b64-8def-4667-aad2-4fa79d46218a"
      },
      "execution_count": null,
      "outputs": [
        {
          "output_type": "stream",
          "name": "stdout",
          "text": [
            "This is my 2nd class\n"
          ]
        }
      ]
    },
    {
      "cell_type": "markdown",
      "source": [
        "**Abstraction**"
      ],
      "metadata": {
        "id": "aiNazI6o362O"
      }
    },
    {
      "cell_type": "code",
      "source": [
        "import abc\n",
        "class Sharath:\n",
        "\n",
        "  @abc.abstractmethod\n",
        "  def student_details(self):\n",
        "    pass\n",
        "  @abc.abstractmethod\n",
        "  def student_assignment(self):\n",
        "    pass\n",
        "  @abc.abstractmethod \n",
        "  def student_marks(self):\n",
        "    pass"
      ],
      "metadata": {
        "id": "A9vvMWq03mjQ"
      },
      "execution_count": null,
      "outputs": []
    },
    {
      "cell_type": "code",
      "source": [
        "class data_science(Sharath):\n",
        "  def student_details(self):\n",
        "    return \"It will try to return details of data science student details\"\n",
        "\n",
        "  def student_assignment(self):\n",
        "    return \"It will try to return assignment details of data science student \""
      ],
      "metadata": {
        "id": "jaxlkIcv4D9V"
      },
      "execution_count": null,
      "outputs": []
    },
    {
      "cell_type": "code",
      "source": [
        "class web_dev(Sharath):\n",
        "  def student_details(self):\n",
        "    return \"It will try to return details of Web development student details\"\n",
        "\n",
        "  def student_marks(self):\n",
        "    return \"It will try to return marks details of Web development student \""
      ],
      "metadata": {
        "id": "35qpBWj15PQ5"
      },
      "execution_count": null,
      "outputs": []
    },
    {
      "cell_type": "code",
      "source": [
        "ds =data_science()"
      ],
      "metadata": {
        "id": "jdSHwXf55nyk"
      },
      "execution_count": null,
      "outputs": []
    },
    {
      "cell_type": "code",
      "source": [
        "ds.student_details()"
      ],
      "metadata": {
        "colab": {
          "base_uri": "https://localhost:8080/",
          "height": 35
        },
        "id": "ItrKyuN_54Nw",
        "outputId": "b602b776-1eb0-4afb-a364-618bde97b4eb"
      },
      "execution_count": null,
      "outputs": [
        {
          "output_type": "execute_result",
          "data": {
            "text/plain": [
              "'It will try to return details of data science student details'"
            ],
            "application/vnd.google.colaboratory.intrinsic+json": {
              "type": "string"
            }
          },
          "metadata": {},
          "execution_count": 144
        }
      ]
    },
    {
      "cell_type": "code",
      "source": [
        "web = web_dev()"
      ],
      "metadata": {
        "id": "kzjAAZto58DL"
      },
      "execution_count": null,
      "outputs": []
    },
    {
      "cell_type": "code",
      "source": [
        "web.student_marks()"
      ],
      "metadata": {
        "colab": {
          "base_uri": "https://localhost:8080/",
          "height": 35
        },
        "id": "LO0hBB7i6AG5",
        "outputId": "c95ba085-5f11-49d2-a278-777551224a06"
      },
      "execution_count": null,
      "outputs": [
        {
          "output_type": "execute_result",
          "data": {
            "text/plain": [
              "'It will try to return marks details of Web development student '"
            ],
            "application/vnd.google.colaboratory.intrinsic+json": {
              "type": "string"
            }
          },
          "metadata": {},
          "execution_count": 147
        }
      ]
    }
  ]
}