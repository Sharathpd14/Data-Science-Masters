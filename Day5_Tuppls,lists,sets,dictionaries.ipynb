{
  "nbformat": 4,
  "nbformat_minor": 0,
  "metadata": {
    "colab": {
      "provenance": []
    },
    "kernelspec": {
      "name": "python3",
      "display_name": "Python 3"
    },
    "language_info": {
      "name": "python"
    }
  },
  "cells": [
    {
      "cell_type": "markdown",
      "source": [
        "**Tuples**"
      ],
      "metadata": {
        "id": "HIMnYRjFFhCi"
      }
    },
    {
      "cell_type": "code",
      "execution_count": null,
      "metadata": {
        "id": "fL-CdVsjDgka"
      },
      "outputs": [],
      "source": [
        "name = ()"
      ]
    },
    {
      "cell_type": "code",
      "source": [
        "type(name)"
      ],
      "metadata": {
        "colab": {
          "base_uri": "https://localhost:8080/"
        },
        "id": "ex4iSHj1FrPz",
        "outputId": "cea5a251-bef1-4b64-a61e-5be0b5a05c81"
      },
      "execution_count": null,
      "outputs": [
        {
          "output_type": "execute_result",
          "data": {
            "text/plain": [
              "tuple"
            ]
          },
          "metadata": {},
          "execution_count": 3
        }
      ]
    },
    {
      "cell_type": "code",
      "source": [
        "t1=(\"Hello\",1,2,3,4,5+4j,True)"
      ],
      "metadata": {
        "id": "4YYuraVgF30t"
      },
      "execution_count": null,
      "outputs": []
    },
    {
      "cell_type": "code",
      "source": [
        "type(t1)"
      ],
      "metadata": {
        "colab": {
          "base_uri": "https://localhost:8080/"
        },
        "id": "TWxrOKq2GEtv",
        "outputId": "47a3c7c0-4384-4ee9-da25-1eea50131a27"
      },
      "execution_count": null,
      "outputs": [
        {
          "output_type": "execute_result",
          "data": {
            "text/plain": [
              "tuple"
            ]
          },
          "metadata": {},
          "execution_count": 6
        }
      ]
    },
    {
      "cell_type": "code",
      "source": [
        "t1[0]"
      ],
      "metadata": {
        "colab": {
          "base_uri": "https://localhost:8080/",
          "height": 35
        },
        "id": "z8lLa0V2GGLN",
        "outputId": "c1d7e155-fd1a-481b-817f-05dbc086954b"
      },
      "execution_count": null,
      "outputs": [
        {
          "output_type": "execute_result",
          "data": {
            "text/plain": [
              "'Hello'"
            ],
            "application/vnd.google.colaboratory.intrinsic+json": {
              "type": "string"
            }
          },
          "metadata": {},
          "execution_count": 7
        }
      ]
    },
    {
      "cell_type": "code",
      "source": [
        "t1[::-1]"
      ],
      "metadata": {
        "colab": {
          "base_uri": "https://localhost:8080/"
        },
        "id": "aehWj49BGJzx",
        "outputId": "453cddca-568b-48c3-fcef-e171cc05ea12"
      },
      "execution_count": null,
      "outputs": [
        {
          "output_type": "execute_result",
          "data": {
            "text/plain": [
              "(True, (5+4j), 4, 3, 2, 1, 'Hello')"
            ]
          },
          "metadata": {},
          "execution_count": 9
        }
      ]
    },
    {
      "cell_type": "code",
      "source": [
        "t1"
      ],
      "metadata": {
        "colab": {
          "base_uri": "https://localhost:8080/"
        },
        "id": "H2LIgDGVGPiS",
        "outputId": "0f2908ae-6275-4f4c-d843-6d96984fc5c2"
      },
      "execution_count": null,
      "outputs": [
        {
          "output_type": "execute_result",
          "data": {
            "text/plain": [
              "('Hello', 1, 2, 3, 4, (5+4j), True)"
            ]
          },
          "metadata": {},
          "execution_count": 10
        }
      ]
    },
    {
      "cell_type": "code",
      "source": [
        "t2=t1[::-1]"
      ],
      "metadata": {
        "id": "PagzDTHkGZRH"
      },
      "execution_count": null,
      "outputs": []
    },
    {
      "cell_type": "code",
      "source": [
        "t2"
      ],
      "metadata": {
        "colab": {
          "base_uri": "https://localhost:8080/"
        },
        "id": "5_DVS7ULGdw-",
        "outputId": "4ea5bea9-06c0-45d9-d66a-c80a7038d466"
      },
      "execution_count": null,
      "outputs": [
        {
          "output_type": "execute_result",
          "data": {
            "text/plain": [
              "(True, (5+4j), 4, 3, 2, 1, 'Hello')"
            ]
          },
          "metadata": {},
          "execution_count": 12
        }
      ]
    },
    {
      "cell_type": "code",
      "source": [
        "t1[0:3]"
      ],
      "metadata": {
        "colab": {
          "base_uri": "https://localhost:8080/"
        },
        "id": "FMdIJXGkGeuJ",
        "outputId": "ebae3fce-7ca0-4e18-dbf6-ef6a2ad758ce"
      },
      "execution_count": null,
      "outputs": [
        {
          "output_type": "execute_result",
          "data": {
            "text/plain": [
              "('Hello', 1, 2)"
            ]
          },
          "metadata": {},
          "execution_count": 14
        }
      ]
    },
    {
      "cell_type": "code",
      "source": [
        "t1.count(12)"
      ],
      "metadata": {
        "colab": {
          "base_uri": "https://localhost:8080/"
        },
        "id": "TwlBtSPrGrkN",
        "outputId": "5ee671bb-66d1-4f59-f9d6-032633e20cde"
      },
      "execution_count": null,
      "outputs": [
        {
          "output_type": "execute_result",
          "data": {
            "text/plain": [
              "0"
            ]
          },
          "metadata": {},
          "execution_count": 17
        }
      ]
    },
    {
      "cell_type": "code",
      "source": [
        "t1.count(4)"
      ],
      "metadata": {
        "colab": {
          "base_uri": "https://localhost:8080/"
        },
        "id": "7LNY5JNPHaNp",
        "outputId": "6737856d-0fa6-475d-dc3a-21c16b053da7"
      },
      "execution_count": null,
      "outputs": [
        {
          "output_type": "execute_result",
          "data": {
            "text/plain": [
              "1"
            ]
          },
          "metadata": {},
          "execution_count": 21
        }
      ]
    },
    {
      "cell_type": "code",
      "source": [
        "# True is stored as 1 internally\n",
        "t2.index(1)"
      ],
      "metadata": {
        "colab": {
          "base_uri": "https://localhost:8080/"
        },
        "id": "dhpFLciRHBod",
        "outputId": "4bdfdb04-7b33-4dba-95e2-4ec96ba837a4"
      },
      "execution_count": null,
      "outputs": [
        {
          "output_type": "execute_result",
          "data": {
            "text/plain": [
              "0"
            ]
          },
          "metadata": {},
          "execution_count": 22
        }
      ]
    },
    {
      "cell_type": "code",
      "source": [
        "t1.index"
      ],
      "metadata": {
        "id": "9XtCw50FHSzq"
      },
      "execution_count": null,
      "outputs": []
    },
    {
      "cell_type": "code",
      "source": [
        "t1"
      ],
      "metadata": {
        "colab": {
          "base_uri": "https://localhost:8080/"
        },
        "id": "3oKXbowYIfIP",
        "outputId": "05976082-23b7-453d-e0a7-44a167c75a0b"
      },
      "execution_count": null,
      "outputs": [
        {
          "output_type": "execute_result",
          "data": {
            "text/plain": [
              "('Hello', 1, 2, 3, 4, (5+4j), True)"
            ]
          },
          "metadata": {},
          "execution_count": 23
        }
      ]
    },
    {
      "cell_type": "code",
      "source": [
        "t2"
      ],
      "metadata": {
        "colab": {
          "base_uri": "https://localhost:8080/"
        },
        "id": "WDRW3J-pIg9L",
        "outputId": "9c9d5ccc-07d3-404a-9de4-231b51f7713a"
      },
      "execution_count": null,
      "outputs": [
        {
          "output_type": "execute_result",
          "data": {
            "text/plain": [
              "(True, (5+4j), 4, 3, 2, 1, 'Hello')"
            ]
          },
          "metadata": {},
          "execution_count": 24
        }
      ]
    },
    {
      "cell_type": "code",
      "source": [
        "t1[3]"
      ],
      "metadata": {
        "colab": {
          "base_uri": "https://localhost:8080/"
        },
        "id": "FFFqAHnFIiNp",
        "outputId": "e17ec14e-fb73-42c5-bb20-749c28a664fb"
      },
      "execution_count": null,
      "outputs": [
        {
          "output_type": "execute_result",
          "data": {
            "text/plain": [
              "3"
            ]
          },
          "metadata": {},
          "execution_count": 25
        }
      ]
    },
    {
      "cell_type": "code",
      "source": [
        "t2[3]"
      ],
      "metadata": {
        "colab": {
          "base_uri": "https://localhost:8080/"
        },
        "id": "aDpwQP66Irjw",
        "outputId": "4afec996-062c-4297-889a-01812d9ac0dc"
      },
      "execution_count": null,
      "outputs": [
        {
          "output_type": "execute_result",
          "data": {
            "text/plain": [
              "3"
            ]
          },
          "metadata": {},
          "execution_count": 26
        }
      ]
    },
    {
      "cell_type": "code",
      "source": [
        "list=[\"hell\",\"Helo Raj\"]"
      ],
      "metadata": {
        "id": "M-5BvuboIs-0"
      },
      "execution_count": null,
      "outputs": []
    },
    {
      "cell_type": "code",
      "source": [
        "list[0]=\"Hello\""
      ],
      "metadata": {
        "id": "KQYeTcezI-t1"
      },
      "execution_count": null,
      "outputs": []
    },
    {
      "cell_type": "code",
      "source": [
        "list"
      ],
      "metadata": {
        "colab": {
          "base_uri": "https://localhost:8080/"
        },
        "id": "sf9VSFNdJBxy",
        "outputId": "755a732f-7159-44a9-8d33-1a31c0f3e936"
      },
      "execution_count": null,
      "outputs": [
        {
          "output_type": "execute_result",
          "data": {
            "text/plain": [
              "['Hello', 'Helo Raj']"
            ]
          },
          "metadata": {},
          "execution_count": 29
        }
      ]
    },
    {
      "cell_type": "markdown",
      "source": [
        "Note : Tuple are basically follows immutablility concepts where it is not going to allow to change any element at a particular index"
      ],
      "metadata": {
        "id": "YBlKAlncJKnW"
      }
    },
    {
      "cell_type": "code",
      "source": [
        "for i in t1:\n",
        "  print(i,\" \",type(i))"
      ],
      "metadata": {
        "colab": {
          "base_uri": "https://localhost:8080/"
        },
        "id": "jcmuLHbVJC7R",
        "outputId": "da99217d-7ece-4b46-d091-f5ad672ca6b0"
      },
      "execution_count": null,
      "outputs": [
        {
          "output_type": "stream",
          "name": "stdout",
          "text": [
            "Hello   <class 'str'>\n",
            "1   <class 'int'>\n",
            "2   <class 'int'>\n",
            "3   <class 'int'>\n",
            "4   <class 'int'>\n",
            "(5+4j)   <class 'complex'>\n",
            "True   <class 'bool'>\n"
          ]
        }
      ]
    },
    {
      "cell_type": "code",
      "source": [
        "t3=(1,2,3,4)"
      ],
      "metadata": {
        "id": "Oo5D2cp1JgQ5"
      },
      "execution_count": null,
      "outputs": []
    },
    {
      "cell_type": "code",
      "source": [
        "t3*2"
      ],
      "metadata": {
        "colab": {
          "base_uri": "https://localhost:8080/"
        },
        "id": "xwPJphwLJ2U-",
        "outputId": "5397a7f2-8a9d-4405-ea6f-721a70b8c412"
      },
      "execution_count": null,
      "outputs": [
        {
          "output_type": "execute_result",
          "data": {
            "text/plain": [
              "(1, 2, 3, 4, 1, 2, 3, 4)"
            ]
          },
          "metadata": {},
          "execution_count": 34
        }
      ]
    },
    {
      "cell_type": "code",
      "source": [
        "t3"
      ],
      "metadata": {
        "colab": {
          "base_uri": "https://localhost:8080/"
        },
        "id": "nLUfScFDJ4XL",
        "outputId": "61a66beb-62da-4d29-89a8-ed665fa6ca63"
      },
      "execution_count": null,
      "outputs": [
        {
          "output_type": "execute_result",
          "data": {
            "text/plain": [
              "(1, 2, 3, 4)"
            ]
          },
          "metadata": {},
          "execution_count": 35
        }
      ]
    },
    {
      "cell_type": "code",
      "source": [
        "max(t3)"
      ],
      "metadata": {
        "colab": {
          "base_uri": "https://localhost:8080/"
        },
        "id": "DPLF4K83J50Z",
        "outputId": "932c92d2-9966-4c62-f2e0-fbb5cd9eb7d5"
      },
      "execution_count": null,
      "outputs": [
        {
          "output_type": "execute_result",
          "data": {
            "text/plain": [
              "4"
            ]
          },
          "metadata": {},
          "execution_count": 36
        }
      ]
    },
    {
      "cell_type": "code",
      "source": [
        "min(t3)"
      ],
      "metadata": {
        "colab": {
          "base_uri": "https://localhost:8080/"
        },
        "id": "bpY-dAjkJ88Y",
        "outputId": "5641b353-e7e1-47b3-e86f-3cc33fa8d437"
      },
      "execution_count": null,
      "outputs": [
        {
          "output_type": "execute_result",
          "data": {
            "text/plain": [
              "1"
            ]
          },
          "metadata": {},
          "execution_count": 37
        }
      ]
    },
    {
      "cell_type": "code",
      "source": [
        "t1"
      ],
      "metadata": {
        "colab": {
          "base_uri": "https://localhost:8080/"
        },
        "id": "n-4hlzSfJ-01",
        "outputId": "a6409f10-77af-4a75-a620-8027d0c0e22e"
      },
      "execution_count": null,
      "outputs": [
        {
          "output_type": "execute_result",
          "data": {
            "text/plain": [
              "('Hello', 1, 2, 3, 4, (5+4j), True)"
            ]
          },
          "metadata": {},
          "execution_count": 38
        }
      ]
    },
    {
      "cell_type": "code",
      "source": [
        "t3"
      ],
      "metadata": {
        "colab": {
          "base_uri": "https://localhost:8080/"
        },
        "id": "13467XPHKmHP",
        "outputId": "28c653ec-b92b-4881-e375-aeeca73801b7"
      },
      "execution_count": null,
      "outputs": [
        {
          "output_type": "execute_result",
          "data": {
            "text/plain": [
              "(1, 2, 3, 4)"
            ]
          },
          "metadata": {},
          "execution_count": 39
        }
      ]
    },
    {
      "cell_type": "code",
      "source": [
        "t4=(t1,t3)"
      ],
      "metadata": {
        "id": "_ZQ0QewOKpF-"
      },
      "execution_count": null,
      "outputs": []
    },
    {
      "cell_type": "code",
      "source": [
        "t4"
      ],
      "metadata": {
        "colab": {
          "base_uri": "https://localhost:8080/"
        },
        "id": "2MI_gEu-KvI9",
        "outputId": "b4dd8f46-d4c4-4f5a-e2b1-7b4f97565618"
      },
      "execution_count": null,
      "outputs": [
        {
          "output_type": "execute_result",
          "data": {
            "text/plain": [
              "(('Hello', 1, 2, 3, 4, (5+4j), True), (1, 2, 3, 4))"
            ]
          },
          "metadata": {},
          "execution_count": 41
        }
      ]
    },
    {
      "cell_type": "code",
      "source": [
        "t4[1][2]"
      ],
      "metadata": {
        "colab": {
          "base_uri": "https://localhost:8080/"
        },
        "id": "hIl6WoZLKv7a",
        "outputId": "f1f86b39-a74c-43e0-f667-c06c557a22eb"
      },
      "execution_count": null,
      "outputs": [
        {
          "output_type": "execute_result",
          "data": {
            "text/plain": [
              "3"
            ]
          },
          "metadata": {},
          "execution_count": 42
        }
      ]
    },
    {
      "cell_type": "code",
      "source": [
        "t4[0][0]"
      ],
      "metadata": {
        "colab": {
          "base_uri": "https://localhost:8080/",
          "height": 35
        },
        "id": "hTdrxpelK1hL",
        "outputId": "792a6308-d682-4cb0-ec76-7a188b9b43c9"
      },
      "execution_count": null,
      "outputs": [
        {
          "output_type": "execute_result",
          "data": {
            "text/plain": [
              "'Hello'"
            ],
            "application/vnd.google.colaboratory.intrinsic+json": {
              "type": "string"
            }
          },
          "metadata": {},
          "execution_count": 43
        }
      ]
    },
    {
      "cell_type": "code",
      "source": [
        "t2"
      ],
      "metadata": {
        "colab": {
          "base_uri": "https://localhost:8080/"
        },
        "id": "7yg-z3rsK8Vh",
        "outputId": "b11427d0-cf9d-4c87-eb58-5b812c69cf6d"
      },
      "execution_count": null,
      "outputs": [
        {
          "output_type": "execute_result",
          "data": {
            "text/plain": [
              "(True, (5+4j), 4, 3, 2, 1, 'Hello')"
            ]
          },
          "metadata": {},
          "execution_count": 44
        }
      ]
    },
    {
      "cell_type": "code",
      "source": [
        "del t2"
      ],
      "metadata": {
        "id": "UzoTxagbK-JB"
      },
      "execution_count": null,
      "outputs": []
    },
    {
      "cell_type": "code",
      "source": [
        "len(t4)"
      ],
      "metadata": {
        "colab": {
          "base_uri": "https://localhost:8080/"
        },
        "id": "uvpv29URLG_x",
        "outputId": "7b24bf39-6bd0-4374-ea60-346cfda495fb"
      },
      "execution_count": null,
      "outputs": [
        {
          "output_type": "execute_result",
          "data": {
            "text/plain": [
              "2"
            ]
          },
          "metadata": {},
          "execution_count": 47
        }
      ]
    },
    {
      "cell_type": "code",
      "source": [
        "len(t1)"
      ],
      "metadata": {
        "colab": {
          "base_uri": "https://localhost:8080/"
        },
        "id": "Exh1ixXALLjC",
        "outputId": "f4a6bf81-3bb9-4e4a-bab0-47fbd3207a50"
      },
      "execution_count": null,
      "outputs": [
        {
          "output_type": "execute_result",
          "data": {
            "text/plain": [
              "7"
            ]
          },
          "metadata": {},
          "execution_count": 48
        }
      ]
    },
    {
      "cell_type": "code",
      "source": [
        "len(t3)"
      ],
      "metadata": {
        "colab": {
          "base_uri": "https://localhost:8080/"
        },
        "id": "SfYHpSj7LNqk",
        "outputId": "b2b8be71-5e01-4783-9f85-39dfec98d7a8"
      },
      "execution_count": null,
      "outputs": [
        {
          "output_type": "execute_result",
          "data": {
            "text/plain": [
              "4"
            ]
          },
          "metadata": {},
          "execution_count": 49
        }
      ]
    },
    {
      "cell_type": "code",
      "source": [
        "\"Hello\" in t1"
      ],
      "metadata": {
        "colab": {
          "base_uri": "https://localhost:8080/"
        },
        "id": "Q6JEv0EdLPNX",
        "outputId": "27e3971d-6c4c-4dc2-a523-3b1cf52f9621"
      },
      "execution_count": null,
      "outputs": [
        {
          "output_type": "execute_result",
          "data": {
            "text/plain": [
              "True"
            ]
          },
          "metadata": {},
          "execution_count": 50
        }
      ]
    },
    {
      "cell_type": "code",
      "source": [
        "\"Sharath\" in t1"
      ],
      "metadata": {
        "colab": {
          "base_uri": "https://localhost:8080/"
        },
        "id": "i3iCY9XhLYSd",
        "outputId": "e208f8ef-b91c-4cde-e2d2-afbf1940a224"
      },
      "execution_count": null,
      "outputs": [
        {
          "output_type": "execute_result",
          "data": {
            "text/plain": [
              "False"
            ]
          },
          "metadata": {},
          "execution_count": 51
        }
      ]
    },
    {
      "cell_type": "markdown",
      "source": [
        "# **Set**"
      ],
      "metadata": {
        "id": "mvK6-5HxL1m8"
      }
    },
    {
      "cell_type": "code",
      "source": [
        "s={}"
      ],
      "metadata": {
        "id": "rYPmhBnfLgHz"
      },
      "execution_count": null,
      "outputs": []
    },
    {
      "cell_type": "code",
      "source": [
        "type(s)"
      ],
      "metadata": {
        "colab": {
          "base_uri": "https://localhost:8080/"
        },
        "id": "GSqbyhvXL8sy",
        "outputId": "3e87e376-00a8-4dd0-8b94-7d16bbaaf953"
      },
      "execution_count": null,
      "outputs": [
        {
          "output_type": "execute_result",
          "data": {
            "text/plain": [
              "dict"
            ]
          },
          "metadata": {},
          "execution_count": 54
        }
      ]
    },
    {
      "cell_type": "code",
      "source": [
        "s1={1,2,3,4}"
      ],
      "metadata": {
        "id": "Vfwlfx7qL-T2"
      },
      "execution_count": null,
      "outputs": []
    },
    {
      "cell_type": "code",
      "source": [
        "type(s1)"
      ],
      "metadata": {
        "colab": {
          "base_uri": "https://localhost:8080/"
        },
        "id": "xB6WVdwlMCjX",
        "outputId": "db3d1b7e-8385-464e-8c4c-e54ec675164d"
      },
      "execution_count": null,
      "outputs": [
        {
          "output_type": "execute_result",
          "data": {
            "text/plain": [
              "set"
            ]
          },
          "metadata": {},
          "execution_count": 56
        }
      ]
    },
    {
      "cell_type": "code",
      "source": [
        "s2={1,1,1,2,3,34,4,5,2,9}"
      ],
      "metadata": {
        "id": "G_2P9MmjMGlN"
      },
      "execution_count": null,
      "outputs": []
    },
    {
      "cell_type": "code",
      "source": [
        "s2"
      ],
      "metadata": {
        "colab": {
          "base_uri": "https://localhost:8080/"
        },
        "id": "ssRsrsizMUVc",
        "outputId": "ded3f17e-e922-48c3-ba05-0292cadda88a"
      },
      "execution_count": null,
      "outputs": [
        {
          "output_type": "execute_result",
          "data": {
            "text/plain": [
              "{1, 2, 3, 4, 5, 9, 34}"
            ]
          },
          "metadata": {},
          "execution_count": 60
        }
      ]
    },
    {
      "cell_type": "markdown",
      "source": [
        "Set will remove duplicates n provides in sorted order"
      ],
      "metadata": {
        "id": "tnBL0BW7McoT"
      }
    },
    {
      "cell_type": "code",
      "source": [
        "list1=[1,2,3,2,4,1,4,6,7,8,2,4]"
      ],
      "metadata": {
        "id": "cB2affDiMU9u"
      },
      "execution_count": null,
      "outputs": []
    },
    {
      "cell_type": "code",
      "source": [
        "set(list1)"
      ],
      "metadata": {
        "colab": {
          "base_uri": "https://localhost:8080/"
        },
        "id": "0qWzmEwRM4s8",
        "outputId": "3cc2ab0a-d1f3-499e-ed99-f136fbc0984f"
      },
      "execution_count": null,
      "outputs": [
        {
          "output_type": "execute_result",
          "data": {
            "text/plain": [
              "{1, 2, 3, 4, 6, 7, 8}"
            ]
          },
          "metadata": {},
          "execution_count": 63
        }
      ]
    },
    {
      "cell_type": "code",
      "source": [
        "tuple(list1)"
      ],
      "metadata": {
        "colab": {
          "base_uri": "https://localhost:8080/"
        },
        "id": "TBHKKLmtNRj-",
        "outputId": "d2ba4dd1-5fbb-4585-cc06-35f9d4f9ca7a"
      },
      "execution_count": null,
      "outputs": [
        {
          "output_type": "execute_result",
          "data": {
            "text/plain": [
              "(1, 2, 3, 2, 4, 1, 4, 6, 7, 8, 2, 4)"
            ]
          },
          "metadata": {},
          "execution_count": 64
        }
      ]
    },
    {
      "cell_type": "markdown",
      "source": [
        "Set allows tuples to store inside it but not list, becouse list is mutuble thing"
      ],
      "metadata": {
        "id": "Ism0nI50NpGO"
      }
    },
    {
      "cell_type": "code",
      "source": [
        "s4 ={2,3,4,5,1,4,\"Hello\",\"Krish\",\"Hello\",\"Sharath\",\"sharath\"}"
      ],
      "metadata": {
        "id": "Jqhd_djnNVm9"
      },
      "execution_count": null,
      "outputs": []
    },
    {
      "cell_type": "code",
      "source": [
        "s4"
      ],
      "metadata": {
        "colab": {
          "base_uri": "https://localhost:8080/"
        },
        "id": "75WsYlcIONzk",
        "outputId": "58f7e62c-fd7b-4586-9e29-280382ff5801"
      },
      "execution_count": null,
      "outputs": [
        {
          "output_type": "execute_result",
          "data": {
            "text/plain": [
              "{1, 2, 3, 4, 5, 'Hello', 'Krish', 'Sharath', 'sharath'}"
            ]
          },
          "metadata": {},
          "execution_count": 66
        }
      ]
    },
    {
      "cell_type": "code",
      "source": [
        "for i in s4:\n",
        "  print(i)"
      ],
      "metadata": {
        "colab": {
          "base_uri": "https://localhost:8080/"
        },
        "id": "wqJW-sa2OSjY",
        "outputId": "c4cf9cf5-8571-4bf5-dcc7-8f81db1ab25a"
      },
      "execution_count": null,
      "outputs": [
        {
          "output_type": "stream",
          "name": "stdout",
          "text": [
            "Hello\n",
            "1\n",
            "2\n",
            "3\n",
            "4\n",
            "5\n",
            "sharath\n",
            "Krish\n",
            "Sharath\n"
          ]
        }
      ]
    },
    {
      "cell_type": "code",
      "source": [
        "s4.add(62)"
      ],
      "metadata": {
        "id": "74-SHHytOjP9"
      },
      "execution_count": null,
      "outputs": []
    },
    {
      "cell_type": "code",
      "source": [
        "s4"
      ],
      "metadata": {
        "colab": {
          "base_uri": "https://localhost:8080/"
        },
        "id": "rneDhrCiOxpN",
        "outputId": "8d377bcc-01cb-4734-8b85-2d0b80890e60"
      },
      "execution_count": null,
      "outputs": [
        {
          "output_type": "execute_result",
          "data": {
            "text/plain": [
              "{1, 2, 3, 4, 5, 62, 'Hello', 'Krish', 'Sharath', 'sharath'}"
            ]
          },
          "metadata": {},
          "execution_count": 71
        }
      ]
    },
    {
      "cell_type": "code",
      "source": [
        "len(s4)"
      ],
      "metadata": {
        "colab": {
          "base_uri": "https://localhost:8080/"
        },
        "id": "iAEOU4PSOyNb",
        "outputId": "d706c748-e038-4321-de85-e796336fbaa4"
      },
      "execution_count": null,
      "outputs": [
        {
          "output_type": "execute_result",
          "data": {
            "text/plain": [
              "10"
            ]
          },
          "metadata": {},
          "execution_count": 72
        }
      ]
    },
    {
      "cell_type": "code",
      "source": [
        "s4.pop()"
      ],
      "metadata": {
        "colab": {
          "base_uri": "https://localhost:8080/",
          "height": 35
        },
        "id": "CNYoQtadO6nD",
        "outputId": "ea912f0b-a6a5-4319-c15c-6b59623b0de5"
      },
      "execution_count": null,
      "outputs": [
        {
          "output_type": "execute_result",
          "data": {
            "text/plain": [
              "'Hello'"
            ],
            "application/vnd.google.colaboratory.intrinsic+json": {
              "type": "string"
            }
          },
          "metadata": {},
          "execution_count": 73
        }
      ]
    },
    {
      "cell_type": "code",
      "source": [
        "s4"
      ],
      "metadata": {
        "colab": {
          "base_uri": "https://localhost:8080/"
        },
        "id": "aPbHZMCvPANx",
        "outputId": "258d897c-9cad-4489-d363-b0c25006adc1"
      },
      "execution_count": null,
      "outputs": [
        {
          "output_type": "execute_result",
          "data": {
            "text/plain": [
              "{1, 2, 3, 4, 5, 62, 'Krish', 'Sharath', 'sharath'}"
            ]
          },
          "metadata": {},
          "execution_count": 74
        }
      ]
    },
    {
      "cell_type": "code",
      "source": [
        "s4.pop()"
      ],
      "metadata": {
        "colab": {
          "base_uri": "https://localhost:8080/"
        },
        "id": "_ovAQ9ftPCfx",
        "outputId": "97f40813-1e3f-485f-cd12-9d53081a7d2e"
      },
      "execution_count": null,
      "outputs": [
        {
          "output_type": "execute_result",
          "data": {
            "text/plain": [
              "1"
            ]
          },
          "metadata": {},
          "execution_count": 75
        }
      ]
    },
    {
      "cell_type": "code",
      "source": [
        "s4"
      ],
      "metadata": {
        "colab": {
          "base_uri": "https://localhost:8080/"
        },
        "id": "3fQ6FkadPGOS",
        "outputId": "538e7615-dfc3-4e46-c966-d40b1d363b69"
      },
      "execution_count": null,
      "outputs": [
        {
          "output_type": "execute_result",
          "data": {
            "text/plain": [
              "{2, 3, 4, 5, 62, 'Krish', 'Sharath', 'sharath'}"
            ]
          },
          "metadata": {},
          "execution_count": 76
        }
      ]
    },
    {
      "cell_type": "code",
      "source": [
        "s1.clear()"
      ],
      "metadata": {
        "id": "k-byaWFvPH8c"
      },
      "execution_count": null,
      "outputs": []
    },
    {
      "cell_type": "code",
      "source": [
        "s1"
      ],
      "metadata": {
        "colab": {
          "base_uri": "https://localhost:8080/"
        },
        "id": "Jb6WcmMwPYK3",
        "outputId": "4630d8fe-9a4c-4177-f1a9-75826f3c1c2f"
      },
      "execution_count": null,
      "outputs": [
        {
          "output_type": "execute_result",
          "data": {
            "text/plain": [
              "set()"
            ]
          },
          "metadata": {},
          "execution_count": 78
        }
      ]
    },
    {
      "cell_type": "code",
      "source": [
        "s4.difference(s2)"
      ],
      "metadata": {
        "colab": {
          "base_uri": "https://localhost:8080/"
        },
        "id": "SqqQjSoFPZFK",
        "outputId": "1766f181-d8b4-4ee6-9c8c-9358238e74a2"
      },
      "execution_count": null,
      "outputs": [
        {
          "output_type": "execute_result",
          "data": {
            "text/plain": [
              "{62, 'Krish', 'Sharath', 'sharath'}"
            ]
          },
          "metadata": {},
          "execution_count": 79
        }
      ]
    },
    {
      "cell_type": "code",
      "source": [
        "s2.difference(s4)"
      ],
      "metadata": {
        "colab": {
          "base_uri": "https://localhost:8080/"
        },
        "id": "9oIZGxoNPnG2",
        "outputId": "3a6eacd0-451c-4d2f-9e61-cf8e1af22415"
      },
      "execution_count": null,
      "outputs": [
        {
          "output_type": "execute_result",
          "data": {
            "text/plain": [
              "{1, 9, 34}"
            ]
          },
          "metadata": {},
          "execution_count": 80
        }
      ]
    },
    {
      "cell_type": "markdown",
      "source": [
        "# **Dictionary**"
      ],
      "metadata": {
        "id": "XJckQ1nqk9W-"
      }
    },
    {
      "cell_type": "code",
      "source": [
        "d1={}"
      ],
      "metadata": {
        "id": "zoeQjccLlERO"
      },
      "execution_count": null,
      "outputs": []
    },
    {
      "cell_type": "code",
      "source": [
        "type(d1)"
      ],
      "metadata": {
        "colab": {
          "base_uri": "https://localhost:8080/"
        },
        "id": "rPw8L8XUlG_l",
        "outputId": "5b725d95-7516-4a93-99f5-2846033d1448"
      },
      "execution_count": null,
      "outputs": [
        {
          "output_type": "execute_result",
          "data": {
            "text/plain": [
              "dict"
            ]
          },
          "metadata": {},
          "execution_count": 82
        }
      ]
    },
    {
      "cell_type": "code",
      "source": [
        "dict1={\"Name\":\"Sharath PD\",\"Roll No\":\"20201CSD0162\",\"Date\":\"21-02-2023\"}"
      ],
      "metadata": {
        "id": "h5qc4wOglIiW"
      },
      "execution_count": null,
      "outputs": []
    },
    {
      "cell_type": "code",
      "source": [
        "dict1"
      ],
      "metadata": {
        "colab": {
          "base_uri": "https://localhost:8080/"
        },
        "id": "CD6OrcldlZ7C",
        "outputId": "6f85b159-0161-4204-8065-4d71b66f18e8"
      },
      "execution_count": null,
      "outputs": [
        {
          "output_type": "execute_result",
          "data": {
            "text/plain": [
              "{'Name': 'Sharath PD', 'Roll No': '20201CSD0162', 'Date': '21-02-2023'}"
            ]
          },
          "metadata": {},
          "execution_count": 91
        }
      ]
    },
    {
      "cell_type": "code",
      "source": [
        "dict1={\"Name\":\"Sharath\",\"Name\":\"Sharath PD\",\"Roll No\":\"20201CSD0162\",\"Date\":\"21-02-2023\"}"
      ],
      "metadata": {
        "id": "TW3YONJMleZo"
      },
      "execution_count": null,
      "outputs": []
    },
    {
      "cell_type": "code",
      "source": [
        "d1={(\"Hello\"):[\"DSA\",\"SMA\",\"SE\",\"Maths\"]}"
      ],
      "metadata": {
        "id": "US_5k4nMnw9u"
      },
      "execution_count": null,
      "outputs": []
    },
    {
      "cell_type": "code",
      "source": [
        "d1"
      ],
      "metadata": {
        "colab": {
          "base_uri": "https://localhost:8080/"
        },
        "id": "AGx3Wu_9oJJc",
        "outputId": "7523bcaf-621a-40f3-fa63-5d95409e6e13"
      },
      "execution_count": null,
      "outputs": [
        {
          "output_type": "execute_result",
          "data": {
            "text/plain": [
              "{'Hello': ['DSA', 'SMA', 'SE', 'Maths']}"
            ]
          },
          "metadata": {},
          "execution_count": 101
        }
      ]
    },
    {
      "cell_type": "markdown",
      "source": [
        "In Dictionary spacial characters are not allowed as a key.\n",
        "Tuples can be considered as tuple, but not list,set and as well as dictionary"
      ],
      "metadata": {
        "id": "1GSIBq91mCiJ"
      }
    },
    {
      "cell_type": "code",
      "source": [
        "d2={\"Course name\":[\"DSA\",\"SMA\",\"SE\",\"Maths\"]}"
      ],
      "metadata": {
        "id": "dM0oPC7MlrPv"
      },
      "execution_count": null,
      "outputs": []
    },
    {
      "cell_type": "code",
      "source": [
        "d2"
      ],
      "metadata": {
        "colab": {
          "base_uri": "https://localhost:8080/"
        },
        "id": "tIzRjd7um5zc",
        "outputId": "11489d21-ca87-4b62-f977-5fe709f795fb"
      },
      "execution_count": null,
      "outputs": [
        {
          "output_type": "execute_result",
          "data": {
            "text/plain": [
              "{'Course name': ['DSA', 'SMA', 'SE', 'Maths']}"
            ]
          },
          "metadata": {},
          "execution_count": 103
        }
      ]
    },
    {
      "cell_type": "code",
      "source": [
        "d3={\"Course name\":(\"DSA\",\"SMA\",\"SE\",\"Maths\")}"
      ],
      "metadata": {
        "id": "VfJ9S_hCnUGp"
      },
      "execution_count": null,
      "outputs": []
    },
    {
      "cell_type": "code",
      "source": [
        "d3"
      ],
      "metadata": {
        "colab": {
          "base_uri": "https://localhost:8080/"
        },
        "id": "uyF7OEDGnccb",
        "outputId": "6010d096-2d4f-42db-ae50-3614b1bebfed"
      },
      "execution_count": null,
      "outputs": [
        {
          "output_type": "execute_result",
          "data": {
            "text/plain": [
              "{'Course name': ('DSA', 'SMA', 'SE', 'Maths')}"
            ]
          },
          "metadata": {},
          "execution_count": 105
        }
      ]
    },
    {
      "cell_type": "code",
      "source": [
        "d4={\"Course name\":{\"DSA\",\"SMA\",\"SE\",\"Maths\"}}"
      ],
      "metadata": {
        "id": "hnsv2SeSncY5"
      },
      "execution_count": null,
      "outputs": []
    },
    {
      "cell_type": "code",
      "source": [
        "d4"
      ],
      "metadata": {
        "colab": {
          "base_uri": "https://localhost:8080/"
        },
        "id": "Efwfb0fAncWW",
        "outputId": "c428c15b-cdf7-400a-f8ca-361b7e1c96b0"
      },
      "execution_count": null,
      "outputs": [
        {
          "output_type": "execute_result",
          "data": {
            "text/plain": [
              "{'Course name': {'DSA', 'Maths', 'SE', 'SMA'}}"
            ]
          },
          "metadata": {},
          "execution_count": 107
        }
      ]
    },
    {
      "cell_type": "code",
      "source": [
        "d5={\"Course name\":{\"Name\":\"Sharath PD\"}}"
      ],
      "metadata": {
        "id": "oZsXoOXlncTh"
      },
      "execution_count": null,
      "outputs": []
    },
    {
      "cell_type": "code",
      "source": [
        "d5"
      ],
      "metadata": {
        "colab": {
          "base_uri": "https://localhost:8080/"
        },
        "id": "98VdPL_4ncQo",
        "outputId": "5479a0fa-9b6f-48e4-c914-db2f209d9fda"
      },
      "execution_count": null,
      "outputs": [
        {
          "output_type": "execute_result",
          "data": {
            "text/plain": [
              "{'Course name': {'Name': 'Sharath PD'}}"
            ]
          },
          "metadata": {},
          "execution_count": 109
        }
      ]
    },
    {
      "cell_type": "markdown",
      "source": [
        "Tuples,list,set,dictionary can be used as values for dictionary"
      ],
      "metadata": {
        "id": "ziLdfihym8DR"
      }
    },
    {
      "cell_type": "code",
      "source": [
        "d6={\"Batch Name\":[\"Data Science\",\"Web dev\",\"Java dev\"],\"Start Date\":(23,21,29),\"Mentor Name\":{\"Sharath\",\"Praveen\",\"Karthik\"}}"
      ],
      "metadata": {
        "id": "cPczw31Nm6oc"
      },
      "execution_count": null,
      "outputs": []
    },
    {
      "cell_type": "code",
      "source": [
        "d6"
      ],
      "metadata": {
        "colab": {
          "base_uri": "https://localhost:8080/"
        },
        "id": "t7fB5PNHpAlj",
        "outputId": "e277e0d7-7223-42c7-dbff-6835efa8e43f"
      },
      "execution_count": null,
      "outputs": [
        {
          "output_type": "execute_result",
          "data": {
            "text/plain": [
              "{'Batch Name': ['Data Science', 'Web dev', 'Java dev'],\n",
              " 'Start Date': (23, 21, 29),\n",
              " 'Mentor Name': {'Karthik', 'Praveen', 'Sharath'}}"
            ]
          },
          "metadata": {},
          "execution_count": 111
        }
      ]
    },
    {
      "cell_type": "code",
      "source": [
        "d6[\"Timings\"]=(8,8,8)"
      ],
      "metadata": {
        "id": "WgvxjcsnpBXV"
      },
      "execution_count": null,
      "outputs": []
    },
    {
      "cell_type": "code",
      "source": [
        "d6"
      ],
      "metadata": {
        "colab": {
          "base_uri": "https://localhost:8080/"
        },
        "id": "C2VM4QFypULl",
        "outputId": "eb407d3c-271f-49bf-e7f6-3a7912b1f629"
      },
      "execution_count": null,
      "outputs": [
        {
          "output_type": "execute_result",
          "data": {
            "text/plain": [
              "{'Batch Name': ['Data Science', 'Web dev', 'Java dev'],\n",
              " 'Start Date': (23, 21, 29),\n",
              " 'Mentor Name': {'Karthik', 'Praveen', 'Sharath'},\n",
              " 'Timings': (8, 8, 8)}"
            ]
          },
          "metadata": {},
          "execution_count": 113
        }
      ]
    },
    {
      "cell_type": "code",
      "source": [
        "d6[\"Start Date\"]=(21,21,23)"
      ],
      "metadata": {
        "id": "6RT8SC_TpVF-"
      },
      "execution_count": null,
      "outputs": []
    },
    {
      "cell_type": "code",
      "source": [
        "d6"
      ],
      "metadata": {
        "colab": {
          "base_uri": "https://localhost:8080/"
        },
        "id": "lFpVnULQpkFu",
        "outputId": "24f50060-23aa-4acd-e4e4-22209bb338b8"
      },
      "execution_count": null,
      "outputs": [
        {
          "output_type": "execute_result",
          "data": {
            "text/plain": [
              "{'Batch Name': ['Data Science', 'Web dev', 'Java dev'],\n",
              " 'Start Date': (21, 21, 23),\n",
              " 'Mentor Name': {'Karthik', 'Praveen', 'Sharath'},\n",
              " 'Timings': (8, 8, 8)}"
            ]
          },
          "metadata": {},
          "execution_count": 115
        }
      ]
    },
    {
      "cell_type": "code",
      "source": [
        "d6[\"Batch Name\"]"
      ],
      "metadata": {
        "colab": {
          "base_uri": "https://localhost:8080/"
        },
        "id": "ySkyYYTGpkyP",
        "outputId": "34b0fd4f-de01-4e44-dc1d-ce33da40bf6f"
      },
      "execution_count": null,
      "outputs": [
        {
          "output_type": "execute_result",
          "data": {
            "text/plain": [
              "['Data Science', 'Web dev', 'Java dev']"
            ]
          },
          "metadata": {},
          "execution_count": 116
        }
      ]
    },
    {
      "cell_type": "code",
      "source": [
        "type(d6[\"Mentor Name\"])"
      ],
      "metadata": {
        "colab": {
          "base_uri": "https://localhost:8080/"
        },
        "id": "MWYgfWN1pqJf",
        "outputId": "6a009b28-5164-4359-8b5a-34d26e5f5318"
      },
      "execution_count": null,
      "outputs": [
        {
          "output_type": "execute_result",
          "data": {
            "text/plain": [
              "set"
            ]
          },
          "metadata": {},
          "execution_count": 118
        }
      ]
    },
    {
      "cell_type": "code",
      "source": [
        "d6[\"Name\"]=\"Harshvardhan\""
      ],
      "metadata": {
        "id": "Qn5PoY37qRhU"
      },
      "execution_count": null,
      "outputs": []
    },
    {
      "cell_type": "code",
      "source": [
        "d6"
      ],
      "metadata": {
        "colab": {
          "base_uri": "https://localhost:8080/"
        },
        "id": "ri0u7TA7qXv7",
        "outputId": "32ddccab-78f2-4400-94ce-a7a745307137"
      },
      "execution_count": null,
      "outputs": [
        {
          "output_type": "execute_result",
          "data": {
            "text/plain": [
              "{'Batch Name': ['Data Science', 'Web dev', 'Java dev'],\n",
              " 'Start Date': (21, 21, 23),\n",
              " 'Mentor Name': {'Karthik', 'Praveen', 'Sharath'},\n",
              " 'Timings': (8, 8, 8),\n",
              " 'Name': 'Harshvardhan'}"
            ]
          },
          "metadata": {},
          "execution_count": 121
        }
      ]
    },
    {
      "cell_type": "code",
      "source": [
        "d6[\"Name\"].upper()"
      ],
      "metadata": {
        "colab": {
          "base_uri": "https://localhost:8080/",
          "height": 35
        },
        "id": "CmdPei4dp-80",
        "outputId": "eec5a701-3de2-4790-9bef-450f5ae145b7"
      },
      "execution_count": null,
      "outputs": [
        {
          "output_type": "execute_result",
          "data": {
            "text/plain": [
              "'HARSHVARDHAN'"
            ],
            "application/vnd.google.colaboratory.intrinsic+json": {
              "type": "string"
            }
          },
          "metadata": {},
          "execution_count": 122
        }
      ]
    },
    {
      "cell_type": "code",
      "source": [
        "d5[\"Course name\"]['Name']"
      ],
      "metadata": {
        "colab": {
          "base_uri": "https://localhost:8080/",
          "height": 35
        },
        "id": "VcfotPZsq54x",
        "outputId": "6a523486-f03d-45aa-9752-50c2d5e77c7a"
      },
      "execution_count": null,
      "outputs": [
        {
          "output_type": "execute_result",
          "data": {
            "text/plain": [
              "'Sharath PD'"
            ],
            "application/vnd.google.colaboratory.intrinsic+json": {
              "type": "string"
            }
          },
          "metadata": {},
          "execution_count": 135
        }
      ]
    },
    {
      "cell_type": "code",
      "source": [
        "d5[\"Key1\"]=\"ABC\""
      ],
      "metadata": {
        "id": "0YwTalKHrBnj"
      },
      "execution_count": null,
      "outputs": []
    },
    {
      "cell_type": "code",
      "source": [
        "d5"
      ],
      "metadata": {
        "colab": {
          "base_uri": "https://localhost:8080/"
        },
        "id": "XC0kE7I3r0Ry",
        "outputId": "19ff4736-5d1f-4629-d57a-1282af7f4d4c"
      },
      "execution_count": null,
      "outputs": [
        {
          "output_type": "execute_result",
          "data": {
            "text/plain": [
              "{'Course name': {'Name': 'Sharath PD'}, 'Key1': 'ABC'}"
            ]
          },
          "metadata": {},
          "execution_count": 137
        }
      ]
    },
    {
      "cell_type": "code",
      "source": [
        "del d5[\"Key1\"]"
      ],
      "metadata": {
        "id": "JpQHvq9fr08Y"
      },
      "execution_count": null,
      "outputs": []
    },
    {
      "cell_type": "code",
      "source": [
        "d5"
      ],
      "metadata": {
        "colab": {
          "base_uri": "https://localhost:8080/"
        },
        "id": "SOgH9xV6r6YJ",
        "outputId": "d83b5812-1c19-444d-a7e8-4a5ef10cfc1d"
      },
      "execution_count": null,
      "outputs": [
        {
          "output_type": "execute_result",
          "data": {
            "text/plain": [
              "{'Course name': {'Name': 'Sharath PD'}}"
            ]
          },
          "metadata": {},
          "execution_count": 139
        }
      ]
    },
    {
      "cell_type": "code",
      "source": [
        "d5.clear()"
      ],
      "metadata": {
        "id": "BiTLOu30r8Ur"
      },
      "execution_count": null,
      "outputs": []
    },
    {
      "cell_type": "code",
      "source": [
        "d5"
      ],
      "metadata": {
        "colab": {
          "base_uri": "https://localhost:8080/"
        },
        "id": "09mJ6K5XsAx9",
        "outputId": "723e20f3-09b3-403d-f4f8-48a029269d2c"
      },
      "execution_count": null,
      "outputs": [
        {
          "output_type": "execute_result",
          "data": {
            "text/plain": [
              "{}"
            ]
          },
          "metadata": {},
          "execution_count": 141
        }
      ]
    },
    {
      "cell_type": "code",
      "source": [
        "len(d6)"
      ],
      "metadata": {
        "colab": {
          "base_uri": "https://localhost:8080/"
        },
        "id": "o0J1Z9KcsBV2",
        "outputId": "4f1abbe4-6768-4c46-cdfe-1363b5f3f62b"
      },
      "execution_count": null,
      "outputs": [
        {
          "output_type": "execute_result",
          "data": {
            "text/plain": [
              "5"
            ]
          },
          "metadata": {},
          "execution_count": 142
        }
      ]
    },
    {
      "cell_type": "code",
      "source": [
        "d6.keys()"
      ],
      "metadata": {
        "colab": {
          "base_uri": "https://localhost:8080/"
        },
        "id": "pfBOE2GIsE2h",
        "outputId": "a802ebd8-2c87-4265-90d1-293c70f96240"
      },
      "execution_count": null,
      "outputs": [
        {
          "output_type": "execute_result",
          "data": {
            "text/plain": [
              "dict_keys(['Batch Name', 'Start Date', 'Mentor Name', 'Timings', 'Name'])"
            ]
          },
          "metadata": {},
          "execution_count": 143
        }
      ]
    },
    {
      "cell_type": "code",
      "source": [
        "d6.values()"
      ],
      "metadata": {
        "colab": {
          "base_uri": "https://localhost:8080/"
        },
        "id": "Q3ZyxcTMsT7P",
        "outputId": "2fcbf9e3-8342-44de-f18b-bbf791120fd9"
      },
      "execution_count": null,
      "outputs": [
        {
          "output_type": "execute_result",
          "data": {
            "text/plain": [
              "dict_values([['Data Science', 'Web dev', 'Java dev'], (21, 21, 23), {'Karthik', 'Sharath', 'Praveen'}, (8, 8, 8), 'Harshvardhan'])"
            ]
          },
          "metadata": {},
          "execution_count": 144
        }
      ]
    },
    {
      "cell_type": "code",
      "source": [
        "d6.items()"
      ],
      "metadata": {
        "colab": {
          "base_uri": "https://localhost:8080/"
        },
        "id": "SCe6EXDkskj_",
        "outputId": "c75a4fd0-10fa-4a52-8942-eb52aacbc9ed"
      },
      "execution_count": null,
      "outputs": [
        {
          "output_type": "execute_result",
          "data": {
            "text/plain": [
              "dict_items([('Batch Name', ['Data Science', 'Web dev', 'Java dev']), ('Start Date', (21, 21, 23)), ('Mentor Name', {'Karthik', 'Sharath', 'Praveen'}), ('Timings', (8, 8, 8)), ('Name', 'Harshvardhan')])"
            ]
          },
          "metadata": {},
          "execution_count": 146
        }
      ]
    },
    {
      "cell_type": "code",
      "source": [
        "d7 = d6.copy()"
      ],
      "metadata": {
        "id": "O5ZJvNGxs0EP"
      },
      "execution_count": null,
      "outputs": []
    },
    {
      "cell_type": "markdown",
      "source": [
        "copy function creates a new memory and store copied dictionary values into that memory. Does not affect another dictionary"
      ],
      "metadata": {
        "id": "W8-LWEDhtms-"
      }
    },
    {
      "cell_type": "code",
      "source": [
        "d7"
      ],
      "metadata": {
        "colab": {
          "base_uri": "https://localhost:8080/"
        },
        "id": "-QmlM6wytKyL",
        "outputId": "2e26313e-fb5f-4792-de26-6cbae922ab76"
      },
      "execution_count": null,
      "outputs": [
        {
          "output_type": "execute_result",
          "data": {
            "text/plain": [
              "{'Batch Name': ['Data Science', 'Web dev', 'Java dev'],\n",
              " 'Start Date': (21, 21, 23),\n",
              " 'Mentor Name': {'Karthik', 'Praveen', 'Sharath'},\n",
              " 'Timings': (8, 8, 8),\n",
              " 'Name': 'Harshvardhan'}"
            ]
          },
          "metadata": {},
          "execution_count": 148
        }
      ]
    },
    {
      "cell_type": "code",
      "source": [
        "del d7"
      ],
      "metadata": {
        "id": "DOsiOEO9tL1I"
      },
      "execution_count": null,
      "outputs": []
    },
    {
      "cell_type": "code",
      "source": [
        "d6.pop(\"Name\")"
      ],
      "metadata": {
        "colab": {
          "base_uri": "https://localhost:8080/",
          "height": 35
        },
        "id": "XBHu4UVqtY7Q",
        "outputId": "25b184cb-cce5-4647-ba86-aea61850f958"
      },
      "execution_count": null,
      "outputs": [
        {
          "output_type": "execute_result",
          "data": {
            "text/plain": [
              "'Harshvardhan'"
            ],
            "application/vnd.google.colaboratory.intrinsic+json": {
              "type": "string"
            }
          },
          "metadata": {},
          "execution_count": 151
        }
      ]
    },
    {
      "cell_type": "code",
      "source": [
        "d6.fromkeys((1,2,3),(\"a\",\"b\",\"c\"))"
      ],
      "metadata": {
        "colab": {
          "base_uri": "https://localhost:8080/"
        },
        "id": "2Tzt9n6EuAak",
        "outputId": "e9c9db8a-fa36-48c7-e9b5-59de9a6e1ec3"
      },
      "execution_count": null,
      "outputs": [
        {
          "output_type": "execute_result",
          "data": {
            "text/plain": [
              "{1: ('a', 'b', 'c'), 2: ('a', 'b', 'c'), 3: ('a', 'b', 'c')}"
            ]
          },
          "metadata": {},
          "execution_count": 155
        }
      ]
    },
    {
      "cell_type": "code",
      "source": [
        "d7 = {\"Key1\":\"Value1\",\"Key2\":\"Value2\"}\n",
        "d8 = {\"Key3\":\"Value3\",\"Key4\":\"Value4\"}"
      ],
      "metadata": {
        "id": "KpC5EqXUu0qB"
      },
      "execution_count": null,
      "outputs": []
    },
    {
      "cell_type": "code",
      "source": [
        "(d7,d8)"
      ],
      "metadata": {
        "colab": {
          "base_uri": "https://localhost:8080/"
        },
        "id": "4qlgaFEfvMiF",
        "outputId": "457afbc5-e8b3-4721-fefd-0ae568f58cbd"
      },
      "execution_count": null,
      "outputs": [
        {
          "output_type": "execute_result",
          "data": {
            "text/plain": [
              "({'Key1': 'Value1', 'Key2': 'Value2'}, {'Key3': 'Value3', 'Key4': 'Value4'})"
            ]
          },
          "metadata": {},
          "execution_count": 158
        }
      ]
    },
    {
      "cell_type": "code",
      "source": [
        "d7.update(d8)"
      ],
      "metadata": {
        "id": "g0-wpKxYvOqx"
      },
      "execution_count": null,
      "outputs": []
    },
    {
      "cell_type": "code",
      "source": [
        "d7"
      ],
      "metadata": {
        "colab": {
          "base_uri": "https://localhost:8080/"
        },
        "id": "RGUrSxSavTCj",
        "outputId": "9ed9661a-6e99-408a-9d69-26d23980872e"
      },
      "execution_count": null,
      "outputs": [
        {
          "output_type": "execute_result",
          "data": {
            "text/plain": [
              "{'Key1': 'Value1', 'Key2': 'Value2', 'Key3': 'Value3', 'Key4': 'Value4'}"
            ]
          },
          "metadata": {},
          "execution_count": 160
        }
      ]
    },
    {
      "cell_type": "code",
      "source": [
        "d8"
      ],
      "metadata": {
        "colab": {
          "base_uri": "https://localhost:8080/"
        },
        "id": "vzqf9ebvvVaH",
        "outputId": "ded00350-d5d3-4a09-8295-822089514727"
      },
      "execution_count": null,
      "outputs": [
        {
          "output_type": "execute_result",
          "data": {
            "text/plain": [
              "{'Key3': 'Value3', 'Key4': 'Value4'}"
            ]
          },
          "metadata": {},
          "execution_count": 161
        }
      ]
    },
    {
      "cell_type": "code",
      "source": [
        "d8.update(d7)"
      ],
      "metadata": {
        "id": "SB1FUqYCvZjQ"
      },
      "execution_count": null,
      "outputs": []
    },
    {
      "cell_type": "code",
      "source": [
        "d8"
      ],
      "metadata": {
        "colab": {
          "base_uri": "https://localhost:8080/"
        },
        "id": "4N0vKNVOvdsQ",
        "outputId": "dfba5bcc-22aa-4c27-f2db-7f72d8efca19"
      },
      "execution_count": null,
      "outputs": [
        {
          "output_type": "execute_result",
          "data": {
            "text/plain": [
              "{'Key3': 'Value3', 'Key4': 'Value4', 'Key1': 'Value1', 'Key2': 'Value2'}"
            ]
          },
          "metadata": {},
          "execution_count": 163
        }
      ]
    },
    {
      "cell_type": "code",
      "source": [
        "d8.get(\"Hello\")"
      ],
      "metadata": {
        "id": "hqiocGbfvhIX"
      },
      "execution_count": null,
      "outputs": []
    },
    {
      "cell_type": "code",
      "source": [
        "d8.get(\"Key3\")"
      ],
      "metadata": {
        "colab": {
          "base_uri": "https://localhost:8080/",
          "height": 35
        },
        "id": "8xPqlMNXvqp2",
        "outputId": "9cfe053a-99b4-4e99-93b1-4859bc1c4fb4"
      },
      "execution_count": null,
      "outputs": [
        {
          "output_type": "execute_result",
          "data": {
            "text/plain": [
              "'Value3'"
            ],
            "application/vnd.google.colaboratory.intrinsic+json": {
              "type": "string"
            }
          },
          "metadata": {},
          "execution_count": 166
        }
      ]
    },
    {
      "cell_type": "code",
      "source": [
        "{i:i*2 for i in range(1,11)}"
      ],
      "metadata": {
        "colab": {
          "base_uri": "https://localhost:8080/"
        },
        "id": "yHuFZJWIvyA8",
        "outputId": "dadc853b-46b5-4a78-dc06-b19abc70618f"
      },
      "execution_count": null,
      "outputs": [
        {
          "output_type": "execute_result",
          "data": {
            "text/plain": [
              "{1: 2, 2: 4, 3: 6, 4: 8, 5: 10, 6: 12, 7: 14, 8: 16, 9: 18, 10: 20}"
            ]
          },
          "metadata": {},
          "execution_count": 171
        }
      ]
    },
    {
      "cell_type": "code",
      "source": [
        "import math\n",
        "d9 = {i:math.log10(i) for i in range(1,11)}"
      ],
      "metadata": {
        "id": "fWWSNl7VwRZ6"
      },
      "execution_count": null,
      "outputs": []
    },
    {
      "cell_type": "code",
      "source": [
        "d6"
      ],
      "metadata": {
        "colab": {
          "base_uri": "https://localhost:8080/"
        },
        "id": "l7I2MT0XxTmj",
        "outputId": "839836aa-a16b-4ef0-fbf2-b73aae291e9f"
      },
      "execution_count": null,
      "outputs": [
        {
          "output_type": "execute_result",
          "data": {
            "text/plain": [
              "{'Batch Name': ['Data Science', 'Web dev', 'Java dev'],\n",
              " 'Start Date': (21, 21, 23),\n",
              " 'Mentor Name': {'Karthik', 'Praveen', 'Sharath'},\n",
              " 'Timings': (8, 8, 8)}"
            ]
          },
          "metadata": {},
          "execution_count": 173
        }
      ]
    },
    {
      "cell_type": "code",
      "source": [
        "\"Batch Name\" in d6"
      ],
      "metadata": {
        "colab": {
          "base_uri": "https://localhost:8080/"
        },
        "id": "VnI0zeOFxWOI",
        "outputId": "4d058a88-8a9f-4281-eaa0-ef78e1077a99"
      },
      "execution_count": null,
      "outputs": [
        {
          "output_type": "execute_result",
          "data": {
            "text/plain": [
              "True"
            ]
          },
          "metadata": {},
          "execution_count": 174
        }
      ]
    },
    {
      "cell_type": "code",
      "source": [
        "d9.keys()"
      ],
      "metadata": {
        "colab": {
          "base_uri": "https://localhost:8080/"
        },
        "id": "GYv8Hi8UxxRN",
        "outputId": "687ded75-cb3d-46a4-e370-d89848f1a9ae"
      },
      "execution_count": null,
      "outputs": [
        {
          "output_type": "execute_result",
          "data": {
            "text/plain": [
              "dict_keys([1, 2, 3, 4, 5, 6, 7, 8, 9, 10])"
            ]
          },
          "metadata": {},
          "execution_count": 176
        }
      ]
    },
    {
      "cell_type": "code",
      "source": [
        "for i in d9.keys():\n",
        "  if i%2==0:\n",
        "    print(i,\"=\",d9[i])\n",
        "   "
      ],
      "metadata": {
        "colab": {
          "base_uri": "https://localhost:8080/"
        },
        "id": "_dOXmnJ4xa2b",
        "outputId": "2394610b-c33c-46e7-d46d-953db73fc18d"
      },
      "execution_count": null,
      "outputs": [
        {
          "output_type": "stream",
          "name": "stdout",
          "text": [
            "2 = 0.3010299956639812\n",
            "4 = 0.6020599913279624\n",
            "6 = 0.7781512503836436\n",
            "8 = 0.9030899869919435\n",
            "10 = 1.0\n"
          ]
        }
      ]
    }
  ]
}