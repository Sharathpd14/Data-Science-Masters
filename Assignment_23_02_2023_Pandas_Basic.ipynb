{
  "nbformat": 4,
  "nbformat_minor": 0,
  "metadata": {
    "colab": {
      "provenance": []
    },
    "kernelspec": {
      "name": "python3",
      "display_name": "Python 3"
    },
    "language_info": {
      "name": "python"
    }
  },
  "cells": [
    {
      "cell_type": "markdown",
      "source": [
        "Q1. Create a Pandas Series that contains the following data: 4, 8, 15, 16, 23, and 42. Then, print the series.\n",
        "\n"
      ],
      "metadata": {
        "id": "Z_Kbp-xGHPFy"
      }
    },
    {
      "cell_type": "code",
      "execution_count": 9,
      "metadata": {
        "id": "eazSV5zqHLaW"
      },
      "outputs": [],
      "source": [
        "import pandas as pd\n",
        "\n",
        "data =[4,8,15,16,23,42]\n",
        "\n",
        "df = pd.DataFrame(data , columns=[\"Numbers\"])"
      ]
    },
    {
      "cell_type": "code",
      "source": [
        "df[\"Numbers\"]"
      ],
      "metadata": {
        "colab": {
          "base_uri": "https://localhost:8080/"
        },
        "id": "JAS7f9n2HVsX",
        "outputId": "01e65507-f161-4971-a600-49a74a8a9af5"
      },
      "execution_count": 10,
      "outputs": [
        {
          "output_type": "execute_result",
          "data": {
            "text/plain": [
              "0     4\n",
              "1     8\n",
              "2    15\n",
              "3    16\n",
              "4    23\n",
              "5    42\n",
              "Name: Numbers, dtype: int64"
            ]
          },
          "metadata": {},
          "execution_count": 10
        }
      ]
    },
    {
      "cell_type": "code",
      "source": [
        "type(df[\"Numbers\"])"
      ],
      "metadata": {
        "colab": {
          "base_uri": "https://localhost:8080/"
        },
        "id": "zi_41_FLH6ct",
        "outputId": "c81cab91-9453-45ea-a29d-4db84a4f4e0b"
      },
      "execution_count": 11,
      "outputs": [
        {
          "output_type": "execute_result",
          "data": {
            "text/plain": [
              "pandas.core.series.Series"
            ]
          },
          "metadata": {},
          "execution_count": 11
        }
      ]
    },
    {
      "cell_type": "markdown",
      "source": [
        "Q2. Create a variable of list type containing 10 elements in it, and apply pandas.Series function on the\n",
        "variable print it."
      ],
      "metadata": {
        "id": "h1XAZpYmIVP9"
      }
    },
    {
      "cell_type": "code",
      "source": [
        "list1 = [\"Hello\",23,\"Shera\",\"Anvith\",\"Bottle\",45,42,16,True,False]"
      ],
      "metadata": {
        "id": "XeS4YJW7IAEO"
      },
      "execution_count": 12,
      "outputs": []
    },
    {
      "cell_type": "code",
      "source": [
        "Result = pd.Series(list1)\n",
        "print(Result)"
      ],
      "metadata": {
        "colab": {
          "base_uri": "https://localhost:8080/"
        },
        "id": "FNj-UK_1Iknd",
        "outputId": "04cd52e9-f18a-4a5f-cee4-738e574f7c49"
      },
      "execution_count": 13,
      "outputs": [
        {
          "output_type": "stream",
          "name": "stdout",
          "text": [
            "0     Hello\n",
            "1        23\n",
            "2     Shera\n",
            "3    Anvith\n",
            "4    Bottle\n",
            "5        45\n",
            "6        42\n",
            "7        16\n",
            "8      True\n",
            "9     False\n",
            "dtype: object\n"
          ]
        }
      ]
    },
    {
      "cell_type": "markdown",
      "source": [
        "Q3. Create a Pandas DataFrame that contains the following data:\n",
        "\n",
        "Then, print the DataFrame.![One.png](data:image/png;base64,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)"
      ],
      "metadata": {
        "id": "2DGzvSmvJB35"
      }
    },
    {
      "cell_type": "code",
      "source": [
        "data1 = {\n",
        "    \"Name\" : [\"Alice\",\"Bob\",\"Claire\"],\n",
        "    \"Age\" : [25,30,27],\n",
        "    \"Gender\" : [\"Female\",\"Male\",\"Female\"]\n",
        "}\n",
        "\n",
        "Data_frame = pd.DataFrame(data1)\n",
        "\n",
        "Data_frame"
      ],
      "metadata": {
        "colab": {
          "base_uri": "https://localhost:8080/",
          "height": 143
        },
        "id": "Njey9zCnI4Tl",
        "outputId": "dbefadaa-676d-4df1-808f-f0ccf7f0a8de"
      },
      "execution_count": 16,
      "outputs": [
        {
          "output_type": "execute_result",
          "data": {
            "text/plain": [
              "     Name  Age  Gender\n",
              "0   Alice   25  Female\n",
              "1     Bob   30    Male\n",
              "2  Claire   27  Female"
            ],
            "text/html": [
              "\n",
              "  <div id=\"df-b2b1e0d4-21fe-4a48-9dd7-ff03b82c7bc2\">\n",
              "    <div class=\"colab-df-container\">\n",
              "      <div>\n",
              "<style scoped>\n",
              "    .dataframe tbody tr th:only-of-type {\n",
              "        vertical-align: middle;\n",
              "    }\n",
              "\n",
              "    .dataframe tbody tr th {\n",
              "        vertical-align: top;\n",
              "    }\n",
              "\n",
              "    .dataframe thead th {\n",
              "        text-align: right;\n",
              "    }\n",
              "</style>\n",
              "<table border=\"1\" class=\"dataframe\">\n",
              "  <thead>\n",
              "    <tr style=\"text-align: right;\">\n",
              "      <th></th>\n",
              "      <th>Name</th>\n",
              "      <th>Age</th>\n",
              "      <th>Gender</th>\n",
              "    </tr>\n",
              "  </thead>\n",
              "  <tbody>\n",
              "    <tr>\n",
              "      <th>0</th>\n",
              "      <td>Alice</td>\n",
              "      <td>25</td>\n",
              "      <td>Female</td>\n",
              "    </tr>\n",
              "    <tr>\n",
              "      <th>1</th>\n",
              "      <td>Bob</td>\n",
              "      <td>30</td>\n",
              "      <td>Male</td>\n",
              "    </tr>\n",
              "    <tr>\n",
              "      <th>2</th>\n",
              "      <td>Claire</td>\n",
              "      <td>27</td>\n",
              "      <td>Female</td>\n",
              "    </tr>\n",
              "  </tbody>\n",
              "</table>\n",
              "</div>\n",
              "      <button class=\"colab-df-convert\" onclick=\"convertToInteractive('df-b2b1e0d4-21fe-4a48-9dd7-ff03b82c7bc2')\"\n",
              "              title=\"Convert this dataframe to an interactive table.\"\n",
              "              style=\"display:none;\">\n",
              "        \n",
              "  <svg xmlns=\"http://www.w3.org/2000/svg\" height=\"24px\"viewBox=\"0 0 24 24\"\n",
              "       width=\"24px\">\n",
              "    <path d=\"M0 0h24v24H0V0z\" fill=\"none\"/>\n",
              "    <path d=\"M18.56 5.44l.94 2.06.94-2.06 2.06-.94-2.06-.94-.94-2.06-.94 2.06-2.06.94zm-11 1L8.5 8.5l.94-2.06 2.06-.94-2.06-.94L8.5 2.5l-.94 2.06-2.06.94zm10 10l.94 2.06.94-2.06 2.06-.94-2.06-.94-.94-2.06-.94 2.06-2.06.94z\"/><path d=\"M17.41 7.96l-1.37-1.37c-.4-.4-.92-.59-1.43-.59-.52 0-1.04.2-1.43.59L10.3 9.45l-7.72 7.72c-.78.78-.78 2.05 0 2.83L4 21.41c.39.39.9.59 1.41.59.51 0 1.02-.2 1.41-.59l7.78-7.78 2.81-2.81c.8-.78.8-2.07 0-2.86zM5.41 20L4 18.59l7.72-7.72 1.47 1.35L5.41 20z\"/>\n",
              "  </svg>\n",
              "      </button>\n",
              "      \n",
              "  <style>\n",
              "    .colab-df-container {\n",
              "      display:flex;\n",
              "      flex-wrap:wrap;\n",
              "      gap: 12px;\n",
              "    }\n",
              "\n",
              "    .colab-df-convert {\n",
              "      background-color: #E8F0FE;\n",
              "      border: none;\n",
              "      border-radius: 50%;\n",
              "      cursor: pointer;\n",
              "      display: none;\n",
              "      fill: #1967D2;\n",
              "      height: 32px;\n",
              "      padding: 0 0 0 0;\n",
              "      width: 32px;\n",
              "    }\n",
              "\n",
              "    .colab-df-convert:hover {\n",
              "      background-color: #E2EBFA;\n",
              "      box-shadow: 0px 1px 2px rgba(60, 64, 67, 0.3), 0px 1px 3px 1px rgba(60, 64, 67, 0.15);\n",
              "      fill: #174EA6;\n",
              "    }\n",
              "\n",
              "    [theme=dark] .colab-df-convert {\n",
              "      background-color: #3B4455;\n",
              "      fill: #D2E3FC;\n",
              "    }\n",
              "\n",
              "    [theme=dark] .colab-df-convert:hover {\n",
              "      background-color: #434B5C;\n",
              "      box-shadow: 0px 1px 3px 1px rgba(0, 0, 0, 0.15);\n",
              "      filter: drop-shadow(0px 1px 2px rgba(0, 0, 0, 0.3));\n",
              "      fill: #FFFFFF;\n",
              "    }\n",
              "  </style>\n",
              "\n",
              "      <script>\n",
              "        const buttonEl =\n",
              "          document.querySelector('#df-b2b1e0d4-21fe-4a48-9dd7-ff03b82c7bc2 button.colab-df-convert');\n",
              "        buttonEl.style.display =\n",
              "          google.colab.kernel.accessAllowed ? 'block' : 'none';\n",
              "\n",
              "        async function convertToInteractive(key) {\n",
              "          const element = document.querySelector('#df-b2b1e0d4-21fe-4a48-9dd7-ff03b82c7bc2');\n",
              "          const dataTable =\n",
              "            await google.colab.kernel.invokeFunction('convertToInteractive',\n",
              "                                                     [key], {});\n",
              "          if (!dataTable) return;\n",
              "\n",
              "          const docLinkHtml = 'Like what you see? Visit the ' +\n",
              "            '<a target=\"_blank\" href=https://colab.research.google.com/notebooks/data_table.ipynb>data table notebook</a>'\n",
              "            + ' to learn more about interactive tables.';\n",
              "          element.innerHTML = '';\n",
              "          dataTable['output_type'] = 'display_data';\n",
              "          await google.colab.output.renderOutput(dataTable, element);\n",
              "          const docLink = document.createElement('div');\n",
              "          docLink.innerHTML = docLinkHtml;\n",
              "          element.appendChild(docLink);\n",
              "        }\n",
              "      </script>\n",
              "    </div>\n",
              "  </div>\n",
              "  "
            ]
          },
          "metadata": {},
          "execution_count": 16
        }
      ]
    },
    {
      "cell_type": "markdown",
      "source": [
        "Q4. What is ‘DataFrame’ in pandas and how is it different from pandas.series? Explain with an example."
      ],
      "metadata": {
        "id": "MBT__m_4KSPk"
      }
    },
    {
      "cell_type": "markdown",
      "source": [
        "DataFrame is a 2-dimensional labeled data structure with columns with different types\n",
        "\n",
        "pandas.series is 1-dimensional and Homogenous – Series elements must be of the same data type.\n",
        "\n",
        "pandas.dataframe is 2-dimentional and Heterogenous – DataFrame elements can have different data types."
      ],
      "metadata": {
        "id": "xpBpcO6CK-3-"
      }
    },
    {
      "cell_type": "markdown",
      "source": [
        "Q5. What are some common functions you can use to manipulate data in a Pandas DataFrame? Can\n",
        "you give an example of when you might use one of these functions?"
      ],
      "metadata": {
        "id": "FBXakFeiLmPL"
      }
    },
    {
      "cell_type": "markdown",
      "source": [
        "Creating pandas dataframe.\n",
        "\n",
        "\n",
        "Dropping columns in the data.\n",
        "\n",
        "\n",
        "Dropping rows in the data.\n",
        "\n",
        "\n",
        "Renaming a column in the dataset.\n",
        "\n",
        "\n",
        "Select columns with specific data types.\n",
        "\n",
        "\n",
        "\n",
        "Pandas DataFrames allow for the addition of columns after the DataFrame has already been created, by using the format df['newColumn']."
      ],
      "metadata": {
        "id": "anKQP31XMAXv"
      }
    },
    {
      "cell_type": "markdown",
      "source": [
        "Q6. Which of the following is mutable in nature Series, DataFrame, Panel?"
      ],
      "metadata": {
        "id": "XBk97aPlNHAv"
      }
    },
    {
      "cell_type": "markdown",
      "source": [
        "DataFrame"
      ],
      "metadata": {
        "id": "CvbWgUMLQEID"
      }
    },
    {
      "cell_type": "markdown",
      "source": [
        "Q7. Create a DataFrame using multiple Series. Explain with an example."
      ],
      "metadata": {
        "id": "AKr1q9uENuhF"
      }
    },
    {
      "cell_type": "code",
      "source": [
        "Courses = pd.Series([\"Data Science Masters\",\"Python Programming\",\"R programming\"])\n",
        "Fees = pd.Series([22000,25000,23000])\n",
        "Discount  = pd.Series([1000,2300,1000])\n",
        "\n",
        "df=pd.concat([Courses,Fees,Discount],axis=1)\n",
        "\n",
        "print(df)\n"
      ],
      "metadata": {
        "colab": {
          "base_uri": "https://localhost:8080/"
        },
        "id": "qnsk8W7hJsAJ",
        "outputId": "8a03ea04-0018-4f5c-b0f6-f91a77f307ac"
      },
      "execution_count": 30,
      "outputs": [
        {
          "output_type": "stream",
          "name": "stdout",
          "text": [
            "                      0      1     2\n",
            "0  Data Science Masters  22000  1000\n",
            "1    Python Programming  25000  2300\n",
            "2         R programming  23000  1000\n"
          ]
        }
      ]
    },
    {
      "cell_type": "code",
      "source": [],
      "metadata": {
        "id": "ewjif9c3P20h"
      },
      "execution_count": null,
      "outputs": []
    }
  ]
}