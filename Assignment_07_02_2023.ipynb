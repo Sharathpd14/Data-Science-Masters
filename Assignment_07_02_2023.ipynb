{
  "nbformat": 4,
  "nbformat_minor": 0,
  "metadata": {
    "colab": {
      "provenance": []
    },
    "kernelspec": {
      "name": "python3",
      "display_name": "Python 3"
    },
    "language_info": {
      "name": "python"
    }
  },
  "cells": [
    {
      "cell_type": "markdown",
      "source": [
        "Q1. You are writing code for a company. The requirement of the company is that you create a python \n",
        "function that will check whether the password entered by the user is correct or not. The function should \n",
        "take the password as input and return the string “Valid Password” if the entered password follows the \n",
        "below-given password guidelines else it should return “Invalid Password”.\n",
        "\n",
        "\n",
        "Note: 1. The Password should contain at least two uppercase letters and at least two lowercase letters.\n",
        "\n",
        "2. The Password should contain at least a number and three special characters.\n",
        "\n",
        "3. The length of the password should be 10 characters long."
      ],
      "metadata": {
        "id": "hJYYlxoffl2J"
      }
    },
    {
      "cell_type": "code",
      "source": [
        "def isValid(password):\n",
        "  count=0\n",
        "  count1=0\n",
        "  dig=0\n",
        "  sp=0\n",
        "  if len(password)==10:\n",
        "     for i in password:\n",
        "        if i.isupper()==True:\n",
        "           count=count+1\n",
        "        elif i.islower()==True:\n",
        "           count1=count1+1\n",
        "        elif i.isalpha()==True:\n",
        "           continue\n",
        "        elif i.isdigit()==True:\n",
        "           dig=dig+1\n",
        "        else:\n",
        "           sp=sp+1\n",
        "     if count>=2 and count1>=2 and dig>=1 and sp==3:\n",
        "       print(\"Valid Password\")\n",
        "     else:\n",
        "       print(\"Invalid Password\")\n",
        "  else:\n",
        "    print(\"Invalid Password\")"
      ],
      "metadata": {
        "id": "ooRzSb-OftZR"
      },
      "execution_count": null,
      "outputs": []
    },
    {
      "cell_type": "code",
      "source": [
        "isValid(\"Sha@ra$T&7\")\n",
        "isValid(\"hello123\")\n",
        "isValid(\"Sharath PD\")"
      ],
      "metadata": {
        "colab": {
          "base_uri": "https://localhost:8080/"
        },
        "id": "i1OSfUUNftU3",
        "outputId": "55539667-c37e-4460-b25d-ec89bda4fa1b"
      },
      "execution_count": null,
      "outputs": [
        {
          "output_type": "stream",
          "name": "stdout",
          "text": [
            "Valid Password\n",
            "Invalid Password\n",
            "Invalid Password\n"
          ]
        }
      ]
    },
    {
      "cell_type": "markdown",
      "source": [
        "Q2. Solve the below-given questions using at least one of the following: \n",
        "\n",
        "1. Lambda function\n",
        "2. Filter function\n",
        "3. Zap function\n",
        "4. List Comprehension\n",
        " \n",
        "  Check if the string starts with a particular letter.\n",
        "\n",
        " Check if the string is numeric.\n",
        "\n",
        " Sort a list of tuples having fruit names and their quantity. [(\"mango\",99),(\"orange\",80), (\"grapes\", 1000)]\n",
        "\n",
        " Find the squares of numbers from 1 to 10.\n",
        "\n",
        " Find the cube root of numbers from 1 to 10.\n",
        "\n",
        " Check if a given number is even.\n",
        "\n",
        " Filter odd numbers from the given list.\n",
        "\n",
        " [1,2,3,4,5,6,7,8,9,10]\n",
        "\n",
        " Sort a list of integers into positive and negative integers lists.\n",
        "\n",
        " [1,2,3,4,5,6,-1,-2,-3,-4,-5,0]"
      ],
      "metadata": {
        "id": "W_3qG-jzfreN"
      }
    },
    {
      "cell_type": "code",
      "source": [
        "# Check if the string starts with a particular letter.\n",
        "a= lambda x,y : x.startswith(y)\n",
        "str1=input(\"Enter string \")\n",
        "str2=input(\"Enter a letter \")\n",
        "if a(str1,str2)==True:\n",
        "  print(\"Yes \"+str1+\" starts with \"+str2)\n",
        "else:\n",
        "  print(\"No \"+str1+\" doesn't start with\"+str2)"
      ],
      "metadata": {
        "colab": {
          "base_uri": "https://localhost:8080/"
        },
        "id": "Rwfkffco8Yl4",
        "outputId": "5ad6ecb2-cc43-496d-9e25-91add21248fd"
      },
      "execution_count": 79,
      "outputs": [
        {
          "output_type": "stream",
          "name": "stdout",
          "text": [
            "Enter string Sharath PD\n",
            "Enter a letter S\n",
            "Yes Sharath PD starts with S\n"
          ]
        }
      ]
    },
    {
      "cell_type": "code",
      "source": [
        "# Check if the string is numeric.\n",
        "def string_check(x):\n",
        "  a=lambda x: type(x)\n",
        "  if (a(x))==int:\n",
        "    print(x,\" is numeric value\")\n",
        "  else:\n",
        "    print(x,\" is not a numeric value\")\n",
        "\n",
        "b=input(\"Enter any string \")\n",
        "string_check(234)\n",
        "string_check(b)"
      ],
      "metadata": {
        "colab": {
          "base_uri": "https://localhost:8080/"
        },
        "id": "18HxlA6qBzcE",
        "outputId": "a9a7ed7f-e714-4df3-ecee-74e1c24f8a4a"
      },
      "execution_count": 83,
      "outputs": [
        {
          "output_type": "stream",
          "name": "stdout",
          "text": [
            "Enter any string PW skills\n",
            "234  is numeric value\n",
            "PW skills  is not a numeric value\n"
          ]
        }
      ]
    },
    {
      "cell_type": "code",
      "source": [
        "# Sort a list of tuples having fruit names and their quantity. [(\"mango\",99),(\"orange\",80), (\"grapes\", 1000)]\n",
        "list1 = [(\"mango\",99),(\"orange\",80), (\"grapes\", 1000)]\n",
        "list1.sort(key=lambda x: x[1])\n",
        "print(list1)"
      ],
      "metadata": {
        "colab": {
          "base_uri": "https://localhost:8080/"
        },
        "id": "coZxkxhBGBk6",
        "outputId": "13da3a19-a20e-4828-a46d-0e1bd8838286"
      },
      "execution_count": 87,
      "outputs": [
        {
          "output_type": "stream",
          "name": "stdout",
          "text": [
            "[('orange', 80), ('mango', 99), ('grapes', 1000)]\n"
          ]
        }
      ]
    },
    {
      "cell_type": "code",
      "source": [
        "# Find the squares of numbers from 1 to 10.\n",
        "a =lambda x: x**2\n",
        "for i in range(1,11):\n",
        "  print(a(i),end=\" \")"
      ],
      "metadata": {
        "colab": {
          "base_uri": "https://localhost:8080/"
        },
        "id": "1FNZP11vHqlg",
        "outputId": "65ce1e15-6720-48df-ec5f-162bcd8908c8"
      },
      "execution_count": 89,
      "outputs": [
        {
          "output_type": "stream",
          "name": "stdout",
          "text": [
            "1 4 9 16 25 36 49 64 81 100 "
          ]
        }
      ]
    },
    {
      "cell_type": "code",
      "source": [
        "#Find the cube root of numbers from 1 to 10.\n",
        "a =lambda x: x**(1/3)\n",
        "for i in range(1,11):\n",
        "  print(a(i))"
      ],
      "metadata": {
        "colab": {
          "base_uri": "https://localhost:8080/"
        },
        "id": "qkN1xidVIEAS",
        "outputId": "1d58a2f7-d3aa-4b53-8717-ec4f770d8c8f"
      },
      "execution_count": 94,
      "outputs": [
        {
          "output_type": "stream",
          "name": "stdout",
          "text": [
            "1.0\n",
            "1.2599210498948732\n",
            "1.4422495703074083\n",
            "1.5874010519681994\n",
            "1.7099759466766968\n",
            "1.8171205928321397\n",
            "1.912931182772389\n",
            "2.0\n",
            "2.080083823051904\n",
            "2.154434690031884\n"
          ]
        }
      ]
    },
    {
      "cell_type": "code",
      "source": [
        "# Check if a given number is even.\n",
        "def even(n):\n",
        "  a = lambda n: n%2==0\n",
        "  if a(n)==True:\n",
        "    print(n,\" is a even number\")\n",
        "  else:\n",
        "    print(n,\" is not a even number\")\n",
        "\n",
        "n=int(input(\"Enter a number \"))\n",
        "even(n)   \n",
        "n1 =int(input(\"Enter a number\"))\n",
        "even(n1) "
      ],
      "metadata": {
        "colab": {
          "base_uri": "https://localhost:8080/"
        },
        "id": "UjyeE2UpIlc7",
        "outputId": "5b4c583c-74d8-40be-93aa-ff4c893fb69c"
      },
      "execution_count": 100,
      "outputs": [
        {
          "output_type": "stream",
          "name": "stdout",
          "text": [
            "Enter a number 12\n",
            "12  is a even number\n",
            "Enter a number17\n",
            "17  is not a even number\n"
          ]
        }
      ]
    },
    {
      "cell_type": "code",
      "source": [
        "# Filter odd numbers from the given list.[1,2,3,4,5,6,7,8,9,10]\n",
        "\n",
        "list2=[1,2,3,4,5,6,7,8,9,10]\n",
        "list(filter(lambda x: x%2!=0 , list2))"
      ],
      "metadata": {
        "colab": {
          "base_uri": "https://localhost:8080/"
        },
        "id": "Zcqtk0OIJjO-",
        "outputId": "9f9fa4b1-c22e-4d19-c392-944eaf731173"
      },
      "execution_count": 108,
      "outputs": [
        {
          "output_type": "execute_result",
          "data": {
            "text/plain": [
              "[1, 3, 5, 7, 9]"
            ]
          },
          "metadata": {},
          "execution_count": 108
        }
      ]
    },
    {
      "cell_type": "code",
      "source": [
        "# Sort a list of integers into positive and negative integers lists.[1,2,3,4,5,6,-1,-2,-3,-4,-5,0]\n",
        "list3=[1,2,3,4,5,6,-1,-2,-3,-4,-5,0]\n",
        "a=list(filter(lambda x: x>=0, list3))\n",
        "b=list(filter(lambda x: x<=0, list3))\n",
        "a.sort()\n",
        "b.sort(reverse=True)\n",
        "print(a)\n",
        "print(b)\n"
      ],
      "metadata": {
        "colab": {
          "base_uri": "https://localhost:8080/"
        },
        "id": "g83meYqcL6Vg",
        "outputId": "a0a64581-d3e4-4600-9fc2-a0df59658427"
      },
      "execution_count": 116,
      "outputs": [
        {
          "output_type": "stream",
          "name": "stdout",
          "text": [
            "[0, 1, 2, 3, 4, 5, 6]\n",
            "[0, -1, -2, -3, -4, -5]\n"
          ]
        }
      ]
    }
  ]
}