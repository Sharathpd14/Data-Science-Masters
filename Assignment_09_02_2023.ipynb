{
  "nbformat": 4,
  "nbformat_minor": 0,
  "metadata": {
    "colab": {
      "provenance": []
    },
    "kernelspec": {
      "name": "python3",
      "display_name": "Python 3"
    },
    "language_info": {
      "name": "python"
    }
  },
  "cells": [
    {
      "cell_type": "markdown",
      "source": [
        "Q1, Create a vehicle class with an init method having instance variables as name_of_vehicle, max_speed \n",
        "and average_of_vehicle. "
      ],
      "metadata": {
        "id": "urWJVcupWulf"
      }
    },
    {
      "cell_type": "code",
      "execution_count": null,
      "metadata": {
        "id": "ydVNuj6EWk6k"
      },
      "outputs": [],
      "source": [
        "class vehicle:\n",
        "  def __init__(self, name_of_vehicle, max_speed, average_of_vehicle):\n",
        "     self.name_of_vehicle = name_of_vehicle\n",
        "     self.max_speed = max_speed\n",
        "     self.average_of_vehicle = average_of_vehicle\n",
        "\n",
        "  def return_details(self):\n",
        "    return self.name_of_vehicle, self.max_speed, self.average_of_vehicle"
      ]
    },
    {
      "cell_type": "code",
      "source": [
        "Car = vehicle(\"Benz\", 260, 9)"
      ],
      "metadata": {
        "id": "4XDedfvXXqdh"
      },
      "execution_count": null,
      "outputs": []
    },
    {
      "cell_type": "code",
      "source": [
        "Car.return_details()"
      ],
      "metadata": {
        "colab": {
          "base_uri": "https://localhost:8080/"
        },
        "id": "kJQgz55NXu_W",
        "outputId": "1eb9e5ef-4adc-41c4-8108-4ad0b2ab8759"
      },
      "execution_count": null,
      "outputs": [
        {
          "output_type": "execute_result",
          "data": {
            "text/plain": [
              "('Benz', 260, 9)"
            ]
          },
          "metadata": {},
          "execution_count": 4
        }
      ]
    },
    {
      "cell_type": "markdown",
      "source": [
        "\n",
        "\n",
        "---\n",
        "\n",
        "\n",
        "\n",
        "---\n",
        "\n"
      ],
      "metadata": {
        "id": "hpgIfHi9YXkE"
      }
    },
    {
      "cell_type": "markdown",
      "source": [
        "Q2.  Create a child class car from the vehicle class created in Que 1, which will inherit the vehicle class. \n",
        "Create a method named seating_capacity which takes capacity as an argument and returns the name of \n",
        "the vehicle and its seating capacity."
      ],
      "metadata": {
        "id": "1alQY8abYY-N"
      }
    },
    {
      "cell_type": "code",
      "source": [
        "class vehicle:\n",
        "  def __init__(self, name_of_vehicle, max_speed, average_of_vehicle):\n",
        "     self.name_of_vehicle = name_of_vehicle\n",
        "     self.max_speed = max_speed\n",
        "     self.average_of_vehicle = average_of_vehicle\n",
        "  def seating_capacity(self,capacity):\n",
        "    return self.name_of_vehicle, capacity\n",
        "\n",
        "class car(vehicle):\n",
        "  pass"
      ],
      "metadata": {
        "id": "SJ8ahLpBX87x"
      },
      "execution_count": null,
      "outputs": []
    },
    {
      "cell_type": "code",
      "source": [
        "car_obj =car(\"Benz\", 260, 9)"
      ],
      "metadata": {
        "id": "d5WxeF_4ZmMb"
      },
      "execution_count": null,
      "outputs": []
    },
    {
      "cell_type": "code",
      "source": [
        "car_obj.seating_capacity(5)"
      ],
      "metadata": {
        "colab": {
          "base_uri": "https://localhost:8080/"
        },
        "id": "pOloGjwrZuSP",
        "outputId": "af0a1acb-cec9-462f-debd-08a6f25bbb2b"
      },
      "execution_count": null,
      "outputs": [
        {
          "output_type": "execute_result",
          "data": {
            "text/plain": [
              "('Benz', 5)"
            ]
          },
          "metadata": {},
          "execution_count": 17
        }
      ]
    },
    {
      "cell_type": "markdown",
      "source": [
        "\n",
        "\n",
        "---\n",
        "\n",
        "\n",
        "\n",
        "---\n",
        "\n"
      ],
      "metadata": {
        "id": "B_gXzbakbHyj"
      }
    },
    {
      "cell_type": "markdown",
      "source": [
        "Q3. What is multiple inheritance? Write a python code to demonstrate multiple inheritance"
      ],
      "metadata": {
        "id": "ZPUTOXd_bI1Y"
      }
    },
    {
      "cell_type": "markdown",
      "source": [
        "The process of inheriting the properties of multiple classes into single class."
      ],
      "metadata": {
        "id": "G6qQmct2cIkb"
      }
    },
    {
      "cell_type": "code",
      "source": [
        "class class1:\n",
        "  def test1(self):\n",
        "    print(\"This is my 1st class\")\n",
        "class class2:\n",
        "  def test2(self):\n",
        "    print(\"This is my 2nd class\")\n",
        "class class3(class1,class2):\n",
        "  pass"
      ],
      "metadata": {
        "id": "AAjwGiCMZ6QW"
      },
      "execution_count": null,
      "outputs": []
    },
    {
      "cell_type": "code",
      "source": [
        "check = class3()"
      ],
      "metadata": {
        "id": "wi-npte0cl9a"
      },
      "execution_count": null,
      "outputs": []
    },
    {
      "cell_type": "code",
      "source": [
        "check.test1()"
      ],
      "metadata": {
        "colab": {
          "base_uri": "https://localhost:8080/"
        },
        "id": "MMrnXbSvcvkm",
        "outputId": "db0c4285-0658-47a5-ff72-4e2cd6c8ef90"
      },
      "execution_count": null,
      "outputs": [
        {
          "output_type": "stream",
          "name": "stdout",
          "text": [
            "This is my 1st class\n"
          ]
        }
      ]
    },
    {
      "cell_type": "code",
      "source": [
        "check.test2()"
      ],
      "metadata": {
        "colab": {
          "base_uri": "https://localhost:8080/"
        },
        "id": "N1XNGLMYcyTQ",
        "outputId": "49678bd1-412f-4602-99c8-73885e1c827c"
      },
      "execution_count": null,
      "outputs": [
        {
          "output_type": "stream",
          "name": "stdout",
          "text": [
            "This is my 2nd class\n"
          ]
        }
      ]
    },
    {
      "cell_type": "markdown",
      "source": [
        "\n",
        "\n",
        "---\n",
        "\n",
        "\n",
        "\n",
        "---\n",
        "\n"
      ],
      "metadata": {
        "id": "q-6XT8Jcc4bS"
      }
    },
    {
      "cell_type": "markdown",
      "source": [
        "Q4. What are getter and setter in python? Create a class and create a getter and a setter method in this \n",
        "class."
      ],
      "metadata": {
        "id": "P0wX-Incc-tW"
      }
    },
    {
      "cell_type": "markdown",
      "source": [
        "Getter method allows user to access attribute value from a  defined class"
      ],
      "metadata": {
        "id": "guu7Jicrk7kj"
      }
    },
    {
      "cell_type": "markdown",
      "source": [
        "Setter allows people to modify private,protected variables."
      ],
      "metadata": {
        "id": "MfFLQCf8f4Sv"
      }
    },
    {
      "cell_type": "code",
      "source": [
        "class age:\n",
        "  def __init__(arg, Name, Age, Number):\n",
        "    arg.Name = Name\n",
        "    arg.__Age = Age\n",
        "    arg.__number = Number\n",
        "  @property\n",
        "  # getter\n",
        "  def age_access(self):\n",
        "    return self.__Age\n",
        "  # setter\n",
        "  @age_access.setter\n",
        "  def set_age(arg, age):\n",
        "    if age>=18:\n",
        "      arg.__Age = age\n",
        "    else:\n",
        "      pass\n"
      ],
      "metadata": {
        "id": "7s6JPBlNAfN9"
      },
      "execution_count": null,
      "outputs": []
    },
    {
      "cell_type": "code",
      "source": [
        "age_obj = age(\"Sharath\",21,3283469341)"
      ],
      "metadata": {
        "id": "VqL0NHmdKlu_"
      },
      "execution_count": null,
      "outputs": []
    },
    {
      "cell_type": "code",
      "source": [
        "age_obj.age_access"
      ],
      "metadata": {
        "colab": {
          "base_uri": "https://localhost:8080/"
        },
        "id": "ENq-S3wYL-dp",
        "outputId": "05255ee2-21be-4725-b5fb-00d9077dd9f4"
      },
      "execution_count": null,
      "outputs": [
        {
          "output_type": "execute_result",
          "data": {
            "text/plain": [
              "21"
            ]
          },
          "metadata": {},
          "execution_count": 9
        }
      ]
    },
    {
      "cell_type": "code",
      "source": [
        "age_obj.set_age = 17"
      ],
      "metadata": {
        "id": "zxVCOXyOMKGv"
      },
      "execution_count": null,
      "outputs": []
    },
    {
      "cell_type": "code",
      "source": [
        "age_obj.age_access"
      ],
      "metadata": {
        "colab": {
          "base_uri": "https://localhost:8080/"
        },
        "id": "347tL00fMPZv",
        "outputId": "51776eff-0aa6-49a9-a19f-1d44cdabf41b"
      },
      "execution_count": null,
      "outputs": [
        {
          "output_type": "execute_result",
          "data": {
            "text/plain": [
              "21"
            ]
          },
          "metadata": {},
          "execution_count": 11
        }
      ]
    },
    {
      "cell_type": "code",
      "source": [
        "age_obj.set_age = 19"
      ],
      "metadata": {
        "id": "ZHm0_tglMRn8"
      },
      "execution_count": null,
      "outputs": []
    },
    {
      "cell_type": "code",
      "source": [
        "age_obj.age_access"
      ],
      "metadata": {
        "colab": {
          "base_uri": "https://localhost:8080/"
        },
        "id": "1LNFASaQMUUd",
        "outputId": "9bcb7470-3ce6-4090-8a40-123c11f6fbde"
      },
      "execution_count": null,
      "outputs": [
        {
          "output_type": "execute_result",
          "data": {
            "text/plain": [
              "19"
            ]
          },
          "metadata": {},
          "execution_count": 13
        }
      ]
    },
    {
      "cell_type": "markdown",
      "source": [
        "Q5.What is method overriding in python? Write a python code to demonstrate method overriding."
      ],
      "metadata": {
        "id": "JBR1ZnWINIh9"
      }
    },
    {
      "cell_type": "markdown",
      "source": [
        "The process of changing methods of parent class in child class"
      ],
      "metadata": {
        "id": "xLg41Vt8pkA5"
      }
    },
    {
      "cell_type": "code",
      "source": [
        "class Shape:\n",
        "  def __init__(arg, l,w):\n",
        "    arg.l = l\n",
        "    arg.w = w\n",
        "  def area(self):\n",
        "    return self.l * self.w\n",
        "class Circle(Shape):\n",
        "  def __init__(arg, r):\n",
        "    arg.r = r\n",
        "    super().__init__(r,r)\n",
        "  def area(arg):\n",
        "    return 3.142*super().area()"
      ],
      "metadata": {
        "id": "vIH0ypPSMWJO"
      },
      "execution_count": 36,
      "outputs": []
    },
    {
      "cell_type": "code",
      "source": [
        "circle = Circle(5)"
      ],
      "metadata": {
        "id": "KTROXKBAov_J"
      },
      "execution_count": 37,
      "outputs": []
    },
    {
      "cell_type": "code",
      "source": [
        "print(circle.area())"
      ],
      "metadata": {
        "colab": {
          "base_uri": "https://localhost:8080/"
        },
        "id": "3kl0XZh2ozsW",
        "outputId": "ed2c6af5-b900-4c6b-cddf-315a0e212f83"
      },
      "execution_count": 38,
      "outputs": [
        {
          "output_type": "stream",
          "name": "stdout",
          "text": [
            "78.55\n"
          ]
        }
      ]
    }
  ]
}