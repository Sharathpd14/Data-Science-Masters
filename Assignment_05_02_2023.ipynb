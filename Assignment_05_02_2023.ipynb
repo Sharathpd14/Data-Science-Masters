{
  "nbformat": 4,
  "nbformat_minor": 0,
  "metadata": {
    "colab": {
      "provenance": []
    },
    "kernelspec": {
      "name": "python3",
      "display_name": "Python 3"
    },
    "language_info": {
      "name": "python"
    }
  },
  "cells": [
    {
      "cell_type": "markdown",
      "source": [
        "Q1. Explain Class and Object with respect to Object-Oriented Programming. Give a suitable example."
      ],
      "metadata": {
        "id": "sabg-Fzoq8Vc"
      }
    },
    {
      "cell_type": "markdown",
      "source": [
        "Q1. Explain Class and Object with respect to Object-Oriented Programming. Give a suitable example."
      ],
      "metadata": {
        "id": "srqeceUcrwxr"
      }
    },
    {
      "cell_type": "markdown",
      "source": [
        "Class is collection of objects, which is having some properties.\n",
        "\n",
        "Object is an instance of a class having some behaviours\n",
        "\n",
        "Example: Lets consider car as class, then color, model, weigth etc.. will become objects for the class car"
      ],
      "metadata": {
        "id": "xPkWO9iGryJ7"
      }
    },
    {
      "cell_type": "code",
      "execution_count": 3,
      "metadata": {
        "id": "3T2jlrJKqO6f"
      },
      "outputs": [],
      "source": [
        "class Car:\n",
        "  def __init__(self, color,weight,year,top_speed):\n",
        "    self.color = color\n",
        "    self.weight = weight\n",
        "    self.year = year\n",
        "    self.top_speed = top_speed\n",
        "  \n",
        "  def return_car_details(self):\n",
        "    return self.color, self.weight, self.year, self.top_speed"
      ]
    },
    {
      "cell_type": "code",
      "source": [
        "Benz = Car(\"White\",3000,2022,\"280 km/hr\")"
      ],
      "metadata": {
        "id": "6Jomv5NMtv7X"
      },
      "execution_count": 4,
      "outputs": []
    },
    {
      "cell_type": "code",
      "source": [
        "Benz.return_car_details()"
      ],
      "metadata": {
        "colab": {
          "base_uri": "https://localhost:8080/"
        },
        "id": "OEjPEMlmt9Wn",
        "outputId": "68dadaa7-5a8b-4a4e-bd75-16d911fe545c"
      },
      "execution_count": 5,
      "outputs": [
        {
          "output_type": "execute_result",
          "data": {
            "text/plain": [
              "('White', 3000, 2022, '280 km/hr')"
            ]
          },
          "metadata": {},
          "execution_count": 5
        }
      ]
    },
    {
      "cell_type": "markdown",
      "source": [
        "\n",
        "\n",
        "---\n",
        "\n",
        "\n",
        "\n",
        "---\n",
        "\n"
      ],
      "metadata": {
        "id": "suDhBShk7CD2"
      }
    },
    {
      "cell_type": "markdown",
      "source": [
        "Q2. Name the four pillars of OOPs.\n",
        "\n",
        "\n",
        "1.   Inheritance\n",
        "2.   Polymorphism\n",
        "3.   Abstraction\n",
        "4.   Encapsulation\n",
        "\n",
        "\n",
        "\n"
      ],
      "metadata": {
        "id": "Ahu9gpmqufnp"
      }
    },
    {
      "cell_type": "markdown",
      "source": [
        "\n",
        "\n",
        "---\n",
        "\n",
        "\n",
        "\n",
        "---\n",
        "\n"
      ],
      "metadata": {
        "id": "IkeaDJ3Q65q9"
      }
    },
    {
      "cell_type": "markdown",
      "source": [
        "Q3. Explain why the __init__() function is used. Give a suitable example."
      ],
      "metadata": {
        "id": "_dxUG3o_u_Sv"
      }
    },
    {
      "cell_type": "markdown",
      "source": [
        "**init()** is called everytime when an object is created by the class. **init()** method allows class to initialize object attributes. It is defined inside the class.\n"
      ],
      "metadata": {
        "id": "2ZZxoxsV2o1t"
      }
    },
    {
      "cell_type": "code",
      "source": [
        "class Dog:\n",
        "  def __init__(args, color,Weight):\n",
        "     args.color = color\n",
        "     args.Weight = Weight\n",
        "  def return_Dog_details(args):\n",
        "    return args.color , args.Weight"
      ],
      "metadata": {
        "id": "x9nEoMiL4lBw"
      },
      "execution_count": 31,
      "outputs": []
    },
    {
      "cell_type": "code",
      "source": [
        "Nothing = Dog(\"Browun\",29)"
      ],
      "metadata": {
        "id": "_6V83hM75HLu"
      },
      "execution_count": 32,
      "outputs": []
    },
    {
      "cell_type": "code",
      "source": [
        "Nothing.return_Dog_details()"
      ],
      "metadata": {
        "colab": {
          "base_uri": "https://localhost:8080/"
        },
        "id": "CW5q1b6_5a7F",
        "outputId": "7b55068c-2118-4567-b660-e5f990ca9087"
      },
      "execution_count": 33,
      "outputs": [
        {
          "output_type": "execute_result",
          "data": {
            "text/plain": [
              "('Browun', 29)"
            ]
          },
          "metadata": {},
          "execution_count": 33
        }
      ]
    },
    {
      "cell_type": "markdown",
      "source": [
        "\n",
        "\n",
        "---\n",
        "\n",
        "\n",
        "\n",
        "---\n",
        "\n"
      ],
      "metadata": {
        "id": "TvBe-9RJ63Cf"
      }
    },
    {
      "cell_type": "markdown",
      "source": [
        "Q4. Why self is used in OOPs?"
      ],
      "metadata": {
        "id": "5neH6IqZ550-"
      }
    },
    {
      "cell_type": "markdown",
      "source": [
        "Self variable is used to represent the instance of class. Self works as reference to the object."
      ],
      "metadata": {
        "id": "stvpTf1V6WMw"
      }
    },
    {
      "cell_type": "markdown",
      "source": [
        "\n",
        "\n",
        "---\n",
        "\n",
        "\n",
        "\n",
        "---\n",
        "\n"
      ],
      "metadata": {
        "id": "W7WnVAad6y4A"
      }
    },
    {
      "cell_type": "markdown",
      "source": [
        "Q5. What is inheritance? Give an example for each type of inheritance"
      ],
      "metadata": {
        "id": "J6ktqeWB6wm6"
      }
    },
    {
      "cell_type": "markdown",
      "source": [
        "Inheritance is a process of deriving a new class from existing class.\n",
        "\n",
        "Types:\n",
        " \n",
        "\n",
        "1.   Multiple inheritance\n",
        "2.   Multilevel inheritance\n",
        "\n"
      ],
      "metadata": {
        "id": "id0YM56X7E38"
      }
    },
    {
      "cell_type": "code",
      "source": [
        "#Multiple inheritance\n",
        "class class1:\n",
        "  def test1(self):\n",
        "    print(\"This is my 1st class\")\n",
        "class class2:\n",
        "  def test2(self):\n",
        "    print(\"This is my 2nd class\")\n",
        "class class3(class1,class2):\n",
        "  pass"
      ],
      "metadata": {
        "id": "Z-r3Z1js-PfO"
      },
      "execution_count": 41,
      "outputs": []
    },
    {
      "cell_type": "code",
      "source": [
        "a = class3()"
      ],
      "metadata": {
        "id": "oJu5Nuhs-d2b"
      },
      "execution_count": 42,
      "outputs": []
    },
    {
      "cell_type": "code",
      "source": [
        "a.test1()"
      ],
      "metadata": {
        "colab": {
          "base_uri": "https://localhost:8080/"
        },
        "id": "0JswGESQ-miX",
        "outputId": "0cae06a1-23d8-4eed-94a3-479d74499b77"
      },
      "execution_count": 43,
      "outputs": [
        {
          "output_type": "stream",
          "name": "stdout",
          "text": [
            "This is my 1st class\n"
          ]
        }
      ]
    },
    {
      "cell_type": "code",
      "source": [
        "a.test2()"
      ],
      "metadata": {
        "colab": {
          "base_uri": "https://localhost:8080/"
        },
        "id": "_VhdZd8O-odg",
        "outputId": "5acb02ef-bcfc-4880-a9c6-310fe87d7239"
      },
      "execution_count": 44,
      "outputs": [
        {
          "output_type": "stream",
          "name": "stdout",
          "text": [
            "This is my 2nd class\n"
          ]
        }
      ]
    },
    {
      "cell_type": "code",
      "source": [
        "#Multilevel inheritance\n",
        "class class1:\n",
        "  def test_1(self):\n",
        "    print(\"This is my class 1\")\n",
        "class class2(class1):\n",
        "  def test_2(Self):\n",
        "    print(\"This is my 2nd class\")\n",
        "class class3(class2):\n",
        "  def test_3(self):\n",
        "    print(\"This is my 3rd class \")\n"
      ],
      "metadata": {
        "id": "VAkKUDNr-qUa"
      },
      "execution_count": 50,
      "outputs": []
    },
    {
      "cell_type": "code",
      "source": [
        "a1 = class3()"
      ],
      "metadata": {
        "id": "vlpQUEng_Oqw"
      },
      "execution_count": 51,
      "outputs": []
    },
    {
      "cell_type": "code",
      "source": [
        "a1.test_3()"
      ],
      "metadata": {
        "colab": {
          "base_uri": "https://localhost:8080/"
        },
        "id": "4_AyiwOI_P9W",
        "outputId": "9dc373f5-3398-434e-d17d-4535c5462f9a"
      },
      "execution_count": 52,
      "outputs": [
        {
          "output_type": "stream",
          "name": "stdout",
          "text": [
            "This is my 3rd class \n"
          ]
        }
      ]
    },
    {
      "cell_type": "code",
      "source": [
        "a1.test_1()"
      ],
      "metadata": {
        "colab": {
          "base_uri": "https://localhost:8080/"
        },
        "id": "9MYzabPW_Wlo",
        "outputId": "414decf9-873a-44a2-bb55-3d7bd6135bff"
      },
      "execution_count": 54,
      "outputs": [
        {
          "output_type": "stream",
          "name": "stdout",
          "text": [
            "This is my class 1\n"
          ]
        }
      ]
    },
    {
      "cell_type": "code",
      "source": [
        "a1.test_2()"
      ],
      "metadata": {
        "colab": {
          "base_uri": "https://localhost:8080/"
        },
        "id": "2ESugb5Q_ZHk",
        "outputId": "9f220374-c80a-46f2-93e4-a6f52588499f"
      },
      "execution_count": 53,
      "outputs": [
        {
          "output_type": "stream",
          "name": "stdout",
          "text": [
            "This is my 2nd class\n"
          ]
        }
      ]
    },
    {
      "cell_type": "code",
      "source": [],
      "metadata": {
        "id": "255LXfZC_c4i"
      },
      "execution_count": null,
      "outputs": []
    }
  ]
}